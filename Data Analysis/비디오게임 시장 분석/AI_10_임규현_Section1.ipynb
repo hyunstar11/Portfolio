{
  "nbformat": 4,
  "nbformat_minor": 0,
  "metadata": {
    "colab": {
      "name": "임규현_프로젝트_12_11_토새벽.ipynb",
      "provenance": []
    },
    "kernelspec": {
      "name": "python3",
      "display_name": "Python 3"
    },
    "language_info": {
      "name": "python"
    }
  },
  "cells": [
    {
      "cell_type": "code",
      "source": [
        "#임규현\n",
        "#Project 1"
      ],
      "metadata": {
        "id": "ZLO3fILv1mpO"
      },
      "execution_count": null,
      "outputs": []
    },
    {
      "cell_type": "code",
      "execution_count": 2,
      "metadata": {
        "colab": {
          "base_uri": "https://localhost:8080/"
        },
        "id": "raN1OE6DfEvV",
        "outputId": "e468e006-f058-412b-ffe7-851704627b5a"
      },
      "outputs": [
        {
          "output_type": "stream",
          "name": "stdout",
          "text": [
            "Mounted at /content/drive\n"
          ]
        }
      ],
      "source": [
        "# 구글 드라이브 마운팅 \n",
        "\n",
        "import pandas as pd\n",
        "import numpy as np\n",
        "import matplotlib.pyplot as plt\n",
        "\n",
        "from google.colab import drive\n",
        "drive.mount('/content/drive')"
      ]
    },
    {
      "cell_type": "code",
      "source": [
        "# CSV파일 가져오기 \n",
        "df = pd.read_csv(\"/content/drive/MyDrive/Colab Notebooks/vgames2.csv\")\n",
        "\n",
        "# 데이터와 상관 없는 Column drop 하기. \n",
        "df= df.drop(columns=['Unnamed: 0'])\n",
        "\n",
        "# 데이터 확인 \n",
        "df"
      ],
      "metadata": {
        "id": "G2iMH49dfG9n",
        "colab": {
          "base_uri": "https://localhost:8080/",
          "height": 424
        },
        "outputId": "de1d28fe-9f6c-4eb5-9125-889fc2236a78"
      },
      "execution_count": 3,
      "outputs": [
        {
          "output_type": "execute_result",
          "data": {
            "text/html": [
              "<div>\n",
              "<style scoped>\n",
              "    .dataframe tbody tr th:only-of-type {\n",
              "        vertical-align: middle;\n",
              "    }\n",
              "\n",
              "    .dataframe tbody tr th {\n",
              "        vertical-align: top;\n",
              "    }\n",
              "\n",
              "    .dataframe thead th {\n",
              "        text-align: right;\n",
              "    }\n",
              "</style>\n",
              "<table border=\"1\" class=\"dataframe\">\n",
              "  <thead>\n",
              "    <tr style=\"text-align: right;\">\n",
              "      <th></th>\n",
              "      <th>Name</th>\n",
              "      <th>Platform</th>\n",
              "      <th>Year</th>\n",
              "      <th>Genre</th>\n",
              "      <th>Publisher</th>\n",
              "      <th>NA_Sales</th>\n",
              "      <th>EU_Sales</th>\n",
              "      <th>JP_Sales</th>\n",
              "      <th>Other_Sales</th>\n",
              "    </tr>\n",
              "  </thead>\n",
              "  <tbody>\n",
              "    <tr>\n",
              "      <th>0</th>\n",
              "      <td>Candace Kane's Candy Factory</td>\n",
              "      <td>DS</td>\n",
              "      <td>2008.0</td>\n",
              "      <td>Action</td>\n",
              "      <td>Destineer</td>\n",
              "      <td>0.04</td>\n",
              "      <td>0</td>\n",
              "      <td>0</td>\n",
              "      <td>0</td>\n",
              "    </tr>\n",
              "    <tr>\n",
              "      <th>1</th>\n",
              "      <td>The Munchables</td>\n",
              "      <td>Wii</td>\n",
              "      <td>2009.0</td>\n",
              "      <td>Action</td>\n",
              "      <td>Namco Bandai Games</td>\n",
              "      <td>0.17</td>\n",
              "      <td>0</td>\n",
              "      <td>0</td>\n",
              "      <td>0.01</td>\n",
              "    </tr>\n",
              "    <tr>\n",
              "      <th>2</th>\n",
              "      <td>Otome wa Oanesama Boku ni Koi Shiteru Portable</td>\n",
              "      <td>PSP</td>\n",
              "      <td>2010.0</td>\n",
              "      <td>Adventure</td>\n",
              "      <td>Alchemist</td>\n",
              "      <td>0</td>\n",
              "      <td>0</td>\n",
              "      <td>0.02</td>\n",
              "      <td>0</td>\n",
              "    </tr>\n",
              "    <tr>\n",
              "      <th>3</th>\n",
              "      <td>Deal or No Deal: Special Edition</td>\n",
              "      <td>DS</td>\n",
              "      <td>2010.0</td>\n",
              "      <td>Misc</td>\n",
              "      <td>Zoo Games</td>\n",
              "      <td>0.04</td>\n",
              "      <td>0</td>\n",
              "      <td>0</td>\n",
              "      <td>0</td>\n",
              "    </tr>\n",
              "    <tr>\n",
              "      <th>4</th>\n",
              "      <td>Ben 10 Ultimate Alien: Cosmic Destruction</td>\n",
              "      <td>PS3</td>\n",
              "      <td>2010.0</td>\n",
              "      <td>Platform</td>\n",
              "      <td>D3Publisher</td>\n",
              "      <td>0.12</td>\n",
              "      <td>0.09</td>\n",
              "      <td>0</td>\n",
              "      <td>0.04</td>\n",
              "    </tr>\n",
              "    <tr>\n",
              "      <th>...</th>\n",
              "      <td>...</td>\n",
              "      <td>...</td>\n",
              "      <td>...</td>\n",
              "      <td>...</td>\n",
              "      <td>...</td>\n",
              "      <td>...</td>\n",
              "      <td>...</td>\n",
              "      <td>...</td>\n",
              "      <td>...</td>\n",
              "    </tr>\n",
              "    <tr>\n",
              "      <th>16593</th>\n",
              "      <td>Ice Age 2: The Meltdown</td>\n",
              "      <td>GC</td>\n",
              "      <td>2006.0</td>\n",
              "      <td>Platform</td>\n",
              "      <td>Vivendi Games</td>\n",
              "      <td>0.15</td>\n",
              "      <td>0.04</td>\n",
              "      <td>0</td>\n",
              "      <td>0.01</td>\n",
              "    </tr>\n",
              "    <tr>\n",
              "      <th>16594</th>\n",
              "      <td>Rainbow Islands: Revolution</td>\n",
              "      <td>PSP</td>\n",
              "      <td>2005.0</td>\n",
              "      <td>Action</td>\n",
              "      <td>Rising Star Games</td>\n",
              "      <td>0.01</td>\n",
              "      <td>0</td>\n",
              "      <td>0</td>\n",
              "      <td>0</td>\n",
              "    </tr>\n",
              "    <tr>\n",
              "      <th>16595</th>\n",
              "      <td>NBA 2K16</td>\n",
              "      <td>PS3</td>\n",
              "      <td>2015.0</td>\n",
              "      <td>Sports</td>\n",
              "      <td>Take-Two Interactive</td>\n",
              "      <td>0.44</td>\n",
              "      <td>0.19</td>\n",
              "      <td>0.03</td>\n",
              "      <td>0.13</td>\n",
              "    </tr>\n",
              "    <tr>\n",
              "      <th>16596</th>\n",
              "      <td>Toukiden: The Age of Demons</td>\n",
              "      <td>PSV</td>\n",
              "      <td>2013.0</td>\n",
              "      <td>Action</td>\n",
              "      <td>Tecmo Koei</td>\n",
              "      <td>0.05</td>\n",
              "      <td>0.05</td>\n",
              "      <td>0.25</td>\n",
              "      <td>0.03</td>\n",
              "    </tr>\n",
              "    <tr>\n",
              "      <th>16597</th>\n",
              "      <td>The King of Fighters '95</td>\n",
              "      <td>PS</td>\n",
              "      <td>1996.0</td>\n",
              "      <td>Fighting</td>\n",
              "      <td>Sony Computer Entertainment</td>\n",
              "      <td>0</td>\n",
              "      <td>0</td>\n",
              "      <td>0.16</td>\n",
              "      <td>0.01</td>\n",
              "    </tr>\n",
              "  </tbody>\n",
              "</table>\n",
              "<p>16598 rows × 9 columns</p>\n",
              "</div>"
            ],
            "text/plain": [
              "                                                 Name  ... Other_Sales\n",
              "0                        Candace Kane's Candy Factory  ...           0\n",
              "1                                      The Munchables  ...        0.01\n",
              "2      Otome wa Oanesama Boku ni Koi Shiteru Portable  ...           0\n",
              "3                    Deal or No Deal: Special Edition  ...           0\n",
              "4           Ben 10 Ultimate Alien: Cosmic Destruction  ...        0.04\n",
              "...                                               ...  ...         ...\n",
              "16593                         Ice Age 2: The Meltdown  ...        0.01\n",
              "16594                     Rainbow Islands: Revolution  ...           0\n",
              "16595                                        NBA 2K16  ...        0.13\n",
              "16596                     Toukiden: The Age of Demons  ...        0.03\n",
              "16597                        The King of Fighters '95  ...        0.01\n",
              "\n",
              "[16598 rows x 9 columns]"
            ]
          },
          "metadata": {},
          "execution_count": 3
        }
      ]
    },
    {
      "cell_type": "code",
      "source": [
        "df"
      ],
      "metadata": {
        "colab": {
          "base_uri": "https://localhost:8080/",
          "height": 424
        },
        "id": "JFADoW9_aGLT",
        "outputId": "fc58c2d1-8f65-434b-de42-bd8990c4b6dd"
      },
      "execution_count": 24,
      "outputs": [
        {
          "output_type": "execute_result",
          "data": {
            "text/html": [
              "<div>\n",
              "<style scoped>\n",
              "    .dataframe tbody tr th:only-of-type {\n",
              "        vertical-align: middle;\n",
              "    }\n",
              "\n",
              "    .dataframe tbody tr th {\n",
              "        vertical-align: top;\n",
              "    }\n",
              "\n",
              "    .dataframe thead th {\n",
              "        text-align: right;\n",
              "    }\n",
              "</style>\n",
              "<table border=\"1\" class=\"dataframe\">\n",
              "  <thead>\n",
              "    <tr style=\"text-align: right;\">\n",
              "      <th></th>\n",
              "      <th>Name</th>\n",
              "      <th>Platform</th>\n",
              "      <th>Year</th>\n",
              "      <th>Genre</th>\n",
              "      <th>Publisher</th>\n",
              "      <th>NA_Sales</th>\n",
              "      <th>EU_Sales</th>\n",
              "      <th>JP_Sales</th>\n",
              "      <th>Other_Sales</th>\n",
              "      <th>Total</th>\n",
              "    </tr>\n",
              "  </thead>\n",
              "  <tbody>\n",
              "    <tr>\n",
              "      <th>0</th>\n",
              "      <td>Candace Kane's Candy Factory</td>\n",
              "      <td>DS</td>\n",
              "      <td>2008.0</td>\n",
              "      <td>Action</td>\n",
              "      <td>Destineer</td>\n",
              "      <td>40000.0</td>\n",
              "      <td>0.0</td>\n",
              "      <td>0.0</td>\n",
              "      <td>0.0</td>\n",
              "      <td>40000.0</td>\n",
              "    </tr>\n",
              "    <tr>\n",
              "      <th>1</th>\n",
              "      <td>The Munchables</td>\n",
              "      <td>Wii</td>\n",
              "      <td>2009.0</td>\n",
              "      <td>Action</td>\n",
              "      <td>Namco Bandai Games</td>\n",
              "      <td>170000.0</td>\n",
              "      <td>0.0</td>\n",
              "      <td>0.0</td>\n",
              "      <td>10000.0</td>\n",
              "      <td>180000.0</td>\n",
              "    </tr>\n",
              "    <tr>\n",
              "      <th>2</th>\n",
              "      <td>Otome wa Oanesama Boku ni Koi Shiteru Portable</td>\n",
              "      <td>PSP</td>\n",
              "      <td>2010.0</td>\n",
              "      <td>Adventure</td>\n",
              "      <td>Alchemist</td>\n",
              "      <td>0.0</td>\n",
              "      <td>0.0</td>\n",
              "      <td>20000.0</td>\n",
              "      <td>0.0</td>\n",
              "      <td>20000.0</td>\n",
              "    </tr>\n",
              "    <tr>\n",
              "      <th>3</th>\n",
              "      <td>Deal or No Deal: Special Edition</td>\n",
              "      <td>DS</td>\n",
              "      <td>2010.0</td>\n",
              "      <td>Misc</td>\n",
              "      <td>Zoo Games</td>\n",
              "      <td>40000.0</td>\n",
              "      <td>0.0</td>\n",
              "      <td>0.0</td>\n",
              "      <td>0.0</td>\n",
              "      <td>40000.0</td>\n",
              "    </tr>\n",
              "    <tr>\n",
              "      <th>4</th>\n",
              "      <td>Ben 10 Ultimate Alien: Cosmic Destruction</td>\n",
              "      <td>PS3</td>\n",
              "      <td>2010.0</td>\n",
              "      <td>Platform</td>\n",
              "      <td>D3Publisher</td>\n",
              "      <td>120000.0</td>\n",
              "      <td>90000.0</td>\n",
              "      <td>0.0</td>\n",
              "      <td>40000.0</td>\n",
              "      <td>250000.0</td>\n",
              "    </tr>\n",
              "    <tr>\n",
              "      <th>...</th>\n",
              "      <td>...</td>\n",
              "      <td>...</td>\n",
              "      <td>...</td>\n",
              "      <td>...</td>\n",
              "      <td>...</td>\n",
              "      <td>...</td>\n",
              "      <td>...</td>\n",
              "      <td>...</td>\n",
              "      <td>...</td>\n",
              "      <td>...</td>\n",
              "    </tr>\n",
              "    <tr>\n",
              "      <th>16593</th>\n",
              "      <td>Ice Age 2: The Meltdown</td>\n",
              "      <td>GC</td>\n",
              "      <td>2006.0</td>\n",
              "      <td>Platform</td>\n",
              "      <td>Vivendi Games</td>\n",
              "      <td>150000.0</td>\n",
              "      <td>40000.0</td>\n",
              "      <td>0.0</td>\n",
              "      <td>10000.0</td>\n",
              "      <td>200000.0</td>\n",
              "    </tr>\n",
              "    <tr>\n",
              "      <th>16594</th>\n",
              "      <td>Rainbow Islands: Revolution</td>\n",
              "      <td>PSP</td>\n",
              "      <td>2005.0</td>\n",
              "      <td>Action</td>\n",
              "      <td>Rising Star Games</td>\n",
              "      <td>10000.0</td>\n",
              "      <td>0.0</td>\n",
              "      <td>0.0</td>\n",
              "      <td>0.0</td>\n",
              "      <td>10000.0</td>\n",
              "    </tr>\n",
              "    <tr>\n",
              "      <th>16595</th>\n",
              "      <td>NBA 2K16</td>\n",
              "      <td>PS3</td>\n",
              "      <td>2015.0</td>\n",
              "      <td>Sports</td>\n",
              "      <td>Take-Two Interactive</td>\n",
              "      <td>440000.0</td>\n",
              "      <td>190000.0</td>\n",
              "      <td>30000.0</td>\n",
              "      <td>130000.0</td>\n",
              "      <td>790000.0</td>\n",
              "    </tr>\n",
              "    <tr>\n",
              "      <th>16596</th>\n",
              "      <td>Toukiden: The Age of Demons</td>\n",
              "      <td>PSV</td>\n",
              "      <td>2013.0</td>\n",
              "      <td>Action</td>\n",
              "      <td>Tecmo Koei</td>\n",
              "      <td>50000.0</td>\n",
              "      <td>50000.0</td>\n",
              "      <td>250000.0</td>\n",
              "      <td>30000.0</td>\n",
              "      <td>380000.0</td>\n",
              "    </tr>\n",
              "    <tr>\n",
              "      <th>16597</th>\n",
              "      <td>The King of Fighters '95</td>\n",
              "      <td>PS</td>\n",
              "      <td>1996.0</td>\n",
              "      <td>Fighting</td>\n",
              "      <td>Sony Computer Entertainment</td>\n",
              "      <td>0.0</td>\n",
              "      <td>0.0</td>\n",
              "      <td>160000.0</td>\n",
              "      <td>10000.0</td>\n",
              "      <td>170000.0</td>\n",
              "    </tr>\n",
              "  </tbody>\n",
              "</table>\n",
              "<p>16598 rows × 10 columns</p>\n",
              "</div>"
            ],
            "text/plain": [
              "                                                 Name  ...     Total\n",
              "0                        Candace Kane's Candy Factory  ...   40000.0\n",
              "1                                      The Munchables  ...  180000.0\n",
              "2      Otome wa Oanesama Boku ni Koi Shiteru Portable  ...   20000.0\n",
              "3                    Deal or No Deal: Special Edition  ...   40000.0\n",
              "4           Ben 10 Ultimate Alien: Cosmic Destruction  ...  250000.0\n",
              "...                                               ...  ...       ...\n",
              "16593                         Ice Age 2: The Meltdown  ...  200000.0\n",
              "16594                     Rainbow Islands: Revolution  ...   10000.0\n",
              "16595                                        NBA 2K16  ...  790000.0\n",
              "16596                     Toukiden: The Age of Demons  ...  380000.0\n",
              "16597                        The King of Fighters '95  ...  170000.0\n",
              "\n",
              "[16598 rows x 10 columns]"
            ]
          },
          "metadata": {},
          "execution_count": 24
        }
      ]
    },
    {
      "cell_type": "code",
      "source": [
        "df.sum()"
      ],
      "metadata": {
        "colab": {
          "base_uri": "https://localhost:8080/"
        },
        "id": "YnLfEMGZbeAN",
        "outputId": "30182ef6-4624-4d76-ccdd-9b09832ef157"
      },
      "execution_count": 29,
      "outputs": [
        {
          "output_type": "execute_result",
          "data": {
            "text/plain": [
              "Name           Candace Kane's Candy FactoryThe MunchablesOtom...\n",
              "Platform       DSWiiPSPDSPS3DSPCPSPPS3PS3PSGBAPCDSDSPS3PCPS3P...\n",
              "Year                                                   3.256e+07\n",
              "NA_Sales                                             4.39295e+09\n",
              "EU_Sales                                             2.43413e+09\n",
              "JP_Sales                                             1.29102e+09\n",
              "Other_Sales                                           7.9775e+08\n",
              "Total                                                8.91585e+09\n",
              "dtype: object"
            ]
          },
          "metadata": {},
          "execution_count": 29
        }
      ]
    },
    {
      "cell_type": "code",
      "source": [
        "#결측값 확인 \n",
        "df.isnull().sum()\n",
        "\n",
        "#결측값 0으로 채우기 \n",
        "df=df.fillna(0) \n"
      ],
      "metadata": {
        "id": "Fyu32jxVi32J"
      },
      "execution_count": 4,
      "outputs": []
    },
    {
      "cell_type": "code",
      "source": [
        "# 데이터 속의 M과 K를 변환해주는 함수 정의 (M -> 백만, K -> 천 등) \n",
        "# 그냥 숫자들은 *백만 후 출력 \n",
        "\n",
        "def value_to_float(x):\n",
        "    if type(x) == float or type(x) == int or type(x) == object:\n",
        "        return float(x)\n",
        "    if 'K' in x:\n",
        "        if len(x) > 1:\n",
        "            return float(x.replace('K', '')) * 1000     # K는 1000 으로 변환\n",
        "        return 1000.0\n",
        "    if 'M' in x:\n",
        "        if len(x) > 1:\n",
        "            return float(x.replace('M', '')) * 1000000  # M은 1000000 으로 변환 \n",
        "        return 1000000.0\n",
        "    return float(x) * 1000000  # 그외 일반 소숫점 숫자들은 * 1000000\n"
      ],
      "metadata": {
        "id": "0NOJWKYEiEge"
      },
      "execution_count": 5,
      "outputs": []
    },
    {
      "cell_type": "code",
      "source": [
        "df5_ = df "
      ],
      "metadata": {
        "id": "QsKpYAm70p5Q"
      },
      "execution_count": 6,
      "outputs": []
    },
    {
      "cell_type": "code",
      "source": [
        "# 데이터 변환 진행 \n",
        "df5_['NA_Sales'] = df['NA_Sales'].apply(value_to_float)\n",
        "df5_['EU_Sales'] = df['EU_Sales'].apply(value_to_float)\n",
        "df5_['JP_Sales'] = df['JP_Sales'].apply(value_to_float)\n",
        "df5_['Other_Sales'] = df['Other_Sales'].apply(value_to_float)"
      ],
      "metadata": {
        "id": "fGyjsm0n0lQn"
      },
      "execution_count": 7,
      "outputs": []
    },
    {
      "cell_type": "code",
      "source": [
        "# Q1. 지역에 따라서 선호하는 게임 장르가 다를까? \n",
        "# 결론: 지역에 따라서 선호하는 게임 장르는 다르다. \n",
        "\n",
        "# 장르와 각 지역별 판매량으로 새로운 데이터프레임 정의 \n",
        "df2= df.drop(columns=['Name','Platform','Year','Publisher'])\n",
        "df2"
      ],
      "metadata": {
        "colab": {
          "base_uri": "https://localhost:8080/",
          "height": 424
        },
        "id": "wB0U7tpa64z1",
        "outputId": "80a36b48-234e-4bfd-9b84-fd0bf04d2db0"
      },
      "execution_count": 8,
      "outputs": [
        {
          "output_type": "execute_result",
          "data": {
            "text/html": [
              "<div>\n",
              "<style scoped>\n",
              "    .dataframe tbody tr th:only-of-type {\n",
              "        vertical-align: middle;\n",
              "    }\n",
              "\n",
              "    .dataframe tbody tr th {\n",
              "        vertical-align: top;\n",
              "    }\n",
              "\n",
              "    .dataframe thead th {\n",
              "        text-align: right;\n",
              "    }\n",
              "</style>\n",
              "<table border=\"1\" class=\"dataframe\">\n",
              "  <thead>\n",
              "    <tr style=\"text-align: right;\">\n",
              "      <th></th>\n",
              "      <th>Genre</th>\n",
              "      <th>NA_Sales</th>\n",
              "      <th>EU_Sales</th>\n",
              "      <th>JP_Sales</th>\n",
              "      <th>Other_Sales</th>\n",
              "    </tr>\n",
              "  </thead>\n",
              "  <tbody>\n",
              "    <tr>\n",
              "      <th>0</th>\n",
              "      <td>Action</td>\n",
              "      <td>40000.0</td>\n",
              "      <td>0.0</td>\n",
              "      <td>0.0</td>\n",
              "      <td>0.0</td>\n",
              "    </tr>\n",
              "    <tr>\n",
              "      <th>1</th>\n",
              "      <td>Action</td>\n",
              "      <td>170000.0</td>\n",
              "      <td>0.0</td>\n",
              "      <td>0.0</td>\n",
              "      <td>10000.0</td>\n",
              "    </tr>\n",
              "    <tr>\n",
              "      <th>2</th>\n",
              "      <td>Adventure</td>\n",
              "      <td>0.0</td>\n",
              "      <td>0.0</td>\n",
              "      <td>20000.0</td>\n",
              "      <td>0.0</td>\n",
              "    </tr>\n",
              "    <tr>\n",
              "      <th>3</th>\n",
              "      <td>Misc</td>\n",
              "      <td>40000.0</td>\n",
              "      <td>0.0</td>\n",
              "      <td>0.0</td>\n",
              "      <td>0.0</td>\n",
              "    </tr>\n",
              "    <tr>\n",
              "      <th>4</th>\n",
              "      <td>Platform</td>\n",
              "      <td>120000.0</td>\n",
              "      <td>90000.0</td>\n",
              "      <td>0.0</td>\n",
              "      <td>40000.0</td>\n",
              "    </tr>\n",
              "    <tr>\n",
              "      <th>...</th>\n",
              "      <td>...</td>\n",
              "      <td>...</td>\n",
              "      <td>...</td>\n",
              "      <td>...</td>\n",
              "      <td>...</td>\n",
              "    </tr>\n",
              "    <tr>\n",
              "      <th>16593</th>\n",
              "      <td>Platform</td>\n",
              "      <td>150000.0</td>\n",
              "      <td>40000.0</td>\n",
              "      <td>0.0</td>\n",
              "      <td>10000.0</td>\n",
              "    </tr>\n",
              "    <tr>\n",
              "      <th>16594</th>\n",
              "      <td>Action</td>\n",
              "      <td>10000.0</td>\n",
              "      <td>0.0</td>\n",
              "      <td>0.0</td>\n",
              "      <td>0.0</td>\n",
              "    </tr>\n",
              "    <tr>\n",
              "      <th>16595</th>\n",
              "      <td>Sports</td>\n",
              "      <td>440000.0</td>\n",
              "      <td>190000.0</td>\n",
              "      <td>30000.0</td>\n",
              "      <td>130000.0</td>\n",
              "    </tr>\n",
              "    <tr>\n",
              "      <th>16596</th>\n",
              "      <td>Action</td>\n",
              "      <td>50000.0</td>\n",
              "      <td>50000.0</td>\n",
              "      <td>250000.0</td>\n",
              "      <td>30000.0</td>\n",
              "    </tr>\n",
              "    <tr>\n",
              "      <th>16597</th>\n",
              "      <td>Fighting</td>\n",
              "      <td>0.0</td>\n",
              "      <td>0.0</td>\n",
              "      <td>160000.0</td>\n",
              "      <td>10000.0</td>\n",
              "    </tr>\n",
              "  </tbody>\n",
              "</table>\n",
              "<p>16598 rows × 5 columns</p>\n",
              "</div>"
            ],
            "text/plain": [
              "           Genre  NA_Sales  EU_Sales  JP_Sales  Other_Sales\n",
              "0         Action   40000.0       0.0       0.0          0.0\n",
              "1         Action  170000.0       0.0       0.0      10000.0\n",
              "2      Adventure       0.0       0.0   20000.0          0.0\n",
              "3           Misc   40000.0       0.0       0.0          0.0\n",
              "4       Platform  120000.0   90000.0       0.0      40000.0\n",
              "...          ...       ...       ...       ...          ...\n",
              "16593   Platform  150000.0   40000.0       0.0      10000.0\n",
              "16594     Action   10000.0       0.0       0.0          0.0\n",
              "16595     Sports  440000.0  190000.0   30000.0     130000.0\n",
              "16596     Action   50000.0   50000.0  250000.0      30000.0\n",
              "16597   Fighting       0.0       0.0  160000.0      10000.0\n",
              "\n",
              "[16598 rows x 5 columns]"
            ]
          },
          "metadata": {},
          "execution_count": 8
        }
      ]
    },
    {
      "cell_type": "code",
      "source": [
        "# 총 판매량 구하기 \n",
        "df2['Total'] = df2['NA_Sales']+df2['EU_Sales']+df2['JP_Sales']+df2['Other_Sales']"
      ],
      "metadata": {
        "id": "VAyBP78fZVk1"
      },
      "execution_count": 9,
      "outputs": []
    },
    {
      "cell_type": "code",
      "source": [
        "df['Total'] = df2['Total'] "
      ],
      "metadata": {
        "id": "khfL9Sae7N_a"
      },
      "execution_count": 10,
      "outputs": []
    },
    {
      "cell_type": "code",
      "source": [
        "df6_= df2"
      ],
      "metadata": {
        "id": "wi7mGIlN8kq4"
      },
      "execution_count": 11,
      "outputs": []
    },
    {
      "cell_type": "code",
      "source": [
        "df6_"
      ],
      "metadata": {
        "id": "OkeCtNHO1COy",
        "colab": {
          "base_uri": "https://localhost:8080/",
          "height": 424
        },
        "outputId": "dd6d82a2-6c6e-4cfc-9709-44a95e5edb9c"
      },
      "execution_count": 12,
      "outputs": [
        {
          "output_type": "execute_result",
          "data": {
            "text/html": [
              "<div>\n",
              "<style scoped>\n",
              "    .dataframe tbody tr th:only-of-type {\n",
              "        vertical-align: middle;\n",
              "    }\n",
              "\n",
              "    .dataframe tbody tr th {\n",
              "        vertical-align: top;\n",
              "    }\n",
              "\n",
              "    .dataframe thead th {\n",
              "        text-align: right;\n",
              "    }\n",
              "</style>\n",
              "<table border=\"1\" class=\"dataframe\">\n",
              "  <thead>\n",
              "    <tr style=\"text-align: right;\">\n",
              "      <th></th>\n",
              "      <th>Genre</th>\n",
              "      <th>NA_Sales</th>\n",
              "      <th>EU_Sales</th>\n",
              "      <th>JP_Sales</th>\n",
              "      <th>Other_Sales</th>\n",
              "      <th>Total</th>\n",
              "    </tr>\n",
              "  </thead>\n",
              "  <tbody>\n",
              "    <tr>\n",
              "      <th>0</th>\n",
              "      <td>Action</td>\n",
              "      <td>40000.0</td>\n",
              "      <td>0.0</td>\n",
              "      <td>0.0</td>\n",
              "      <td>0.0</td>\n",
              "      <td>40000.0</td>\n",
              "    </tr>\n",
              "    <tr>\n",
              "      <th>1</th>\n",
              "      <td>Action</td>\n",
              "      <td>170000.0</td>\n",
              "      <td>0.0</td>\n",
              "      <td>0.0</td>\n",
              "      <td>10000.0</td>\n",
              "      <td>180000.0</td>\n",
              "    </tr>\n",
              "    <tr>\n",
              "      <th>2</th>\n",
              "      <td>Adventure</td>\n",
              "      <td>0.0</td>\n",
              "      <td>0.0</td>\n",
              "      <td>20000.0</td>\n",
              "      <td>0.0</td>\n",
              "      <td>20000.0</td>\n",
              "    </tr>\n",
              "    <tr>\n",
              "      <th>3</th>\n",
              "      <td>Misc</td>\n",
              "      <td>40000.0</td>\n",
              "      <td>0.0</td>\n",
              "      <td>0.0</td>\n",
              "      <td>0.0</td>\n",
              "      <td>40000.0</td>\n",
              "    </tr>\n",
              "    <tr>\n",
              "      <th>4</th>\n",
              "      <td>Platform</td>\n",
              "      <td>120000.0</td>\n",
              "      <td>90000.0</td>\n",
              "      <td>0.0</td>\n",
              "      <td>40000.0</td>\n",
              "      <td>250000.0</td>\n",
              "    </tr>\n",
              "    <tr>\n",
              "      <th>...</th>\n",
              "      <td>...</td>\n",
              "      <td>...</td>\n",
              "      <td>...</td>\n",
              "      <td>...</td>\n",
              "      <td>...</td>\n",
              "      <td>...</td>\n",
              "    </tr>\n",
              "    <tr>\n",
              "      <th>16593</th>\n",
              "      <td>Platform</td>\n",
              "      <td>150000.0</td>\n",
              "      <td>40000.0</td>\n",
              "      <td>0.0</td>\n",
              "      <td>10000.0</td>\n",
              "      <td>200000.0</td>\n",
              "    </tr>\n",
              "    <tr>\n",
              "      <th>16594</th>\n",
              "      <td>Action</td>\n",
              "      <td>10000.0</td>\n",
              "      <td>0.0</td>\n",
              "      <td>0.0</td>\n",
              "      <td>0.0</td>\n",
              "      <td>10000.0</td>\n",
              "    </tr>\n",
              "    <tr>\n",
              "      <th>16595</th>\n",
              "      <td>Sports</td>\n",
              "      <td>440000.0</td>\n",
              "      <td>190000.0</td>\n",
              "      <td>30000.0</td>\n",
              "      <td>130000.0</td>\n",
              "      <td>790000.0</td>\n",
              "    </tr>\n",
              "    <tr>\n",
              "      <th>16596</th>\n",
              "      <td>Action</td>\n",
              "      <td>50000.0</td>\n",
              "      <td>50000.0</td>\n",
              "      <td>250000.0</td>\n",
              "      <td>30000.0</td>\n",
              "      <td>380000.0</td>\n",
              "    </tr>\n",
              "    <tr>\n",
              "      <th>16597</th>\n",
              "      <td>Fighting</td>\n",
              "      <td>0.0</td>\n",
              "      <td>0.0</td>\n",
              "      <td>160000.0</td>\n",
              "      <td>10000.0</td>\n",
              "      <td>170000.0</td>\n",
              "    </tr>\n",
              "  </tbody>\n",
              "</table>\n",
              "<p>16598 rows × 6 columns</p>\n",
              "</div>"
            ],
            "text/plain": [
              "           Genre  NA_Sales  EU_Sales  JP_Sales  Other_Sales     Total\n",
              "0         Action   40000.0       0.0       0.0          0.0   40000.0\n",
              "1         Action  170000.0       0.0       0.0      10000.0  180000.0\n",
              "2      Adventure       0.0       0.0   20000.0          0.0   20000.0\n",
              "3           Misc   40000.0       0.0       0.0          0.0   40000.0\n",
              "4       Platform  120000.0   90000.0       0.0      40000.0  250000.0\n",
              "...          ...       ...       ...       ...          ...       ...\n",
              "16593   Platform  150000.0   40000.0       0.0      10000.0  200000.0\n",
              "16594     Action   10000.0       0.0       0.0          0.0   10000.0\n",
              "16595     Sports  440000.0  190000.0   30000.0     130000.0  790000.0\n",
              "16596     Action   50000.0   50000.0  250000.0      30000.0  380000.0\n",
              "16597   Fighting       0.0       0.0  160000.0      10000.0  170000.0\n",
              "\n",
              "[16598 rows x 6 columns]"
            ]
          },
          "metadata": {},
          "execution_count": 12
        }
      ]
    },
    {
      "cell_type": "code",
      "source": [
        "df7_ = df6_"
      ],
      "metadata": {
        "id": "F3Tev0iT4l12"
      },
      "execution_count": 15,
      "outputs": []
    },
    {
      "cell_type": "code",
      "source": [
        "df7Genre = df7_.groupby('Genre').sum()\n"
      ],
      "metadata": {
        "id": "mk6YasPK4x3K"
      },
      "execution_count": 16,
      "outputs": []
    },
    {
      "cell_type": "code",
      "source": [
        "df6Genre = df7Genre\n",
        "df6Genre"
      ],
      "metadata": {
        "id": "3WRc9IwPRYHJ",
        "colab": {
          "base_uri": "https://localhost:8080/",
          "height": 488
        },
        "outputId": "ee376394-8df7-47fe-e4c7-0c7f55c1c5b1"
      },
      "execution_count": 17,
      "outputs": [
        {
          "output_type": "execute_result",
          "data": {
            "text/html": [
              "<div>\n",
              "<style scoped>\n",
              "    .dataframe tbody tr th:only-of-type {\n",
              "        vertical-align: middle;\n",
              "    }\n",
              "\n",
              "    .dataframe tbody tr th {\n",
              "        vertical-align: top;\n",
              "    }\n",
              "\n",
              "    .dataframe thead th {\n",
              "        text-align: right;\n",
              "    }\n",
              "</style>\n",
              "<table border=\"1\" class=\"dataframe\">\n",
              "  <thead>\n",
              "    <tr style=\"text-align: right;\">\n",
              "      <th></th>\n",
              "      <th>NA_Sales</th>\n",
              "      <th>EU_Sales</th>\n",
              "      <th>JP_Sales</th>\n",
              "      <th>Other_Sales</th>\n",
              "      <th>Total</th>\n",
              "    </tr>\n",
              "    <tr>\n",
              "      <th>Genre</th>\n",
              "      <th></th>\n",
              "      <th></th>\n",
              "      <th></th>\n",
              "      <th></th>\n",
              "      <th></th>\n",
              "    </tr>\n",
              "  </thead>\n",
              "  <tbody>\n",
              "    <tr>\n",
              "      <th>0</th>\n",
              "      <td>20610000.0</td>\n",
              "      <td>13120000.0</td>\n",
              "      <td>12880000.0</td>\n",
              "      <td>5540000.0</td>\n",
              "      <td>5.215000e+07</td>\n",
              "    </tr>\n",
              "    <tr>\n",
              "      <th>Action</th>\n",
              "      <td>874810000.0</td>\n",
              "      <td>522160000.0</td>\n",
              "      <td>157900000.0</td>\n",
              "      <td>186450000.0</td>\n",
              "      <td>1.741320e+09</td>\n",
              "    </tr>\n",
              "    <tr>\n",
              "      <th>Adventure</th>\n",
              "      <td>105660000.0</td>\n",
              "      <td>64050000.0</td>\n",
              "      <td>51950000.0</td>\n",
              "      <td>16810000.0</td>\n",
              "      <td>2.384700e+08</td>\n",
              "    </tr>\n",
              "    <tr>\n",
              "      <th>Fighting</th>\n",
              "      <td>223200000.0</td>\n",
              "      <td>101220000.0</td>\n",
              "      <td>87340000.0</td>\n",
              "      <td>36640000.0</td>\n",
              "      <td>4.484000e+08</td>\n",
              "    </tr>\n",
              "    <tr>\n",
              "      <th>Misc</th>\n",
              "      <td>408050000.0</td>\n",
              "      <td>212360000.0</td>\n",
              "      <td>105270000.0</td>\n",
              "      <td>74040000.0</td>\n",
              "      <td>7.997200e+08</td>\n",
              "    </tr>\n",
              "    <tr>\n",
              "      <th>Platform</th>\n",
              "      <td>446440000.0</td>\n",
              "      <td>201610000.0</td>\n",
              "      <td>130650000.0</td>\n",
              "      <td>51530000.0</td>\n",
              "      <td>8.302300e+08</td>\n",
              "    </tr>\n",
              "    <tr>\n",
              "      <th>Puzzle</th>\n",
              "      <td>123350000.0</td>\n",
              "      <td>50730000.0</td>\n",
              "      <td>56870000.0</td>\n",
              "      <td>12520000.0</td>\n",
              "      <td>2.434700e+08</td>\n",
              "    </tr>\n",
              "    <tr>\n",
              "      <th>Racing</th>\n",
              "      <td>357190000.0</td>\n",
              "      <td>237100000.0</td>\n",
              "      <td>56400000.0</td>\n",
              "      <td>77100000.0</td>\n",
              "      <td>7.277900e+08</td>\n",
              "    </tr>\n",
              "    <tr>\n",
              "      <th>Role-Playing</th>\n",
              "      <td>319540000.0</td>\n",
              "      <td>183580000.0</td>\n",
              "      <td>344950000.0</td>\n",
              "      <td>56960000.0</td>\n",
              "      <td>9.050300e+08</td>\n",
              "    </tr>\n",
              "    <tr>\n",
              "      <th>Shooter</th>\n",
              "      <td>581920000.0</td>\n",
              "      <td>313050000.0</td>\n",
              "      <td>38280000.0</td>\n",
              "      <td>102650000.0</td>\n",
              "      <td>1.035900e+09</td>\n",
              "    </tr>\n",
              "    <tr>\n",
              "      <th>Simulation</th>\n",
              "      <td>182960000.0</td>\n",
              "      <td>113350000.0</td>\n",
              "      <td>63700000.0</td>\n",
              "      <td>31480000.0</td>\n",
              "      <td>3.914900e+08</td>\n",
              "    </tr>\n",
              "    <tr>\n",
              "      <th>Sports</th>\n",
              "      <td>680520000.0</td>\n",
              "      <td>376480000.0</td>\n",
              "      <td>135370000.0</td>\n",
              "      <td>134670000.0</td>\n",
              "      <td>1.327040e+09</td>\n",
              "    </tr>\n",
              "    <tr>\n",
              "      <th>Strategy</th>\n",
              "      <td>68700000.0</td>\n",
              "      <td>45320000.0</td>\n",
              "      <td>49460000.0</td>\n",
              "      <td>11360000.0</td>\n",
              "      <td>1.748400e+08</td>\n",
              "    </tr>\n",
              "  </tbody>\n",
              "</table>\n",
              "</div>"
            ],
            "text/plain": [
              "                 NA_Sales     EU_Sales     JP_Sales  Other_Sales         Total\n",
              "Genre                                                                         \n",
              "0              20610000.0   13120000.0   12880000.0    5540000.0  5.215000e+07\n",
              "Action        874810000.0  522160000.0  157900000.0  186450000.0  1.741320e+09\n",
              "Adventure     105660000.0   64050000.0   51950000.0   16810000.0  2.384700e+08\n",
              "Fighting      223200000.0  101220000.0   87340000.0   36640000.0  4.484000e+08\n",
              "Misc          408050000.0  212360000.0  105270000.0   74040000.0  7.997200e+08\n",
              "Platform      446440000.0  201610000.0  130650000.0   51530000.0  8.302300e+08\n",
              "Puzzle        123350000.0   50730000.0   56870000.0   12520000.0  2.434700e+08\n",
              "Racing        357190000.0  237100000.0   56400000.0   77100000.0  7.277900e+08\n",
              "Role-Playing  319540000.0  183580000.0  344950000.0   56960000.0  9.050300e+08\n",
              "Shooter       581920000.0  313050000.0   38280000.0  102650000.0  1.035900e+09\n",
              "Simulation    182960000.0  113350000.0   63700000.0   31480000.0  3.914900e+08\n",
              "Sports        680520000.0  376480000.0  135370000.0  134670000.0  1.327040e+09\n",
              "Strategy       68700000.0   45320000.0   49460000.0   11360000.0  1.748400e+08"
            ]
          },
          "metadata": {},
          "execution_count": 17
        }
      ]
    },
    {
      "cell_type": "code",
      "source": [
        "# 장르가 없는 Column 은 드랍한다. \n",
        "\n",
        "df6Genre = df6Genre.drop(df6Genre.index[0])\n",
        "df6Genre = df6Genre.sort_values('Total',ascending=True)"
      ],
      "metadata": {
        "id": "ZftYoy7bE-zp"
      },
      "execution_count": 18,
      "outputs": []
    },
    {
      "cell_type": "code",
      "source": [
        "# 장르별 토탈 판매량 그래프 \n",
        "\n",
        "df6Genre['Total'].plot.barh()\n",
        "plt.xlabel('Total Sales in Billions of titles Sold')\n",
        "plt.title('Global Total Sales for each Genre')"
      ],
      "metadata": {
        "id": "BZodwROm9Fx9",
        "colab": {
          "base_uri": "https://localhost:8080/",
          "height": 312
        },
        "outputId": "6c5b4e6d-c766-41ec-e765-bbcb99f78229"
      },
      "execution_count": 46,
      "outputs": [
        {
          "output_type": "execute_result",
          "data": {
            "text/plain": [
              "Text(0.5, 1.0, 'Global Total Sales for each Genre')"
            ]
          },
          "metadata": {},
          "execution_count": 46
        },
        {
          "output_type": "display_data",
          "data": {
            "image/png": "[encoded data removed]",
            "text/plain": [
              "<Figure size 432x288 with 1 Axes>"
            ]
          },
          "metadata": {
            "needs_background": "light"
          }
        }
      ]
    },
    {
      "cell_type": "code",
      "source": [
        "# 북미 TOP 5 출고량 데이터 \n",
        "\n",
        "NA5 = df6Genre.drop(columns=['EU_Sales','JP_Sales','Other_Sales','Total'])\n",
        "NA5 = NA5.sort_values('NA_Sales',ascending=True)\n",
        "NA5"
      ],
      "metadata": {
        "colab": {
          "base_uri": "https://localhost:8080/",
          "height": 457
        },
        "id": "kzAD6cOB2VRm",
        "outputId": "dad3600d-ea79-49e2-ed38-8badbab7ef27"
      },
      "execution_count": 47,
      "outputs": [
        {
          "output_type": "execute_result",
          "data": {
            "text/html": [
              "<div>\n",
              "<style scoped>\n",
              "    .dataframe tbody tr th:only-of-type {\n",
              "        vertical-align: middle;\n",
              "    }\n",
              "\n",
              "    .dataframe tbody tr th {\n",
              "        vertical-align: top;\n",
              "    }\n",
              "\n",
              "    .dataframe thead th {\n",
              "        text-align: right;\n",
              "    }\n",
              "</style>\n",
              "<table border=\"1\" class=\"dataframe\">\n",
              "  <thead>\n",
              "    <tr style=\"text-align: right;\">\n",
              "      <th></th>\n",
              "      <th>NA_Sales</th>\n",
              "    </tr>\n",
              "    <tr>\n",
              "      <th>Genre</th>\n",
              "      <th></th>\n",
              "    </tr>\n",
              "  </thead>\n",
              "  <tbody>\n",
              "    <tr>\n",
              "      <th>Strategy</th>\n",
              "      <td>68700000.0</td>\n",
              "    </tr>\n",
              "    <tr>\n",
              "      <th>Adventure</th>\n",
              "      <td>105660000.0</td>\n",
              "    </tr>\n",
              "    <tr>\n",
              "      <th>Puzzle</th>\n",
              "      <td>123350000.0</td>\n",
              "    </tr>\n",
              "    <tr>\n",
              "      <th>Simulation</th>\n",
              "      <td>182960000.0</td>\n",
              "    </tr>\n",
              "    <tr>\n",
              "      <th>Fighting</th>\n",
              "      <td>223200000.0</td>\n",
              "    </tr>\n",
              "    <tr>\n",
              "      <th>Role-Playing</th>\n",
              "      <td>319540000.0</td>\n",
              "    </tr>\n",
              "    <tr>\n",
              "      <th>Racing</th>\n",
              "      <td>357190000.0</td>\n",
              "    </tr>\n",
              "    <tr>\n",
              "      <th>Misc</th>\n",
              "      <td>408050000.0</td>\n",
              "    </tr>\n",
              "    <tr>\n",
              "      <th>Platform</th>\n",
              "      <td>446440000.0</td>\n",
              "    </tr>\n",
              "    <tr>\n",
              "      <th>Shooter</th>\n",
              "      <td>581920000.0</td>\n",
              "    </tr>\n",
              "    <tr>\n",
              "      <th>Sports</th>\n",
              "      <td>680520000.0</td>\n",
              "    </tr>\n",
              "    <tr>\n",
              "      <th>Action</th>\n",
              "      <td>874810000.0</td>\n",
              "    </tr>\n",
              "  </tbody>\n",
              "</table>\n",
              "</div>"
            ],
            "text/plain": [
              "                 NA_Sales\n",
              "Genre                    \n",
              "Strategy       68700000.0\n",
              "Adventure     105660000.0\n",
              "Puzzle        123350000.0\n",
              "Simulation    182960000.0\n",
              "Fighting      223200000.0\n",
              "Role-Playing  319540000.0\n",
              "Racing        357190000.0\n",
              "Misc          408050000.0\n",
              "Platform      446440000.0\n",
              "Shooter       581920000.0\n",
              "Sports        680520000.0\n",
              "Action        874810000.0"
            ]
          },
          "metadata": {},
          "execution_count": 47
        }
      ]
    },
    {
      "cell_type": "code",
      "source": [
        "NA5['NA_Sales'].plot.barh()\n",
        "plt.title('NA Sales for each Genre')"
      ],
      "metadata": {
        "colab": {
          "base_uri": "https://localhost:8080/",
          "height": 311
        },
        "id": "i9FoiyoKF_0M",
        "outputId": "1f4223bb-8455-4137-a1b0-e40b8e045783"
      },
      "execution_count": 52,
      "outputs": [
        {
          "output_type": "execute_result",
          "data": {
            "text/plain": [
              "Text(0.5, 1.0, 'NA Sales for each Genre')"
            ]
          },
          "metadata": {},
          "execution_count": 52
        },
        {
          "output_type": "display_data",
          "data": {
            "image/png": "[encoded data removed]",
            "text/plain": [
              "<Figure size 432x288 with 1 Axes>"
            ]
          },
          "metadata": {
            "needs_background": "light"
          }
        }
      ]
    },
    {
      "cell_type": "code",
      "source": [
        "# 유럽 TOP 5 출고량 데이터 \n",
        "\n",
        "EU5 = df6Genre.drop(columns=['NA_Sales','JP_Sales','Other_Sales', 'Total'])\n",
        "EU5 = EU5.sort_values('EU_Sales',ascending=True)\n",
        "EU5"
      ],
      "metadata": {
        "colab": {
          "base_uri": "https://localhost:8080/",
          "height": 457
        },
        "id": "rioHWg6lQ87Y",
        "outputId": "b624e6ee-23e3-42e8-9651-5accba6b80c8"
      },
      "execution_count": 53,
      "outputs": [
        {
          "output_type": "execute_result",
          "data": {
            "text/html": [
              "<div>\n",
              "<style scoped>\n",
              "    .dataframe tbody tr th:only-of-type {\n",
              "        vertical-align: middle;\n",
              "    }\n",
              "\n",
              "    .dataframe tbody tr th {\n",
              "        vertical-align: top;\n",
              "    }\n",
              "\n",
              "    .dataframe thead th {\n",
              "        text-align: right;\n",
              "    }\n",
              "</style>\n",
              "<table border=\"1\" class=\"dataframe\">\n",
              "  <thead>\n",
              "    <tr style=\"text-align: right;\">\n",
              "      <th></th>\n",
              "      <th>EU_Sales</th>\n",
              "    </tr>\n",
              "    <tr>\n",
              "      <th>Genre</th>\n",
              "      <th></th>\n",
              "    </tr>\n",
              "  </thead>\n",
              "  <tbody>\n",
              "    <tr>\n",
              "      <th>Strategy</th>\n",
              "      <td>45320000.0</td>\n",
              "    </tr>\n",
              "    <tr>\n",
              "      <th>Puzzle</th>\n",
              "      <td>50730000.0</td>\n",
              "    </tr>\n",
              "    <tr>\n",
              "      <th>Adventure</th>\n",
              "      <td>64050000.0</td>\n",
              "    </tr>\n",
              "    <tr>\n",
              "      <th>Fighting</th>\n",
              "      <td>101220000.0</td>\n",
              "    </tr>\n",
              "    <tr>\n",
              "      <th>Simulation</th>\n",
              "      <td>113350000.0</td>\n",
              "    </tr>\n",
              "    <tr>\n",
              "      <th>Role-Playing</th>\n",
              "      <td>183580000.0</td>\n",
              "    </tr>\n",
              "    <tr>\n",
              "      <th>Platform</th>\n",
              "      <td>201610000.0</td>\n",
              "    </tr>\n",
              "    <tr>\n",
              "      <th>Misc</th>\n",
              "      <td>212360000.0</td>\n",
              "    </tr>\n",
              "    <tr>\n",
              "      <th>Racing</th>\n",
              "      <td>237100000.0</td>\n",
              "    </tr>\n",
              "    <tr>\n",
              "      <th>Shooter</th>\n",
              "      <td>313050000.0</td>\n",
              "    </tr>\n",
              "    <tr>\n",
              "      <th>Sports</th>\n",
              "      <td>376480000.0</td>\n",
              "    </tr>\n",
              "    <tr>\n",
              "      <th>Action</th>\n",
              "      <td>522160000.0</td>\n",
              "    </tr>\n",
              "  </tbody>\n",
              "</table>\n",
              "</div>"
            ],
            "text/plain": [
              "                 EU_Sales\n",
              "Genre                    \n",
              "Strategy       45320000.0\n",
              "Puzzle         50730000.0\n",
              "Adventure      64050000.0\n",
              "Fighting      101220000.0\n",
              "Simulation    113350000.0\n",
              "Role-Playing  183580000.0\n",
              "Platform      201610000.0\n",
              "Misc          212360000.0\n",
              "Racing        237100000.0\n",
              "Shooter       313050000.0\n",
              "Sports        376480000.0\n",
              "Action        522160000.0"
            ]
          },
          "metadata": {},
          "execution_count": 53
        }
      ]
    },
    {
      "cell_type": "code",
      "source": [
        "EU5['EU_Sales'].plot.barh()\n",
        "plt.title('EU Sales for each Genre')"
      ],
      "metadata": {
        "colab": {
          "base_uri": "https://localhost:8080/",
          "height": 311
        },
        "id": "pGUxKiCaGKLJ",
        "outputId": "17bd3441-b752-42e9-b0d1-0ddce8bd2c35"
      },
      "execution_count": 54,
      "outputs": [
        {
          "output_type": "execute_result",
          "data": {
            "text/plain": [
              "Text(0.5, 1.0, 'EU Sales for each Genre')"
            ]
          },
          "metadata": {},
          "execution_count": 54
        },
        {
          "output_type": "display_data",
          "data": {
            "image/png": "[encoded data removed]",
            "text/plain": [
              "<Figure size 432x288 with 1 Axes>"
            ]
          },
          "metadata": {
            "needs_background": "light"
          }
        }
      ]
    },
    {
      "cell_type": "code",
      "source": [
        "\n",
        "# 일본 TOP 5 출고량 데이터 \n",
        "JP5 = df6Genre.drop(columns=['NA_Sales','Other_Sales','EU_Sales','Total'])\n",
        "JP5 = JP5.sort_values('JP_Sales',ascending=True)\n",
        "JP5"
      ],
      "metadata": {
        "colab": {
          "base_uri": "https://localhost:8080/",
          "height": 457
        },
        "id": "gUcHdu3MRDH2",
        "outputId": "e00d3b3b-a507-4f83-ffb2-2b1d720cc0a5"
      },
      "execution_count": 61,
      "outputs": [
        {
          "output_type": "execute_result",
          "data": {
            "text/html": [
              "<div>\n",
              "<style scoped>\n",
              "    .dataframe tbody tr th:only-of-type {\n",
              "        vertical-align: middle;\n",
              "    }\n",
              "\n",
              "    .dataframe tbody tr th {\n",
              "        vertical-align: top;\n",
              "    }\n",
              "\n",
              "    .dataframe thead th {\n",
              "        text-align: right;\n",
              "    }\n",
              "</style>\n",
              "<table border=\"1\" class=\"dataframe\">\n",
              "  <thead>\n",
              "    <tr style=\"text-align: right;\">\n",
              "      <th></th>\n",
              "      <th>JP_Sales</th>\n",
              "    </tr>\n",
              "    <tr>\n",
              "      <th>Genre</th>\n",
              "      <th></th>\n",
              "    </tr>\n",
              "  </thead>\n",
              "  <tbody>\n",
              "    <tr>\n",
              "      <th>Shooter</th>\n",
              "      <td>38280000.0</td>\n",
              "    </tr>\n",
              "    <tr>\n",
              "      <th>Strategy</th>\n",
              "      <td>49460000.0</td>\n",
              "    </tr>\n",
              "    <tr>\n",
              "      <th>Adventure</th>\n",
              "      <td>51950000.0</td>\n",
              "    </tr>\n",
              "    <tr>\n",
              "      <th>Racing</th>\n",
              "      <td>56400000.0</td>\n",
              "    </tr>\n",
              "    <tr>\n",
              "      <th>Puzzle</th>\n",
              "      <td>56870000.0</td>\n",
              "    </tr>\n",
              "    <tr>\n",
              "      <th>Simulation</th>\n",
              "      <td>63700000.0</td>\n",
              "    </tr>\n",
              "    <tr>\n",
              "      <th>Fighting</th>\n",
              "      <td>87340000.0</td>\n",
              "    </tr>\n",
              "    <tr>\n",
              "      <th>Misc</th>\n",
              "      <td>105270000.0</td>\n",
              "    </tr>\n",
              "    <tr>\n",
              "      <th>Platform</th>\n",
              "      <td>130650000.0</td>\n",
              "    </tr>\n",
              "    <tr>\n",
              "      <th>Sports</th>\n",
              "      <td>135370000.0</td>\n",
              "    </tr>\n",
              "    <tr>\n",
              "      <th>Action</th>\n",
              "      <td>157900000.0</td>\n",
              "    </tr>\n",
              "    <tr>\n",
              "      <th>Role-Playing</th>\n",
              "      <td>344950000.0</td>\n",
              "    </tr>\n",
              "  </tbody>\n",
              "</table>\n",
              "</div>"
            ],
            "text/plain": [
              "                 JP_Sales\n",
              "Genre                    \n",
              "Shooter        38280000.0\n",
              "Strategy       49460000.0\n",
              "Adventure      51950000.0\n",
              "Racing         56400000.0\n",
              "Puzzle         56870000.0\n",
              "Simulation     63700000.0\n",
              "Fighting       87340000.0\n",
              "Misc          105270000.0\n",
              "Platform      130650000.0\n",
              "Sports        135370000.0\n",
              "Action        157900000.0\n",
              "Role-Playing  344950000.0"
            ]
          },
          "metadata": {},
          "execution_count": 61
        }
      ]
    },
    {
      "cell_type": "code",
      "source": [
        "JP5['JP_Sales'].plot.barh()\n",
        "plt.title('JP Sales for each Genre')"
      ],
      "metadata": {
        "colab": {
          "base_uri": "https://localhost:8080/",
          "height": 311
        },
        "id": "D-pzXuSDGOAq",
        "outputId": "d1761fcb-ff8c-4529-afc3-61ff04032188"
      },
      "execution_count": 63,
      "outputs": [
        {
          "output_type": "execute_result",
          "data": {
            "text/plain": [
              "Text(0.5, 1.0, 'JP Sales for each Genre')"
            ]
          },
          "metadata": {},
          "execution_count": 63
        },
        {
          "output_type": "display_data",
          "data": {
            "image/png": "[encoded data removed]",
            "text/plain": [
              "<Figure size 432x288 with 1 Axes>"
            ]
          },
          "metadata": {
            "needs_background": "light"
          }
        }
      ]
    },
    {
      "cell_type": "code",
      "source": [
        "# 그 외 TOP 5 출고량 데이터 \n",
        "\n",
        "OTHER5 = df6Genre.drop(columns=['NA_Sales','JP_Sales','EU_Sales','Total'])\n",
        "OTHER5 = OTHER5.sort_values('Other_Sales',ascending=True)\n",
        "OTHER5"
      ],
      "metadata": {
        "colab": {
          "base_uri": "https://localhost:8080/",
          "height": 457
        },
        "id": "sBg85DkARAcq",
        "outputId": "770d829f-9ce3-44ca-dc26-806e5d01d9d8"
      },
      "execution_count": 59,
      "outputs": [
        {
          "output_type": "execute_result",
          "data": {
            "text/html": [
              "<div>\n",
              "<style scoped>\n",
              "    .dataframe tbody tr th:only-of-type {\n",
              "        vertical-align: middle;\n",
              "    }\n",
              "\n",
              "    .dataframe tbody tr th {\n",
              "        vertical-align: top;\n",
              "    }\n",
              "\n",
              "    .dataframe thead th {\n",
              "        text-align: right;\n",
              "    }\n",
              "</style>\n",
              "<table border=\"1\" class=\"dataframe\">\n",
              "  <thead>\n",
              "    <tr style=\"text-align: right;\">\n",
              "      <th></th>\n",
              "      <th>Other_Sales</th>\n",
              "    </tr>\n",
              "    <tr>\n",
              "      <th>Genre</th>\n",
              "      <th></th>\n",
              "    </tr>\n",
              "  </thead>\n",
              "  <tbody>\n",
              "    <tr>\n",
              "      <th>Strategy</th>\n",
              "      <td>11360000.0</td>\n",
              "    </tr>\n",
              "    <tr>\n",
              "      <th>Puzzle</th>\n",
              "      <td>12520000.0</td>\n",
              "    </tr>\n",
              "    <tr>\n",
              "      <th>Adventure</th>\n",
              "      <td>16810000.0</td>\n",
              "    </tr>\n",
              "    <tr>\n",
              "      <th>Simulation</th>\n",
              "      <td>31480000.0</td>\n",
              "    </tr>\n",
              "    <tr>\n",
              "      <th>Fighting</th>\n",
              "      <td>36640000.0</td>\n",
              "    </tr>\n",
              "    <tr>\n",
              "      <th>Platform</th>\n",
              "      <td>51530000.0</td>\n",
              "    </tr>\n",
              "    <tr>\n",
              "      <th>Role-Playing</th>\n",
              "      <td>56960000.0</td>\n",
              "    </tr>\n",
              "    <tr>\n",
              "      <th>Misc</th>\n",
              "      <td>74040000.0</td>\n",
              "    </tr>\n",
              "    <tr>\n",
              "      <th>Racing</th>\n",
              "      <td>77100000.0</td>\n",
              "    </tr>\n",
              "    <tr>\n",
              "      <th>Shooter</th>\n",
              "      <td>102650000.0</td>\n",
              "    </tr>\n",
              "    <tr>\n",
              "      <th>Sports</th>\n",
              "      <td>134670000.0</td>\n",
              "    </tr>\n",
              "    <tr>\n",
              "      <th>Action</th>\n",
              "      <td>186450000.0</td>\n",
              "    </tr>\n",
              "  </tbody>\n",
              "</table>\n",
              "</div>"
            ],
            "text/plain": [
              "              Other_Sales\n",
              "Genre                    \n",
              "Strategy       11360000.0\n",
              "Puzzle         12520000.0\n",
              "Adventure      16810000.0\n",
              "Simulation     31480000.0\n",
              "Fighting       36640000.0\n",
              "Platform       51530000.0\n",
              "Role-Playing   56960000.0\n",
              "Misc           74040000.0\n",
              "Racing         77100000.0\n",
              "Shooter       102650000.0\n",
              "Sports        134670000.0\n",
              "Action        186450000.0"
            ]
          },
          "metadata": {},
          "execution_count": 59
        }
      ]
    },
    {
      "cell_type": "code",
      "source": [
        "OTHER5['Other_Sales'].plot.barh()\n",
        "plt.title('Other Sales for each Genre')"
      ],
      "metadata": {
        "colab": {
          "base_uri": "https://localhost:8080/",
          "height": 311
        },
        "id": "3i0UpiFpGWIf",
        "outputId": "c19d06d3-7954-4607-d9f7-2d88a6d7cf02"
      },
      "execution_count": 60,
      "outputs": [
        {
          "output_type": "execute_result",
          "data": {
            "text/plain": [
              "Text(0.5, 1.0, 'Other Sales for each Genre')"
            ]
          },
          "metadata": {},
          "execution_count": 60
        },
        {
          "output_type": "display_data",
          "data": {
            "image/png": "[encoded data removed]",
            "text/plain": [
              "<Figure size 432x288 with 1 Axes>"
            ]
          },
          "metadata": {
            "needs_background": "light"
          }
        }
      ]
    },
    {
      "cell_type": "code",
      "source": [
        "#북미 - 액션,스포츠, 슈터, 레이싱, \bMISC\n",
        "#유럽 - 액션,스포츠, 슈터, 레이싱, MISC \n",
        "#일본 - 롤플레잉, 액션, 스포츠, 플랫폼, MISC \n",
        "#그 외 - 액션,스포츠, 슈터, 레이싱, MISC \n",
        "\n",
        "#일단 일본을 제외한 모든 지역들의 경우 TOP5 선호도가 일치한 것으로 파악됩니다. \n",
        "#그렇다면 지역에 따라서 선호하는 게임 장르가 다른가 아닌가? 이 질문에 답하기 위해 조금 더 통계학적인 접근을 해보기로 하겠습니다. \n",
        "\n",
        "# 게임 출고 분포에 대해 파악해보겠습니다. (F-Stat); 지역별 sales 에 연관이 있는지?? "
      ],
      "metadata": {
        "id": "igrOUvr8s6iK"
      },
      "execution_count": null,
      "outputs": []
    },
    {
      "cell_type": "code",
      "source": [
        "df7Genre = df6Genre.transpose()\n",
        "df7Genre"
      ],
      "metadata": {
        "colab": {
          "base_uri": "https://localhost:8080/",
          "height": 206
        },
        "id": "WRLgh3Qo7PIM",
        "outputId": "c5fe04f3-b1a8-4ecd-e100-b8e6f0550996"
      },
      "execution_count": null,
      "outputs": [
        {
          "output_type": "execute_result",
          "data": {
            "text/html": [
              "<div>\n",
              "<style scoped>\n",
              "    .dataframe tbody tr th:only-of-type {\n",
              "        vertical-align: middle;\n",
              "    }\n",
              "\n",
              "    .dataframe tbody tr th {\n",
              "        vertical-align: top;\n",
              "    }\n",
              "\n",
              "    .dataframe thead th {\n",
              "        text-align: right;\n",
              "    }\n",
              "</style>\n",
              "<table border=\"1\" class=\"dataframe\">\n",
              "  <thead>\n",
              "    <tr style=\"text-align: right;\">\n",
              "      <th>Genre</th>\n",
              "      <th>Action</th>\n",
              "      <th>Adventure</th>\n",
              "      <th>Fighting</th>\n",
              "      <th>Misc</th>\n",
              "      <th>Platform</th>\n",
              "      <th>Puzzle</th>\n",
              "      <th>Racing</th>\n",
              "      <th>Role-Playing</th>\n",
              "      <th>Shooter</th>\n",
              "      <th>Simulation</th>\n",
              "      <th>Sports</th>\n",
              "      <th>Strategy</th>\n",
              "    </tr>\n",
              "  </thead>\n",
              "  <tbody>\n",
              "    <tr>\n",
              "      <th>NA_Sales</th>\n",
              "      <td>8.748100e+08</td>\n",
              "      <td>105660000.0</td>\n",
              "      <td>223200000.0</td>\n",
              "      <td>408050000.0</td>\n",
              "      <td>446440000.0</td>\n",
              "      <td>123350000.0</td>\n",
              "      <td>357190000.0</td>\n",
              "      <td>319540000.0</td>\n",
              "      <td>5.819200e+08</td>\n",
              "      <td>182960000.0</td>\n",
              "      <td>6.805200e+08</td>\n",
              "      <td>68700000.0</td>\n",
              "    </tr>\n",
              "    <tr>\n",
              "      <th>EU_Sales</th>\n",
              "      <td>5.221600e+08</td>\n",
              "      <td>64050000.0</td>\n",
              "      <td>101220000.0</td>\n",
              "      <td>212360000.0</td>\n",
              "      <td>201610000.0</td>\n",
              "      <td>50730000.0</td>\n",
              "      <td>237100000.0</td>\n",
              "      <td>183580000.0</td>\n",
              "      <td>3.130500e+08</td>\n",
              "      <td>113350000.0</td>\n",
              "      <td>3.764800e+08</td>\n",
              "      <td>45320000.0</td>\n",
              "    </tr>\n",
              "    <tr>\n",
              "      <th>JP_Sales</th>\n",
              "      <td>1.579000e+08</td>\n",
              "      <td>51950000.0</td>\n",
              "      <td>87340000.0</td>\n",
              "      <td>105270000.0</td>\n",
              "      <td>130650000.0</td>\n",
              "      <td>56870000.0</td>\n",
              "      <td>56400000.0</td>\n",
              "      <td>344950000.0</td>\n",
              "      <td>3.828000e+07</td>\n",
              "      <td>63700000.0</td>\n",
              "      <td>1.353700e+08</td>\n",
              "      <td>49460000.0</td>\n",
              "    </tr>\n",
              "    <tr>\n",
              "      <th>Other_Sales</th>\n",
              "      <td>1.864500e+08</td>\n",
              "      <td>16810000.0</td>\n",
              "      <td>36640000.0</td>\n",
              "      <td>74040000.0</td>\n",
              "      <td>51530000.0</td>\n",
              "      <td>12520000.0</td>\n",
              "      <td>77100000.0</td>\n",
              "      <td>56960000.0</td>\n",
              "      <td>1.026500e+08</td>\n",
              "      <td>31480000.0</td>\n",
              "      <td>1.346700e+08</td>\n",
              "      <td>11360000.0</td>\n",
              "    </tr>\n",
              "    <tr>\n",
              "      <th>Total</th>\n",
              "      <td>1.741320e+09</td>\n",
              "      <td>238470000.0</td>\n",
              "      <td>448400000.0</td>\n",
              "      <td>799720000.0</td>\n",
              "      <td>830230000.0</td>\n",
              "      <td>243470000.0</td>\n",
              "      <td>727790000.0</td>\n",
              "      <td>905030000.0</td>\n",
              "      <td>1.035900e+09</td>\n",
              "      <td>391490000.0</td>\n",
              "      <td>1.327040e+09</td>\n",
              "      <td>174840000.0</td>\n",
              "    </tr>\n",
              "  </tbody>\n",
              "</table>\n",
              "</div>"
            ],
            "text/plain": [
              "Genre              Action    Adventure  ...        Sports     Strategy\n",
              "NA_Sales     8.748100e+08  105660000.0  ...  6.805200e+08   68700000.0\n",
              "EU_Sales     5.221600e+08   64050000.0  ...  3.764800e+08   45320000.0\n",
              "JP_Sales     1.579000e+08   51950000.0  ...  1.353700e+08   49460000.0\n",
              "Other_Sales  1.864500e+08   16810000.0  ...  1.346700e+08   11360000.0\n",
              "Total        1.741320e+09  238470000.0  ...  1.327040e+09  174840000.0\n",
              "\n",
              "[5 rows x 12 columns]"
            ]
          },
          "metadata": {},
          "execution_count": 143
        }
      ]
    },
    {
      "cell_type": "code",
      "source": [
        "NA_Sales = np.array([874810000.0,\t105660000.0,\t223200000.0,\t408050000.0,\t446440000.0,\t123350000.0,\t357190000.0,\t319540000.0,\t581920000.0,\t182960000.0,\t680520000.0,\t68700000.0])\n",
        "EU_Sales = np.array([522160000.0,\t64050000.0,\t101220000.0,\t212360000.0,\t201610000.0,\t50730000.0,\t237100000.0,\t183580000.0,\t313050000.0,\t113350000.0,\t376480000.0,\t45320000.0])\n",
        "JP_Sales = np.array([157900000.0,\t51950000.0,\t87340000.0,\t105270000.0,\t130650000.0,\t56870000.0,\t56400000.0,\t344950000.0,\t38280000.0,\t63700000.0,\t135370000.0,\t49460000.0])\n",
        "Other_Sales = np.array([186450000.0,\t16810000.0,\t36640000.0,\t74040000.0,\t51530000.0,\t12520000.0,\t77100000.0,\t56960000.0,\t102650000.0,\t31480000.0,\t134670000.0,\t11360000.0])"
      ],
      "metadata": {
        "id": "_9mOCXblNRzW"
      },
      "execution_count": null,
      "outputs": []
    },
    {
      "cell_type": "code",
      "source": [
        "# F-Stat by Scipy 로 가설검정 시행 \n",
        "# 지역별로 선호하는 장르에 차이가 있나 없나? \n",
        "\n",
        "# H0: 지역별 출고량의 분포에 차이가 없다. \n",
        "# Ha: 지역별 출고량의 분포에 차이가 있다.\n",
        "\n",
        "#P-value 가 유의 수준 0.05 p-value 보다 작기 때문에 귀무가설을 버리고 대립 가설을 채택합니다. \n",
        "#즉 지역별 출고량의 분포에 차이가 있다~ 즉 지역에 따라서 선호하는 게임 장르가 다르다라는 결론에 도달하게 됩니다. \n",
        "#이 경우에는 북미, 유럽, 그외의 경우 선호하는 게임 장르가 비슷하지만, 일본의 경우에는 출고량만 봐도 선호도가 다르다는 걸 한 눈에 파악할 수 있습니다. \n",
        "\n",
        "from scipy.stats import f_oneway\n",
        "f_oneway(NA_Sales, EU_Sales, JP_Sales,Other_Sales) "
      ],
      "metadata": {
        "colab": {
          "base_uri": "https://localhost:8080/"
        },
        "id": "Fx2zhSDVMhV3",
        "outputId": "48352a43-2e54-4e60-cb6d-a476750624f2"
      },
      "execution_count": null,
      "outputs": [
        {
          "output_type": "execute_result",
          "data": {
            "text/plain": [
              "F_onewayResult(statistic=9.055483346936597, pvalue=8.756119956631937e-05)"
            ]
          },
          "metadata": {},
          "execution_count": 46
        }
      ]
    },
    {
      "cell_type": "code",
      "source": [
        "# 장르와 지역별 판매량의 상관관계?\n",
        "# 이 내용 같은 경우에는 발표에는 포함하지 않았습니다. \n",
        " \n",
        "# '장르' 와 '지역' 에 대한 Chi-Square 검정 시행. \n",
        "\n",
        "#x**2, p-value, degrees of freedom \n",
        "#장르와 지역별 매출은 연관 관계가 있다? \n",
        "#H0: 장르와 지역은 출고량은 연관 관계가 없다. \n",
        "#Ha: 장르와 지역별 출고량은 연관 관계가 있다.\n",
        "\n",
        "df6Genre"
      ],
      "metadata": {
        "id": "ADGUcDm33UWW",
        "colab": {
          "base_uri": "https://localhost:8080/",
          "height": 457
        },
        "outputId": "7e6322b1-bf80-42b5-e5b2-101e49b4d99b"
      },
      "execution_count": null,
      "outputs": [
        {
          "output_type": "execute_result",
          "data": {
            "text/html": [
              "<div>\n",
              "<style scoped>\n",
              "    .dataframe tbody tr th:only-of-type {\n",
              "        vertical-align: middle;\n",
              "    }\n",
              "\n",
              "    .dataframe tbody tr th {\n",
              "        vertical-align: top;\n",
              "    }\n",
              "\n",
              "    .dataframe thead th {\n",
              "        text-align: right;\n",
              "    }\n",
              "</style>\n",
              "<table border=\"1\" class=\"dataframe\">\n",
              "  <thead>\n",
              "    <tr style=\"text-align: right;\">\n",
              "      <th></th>\n",
              "      <th>NA_Sales</th>\n",
              "      <th>EU_Sales</th>\n",
              "      <th>JP_Sales</th>\n",
              "      <th>Other_Sales</th>\n",
              "      <th>Total</th>\n",
              "    </tr>\n",
              "    <tr>\n",
              "      <th>Genre</th>\n",
              "      <th></th>\n",
              "      <th></th>\n",
              "      <th></th>\n",
              "      <th></th>\n",
              "      <th></th>\n",
              "    </tr>\n",
              "  </thead>\n",
              "  <tbody>\n",
              "    <tr>\n",
              "      <th>Strategy</th>\n",
              "      <td>68700000.0</td>\n",
              "      <td>45320000.0</td>\n",
              "      <td>49460000.0</td>\n",
              "      <td>11360000.0</td>\n",
              "      <td>1.748400e+08</td>\n",
              "    </tr>\n",
              "    <tr>\n",
              "      <th>Adventure</th>\n",
              "      <td>105660000.0</td>\n",
              "      <td>64050000.0</td>\n",
              "      <td>51950000.0</td>\n",
              "      <td>16810000.0</td>\n",
              "      <td>2.384700e+08</td>\n",
              "    </tr>\n",
              "    <tr>\n",
              "      <th>Puzzle</th>\n",
              "      <td>123350000.0</td>\n",
              "      <td>50730000.0</td>\n",
              "      <td>56870000.0</td>\n",
              "      <td>12520000.0</td>\n",
              "      <td>2.434700e+08</td>\n",
              "    </tr>\n",
              "    <tr>\n",
              "      <th>Simulation</th>\n",
              "      <td>182960000.0</td>\n",
              "      <td>113350000.0</td>\n",
              "      <td>63700000.0</td>\n",
              "      <td>31480000.0</td>\n",
              "      <td>3.914900e+08</td>\n",
              "    </tr>\n",
              "    <tr>\n",
              "      <th>Fighting</th>\n",
              "      <td>223200000.0</td>\n",
              "      <td>101220000.0</td>\n",
              "      <td>87340000.0</td>\n",
              "      <td>36640000.0</td>\n",
              "      <td>4.484000e+08</td>\n",
              "    </tr>\n",
              "    <tr>\n",
              "      <th>Racing</th>\n",
              "      <td>357190000.0</td>\n",
              "      <td>237100000.0</td>\n",
              "      <td>56400000.0</td>\n",
              "      <td>77100000.0</td>\n",
              "      <td>7.277900e+08</td>\n",
              "    </tr>\n",
              "    <tr>\n",
              "      <th>Misc</th>\n",
              "      <td>408050000.0</td>\n",
              "      <td>212360000.0</td>\n",
              "      <td>105270000.0</td>\n",
              "      <td>74040000.0</td>\n",
              "      <td>7.997200e+08</td>\n",
              "    </tr>\n",
              "    <tr>\n",
              "      <th>Platform</th>\n",
              "      <td>446440000.0</td>\n",
              "      <td>201610000.0</td>\n",
              "      <td>130650000.0</td>\n",
              "      <td>51530000.0</td>\n",
              "      <td>8.302300e+08</td>\n",
              "    </tr>\n",
              "    <tr>\n",
              "      <th>Role-Playing</th>\n",
              "      <td>319540000.0</td>\n",
              "      <td>183580000.0</td>\n",
              "      <td>344950000.0</td>\n",
              "      <td>56960000.0</td>\n",
              "      <td>9.050300e+08</td>\n",
              "    </tr>\n",
              "    <tr>\n",
              "      <th>Shooter</th>\n",
              "      <td>581920000.0</td>\n",
              "      <td>313050000.0</td>\n",
              "      <td>38280000.0</td>\n",
              "      <td>102650000.0</td>\n",
              "      <td>1.035900e+09</td>\n",
              "    </tr>\n",
              "    <tr>\n",
              "      <th>Sports</th>\n",
              "      <td>680520000.0</td>\n",
              "      <td>376480000.0</td>\n",
              "      <td>135370000.0</td>\n",
              "      <td>134670000.0</td>\n",
              "      <td>1.327040e+09</td>\n",
              "    </tr>\n",
              "    <tr>\n",
              "      <th>Action</th>\n",
              "      <td>874810000.0</td>\n",
              "      <td>522160000.0</td>\n",
              "      <td>157900000.0</td>\n",
              "      <td>186450000.0</td>\n",
              "      <td>1.741320e+09</td>\n",
              "    </tr>\n",
              "  </tbody>\n",
              "</table>\n",
              "</div>"
            ],
            "text/plain": [
              "                 NA_Sales     EU_Sales     JP_Sales  Other_Sales         Total\n",
              "Genre                                                                         \n",
              "Strategy       68700000.0   45320000.0   49460000.0   11360000.0  1.748400e+08\n",
              "Adventure     105660000.0   64050000.0   51950000.0   16810000.0  2.384700e+08\n",
              "Puzzle        123350000.0   50730000.0   56870000.0   12520000.0  2.434700e+08\n",
              "Simulation    182960000.0  113350000.0   63700000.0   31480000.0  3.914900e+08\n",
              "Fighting      223200000.0  101220000.0   87340000.0   36640000.0  4.484000e+08\n",
              "Racing        357190000.0  237100000.0   56400000.0   77100000.0  7.277900e+08\n",
              "Misc          408050000.0  212360000.0  105270000.0   74040000.0  7.997200e+08\n",
              "Platform      446440000.0  201610000.0  130650000.0   51530000.0  8.302300e+08\n",
              "Role-Playing  319540000.0  183580000.0  344950000.0   56960000.0  9.050300e+08\n",
              "Shooter       581920000.0  313050000.0   38280000.0  102650000.0  1.035900e+09\n",
              "Sports        680520000.0  376480000.0  135370000.0  134670000.0  1.327040e+09\n",
              "Action        874810000.0  522160000.0  157900000.0  186450000.0  1.741320e+09"
            ]
          },
          "metadata": {},
          "execution_count": 162
        }
      ]
    },
    {
      "cell_type": "code",
      "source": [
        "df6Genre_ = df6Genre.drop(columns=['Total'])\n",
        "df6Genre_"
      ],
      "metadata": {
        "colab": {
          "base_uri": "https://localhost:8080/",
          "height": 457
        },
        "id": "iK0Y784dWb8V",
        "outputId": "bf69e0ab-7d6c-4da3-d2b2-cf185faa6d61"
      },
      "execution_count": null,
      "outputs": [
        {
          "output_type": "execute_result",
          "data": {
            "text/html": [
              "<div>\n",
              "<style scoped>\n",
              "    .dataframe tbody tr th:only-of-type {\n",
              "        vertical-align: middle;\n",
              "    }\n",
              "\n",
              "    .dataframe tbody tr th {\n",
              "        vertical-align: top;\n",
              "    }\n",
              "\n",
              "    .dataframe thead th {\n",
              "        text-align: right;\n",
              "    }\n",
              "</style>\n",
              "<table border=\"1\" class=\"dataframe\">\n",
              "  <thead>\n",
              "    <tr style=\"text-align: right;\">\n",
              "      <th></th>\n",
              "      <th>NA_Sales</th>\n",
              "      <th>EU_Sales</th>\n",
              "      <th>JP_Sales</th>\n",
              "      <th>Other_Sales</th>\n",
              "    </tr>\n",
              "    <tr>\n",
              "      <th>Genre</th>\n",
              "      <th></th>\n",
              "      <th></th>\n",
              "      <th></th>\n",
              "      <th></th>\n",
              "    </tr>\n",
              "  </thead>\n",
              "  <tbody>\n",
              "    <tr>\n",
              "      <th>Strategy</th>\n",
              "      <td>68700000.0</td>\n",
              "      <td>45320000.0</td>\n",
              "      <td>49460000.0</td>\n",
              "      <td>11360000.0</td>\n",
              "    </tr>\n",
              "    <tr>\n",
              "      <th>Adventure</th>\n",
              "      <td>105660000.0</td>\n",
              "      <td>64050000.0</td>\n",
              "      <td>51950000.0</td>\n",
              "      <td>16810000.0</td>\n",
              "    </tr>\n",
              "    <tr>\n",
              "      <th>Puzzle</th>\n",
              "      <td>123350000.0</td>\n",
              "      <td>50730000.0</td>\n",
              "      <td>56870000.0</td>\n",
              "      <td>12520000.0</td>\n",
              "    </tr>\n",
              "    <tr>\n",
              "      <th>Simulation</th>\n",
              "      <td>182960000.0</td>\n",
              "      <td>113350000.0</td>\n",
              "      <td>63700000.0</td>\n",
              "      <td>31480000.0</td>\n",
              "    </tr>\n",
              "    <tr>\n",
              "      <th>Fighting</th>\n",
              "      <td>223200000.0</td>\n",
              "      <td>101220000.0</td>\n",
              "      <td>87340000.0</td>\n",
              "      <td>36640000.0</td>\n",
              "    </tr>\n",
              "    <tr>\n",
              "      <th>Racing</th>\n",
              "      <td>357190000.0</td>\n",
              "      <td>237100000.0</td>\n",
              "      <td>56400000.0</td>\n",
              "      <td>77100000.0</td>\n",
              "    </tr>\n",
              "    <tr>\n",
              "      <th>Misc</th>\n",
              "      <td>408050000.0</td>\n",
              "      <td>212360000.0</td>\n",
              "      <td>105270000.0</td>\n",
              "      <td>74040000.0</td>\n",
              "    </tr>\n",
              "    <tr>\n",
              "      <th>Platform</th>\n",
              "      <td>446440000.0</td>\n",
              "      <td>201610000.0</td>\n",
              "      <td>130650000.0</td>\n",
              "      <td>51530000.0</td>\n",
              "    </tr>\n",
              "    <tr>\n",
              "      <th>Role-Playing</th>\n",
              "      <td>319540000.0</td>\n",
              "      <td>183580000.0</td>\n",
              "      <td>344950000.0</td>\n",
              "      <td>56960000.0</td>\n",
              "    </tr>\n",
              "    <tr>\n",
              "      <th>Shooter</th>\n",
              "      <td>581920000.0</td>\n",
              "      <td>313050000.0</td>\n",
              "      <td>38280000.0</td>\n",
              "      <td>102650000.0</td>\n",
              "    </tr>\n",
              "    <tr>\n",
              "      <th>Sports</th>\n",
              "      <td>680520000.0</td>\n",
              "      <td>376480000.0</td>\n",
              "      <td>135370000.0</td>\n",
              "      <td>134670000.0</td>\n",
              "    </tr>\n",
              "    <tr>\n",
              "      <th>Action</th>\n",
              "      <td>874810000.0</td>\n",
              "      <td>522160000.0</td>\n",
              "      <td>157900000.0</td>\n",
              "      <td>186450000.0</td>\n",
              "    </tr>\n",
              "  </tbody>\n",
              "</table>\n",
              "</div>"
            ],
            "text/plain": [
              "                 NA_Sales     EU_Sales     JP_Sales  Other_Sales\n",
              "Genre                                                           \n",
              "Strategy       68700000.0   45320000.0   49460000.0   11360000.0\n",
              "Adventure     105660000.0   64050000.0   51950000.0   16810000.0\n",
              "Puzzle        123350000.0   50730000.0   56870000.0   12520000.0\n",
              "Simulation    182960000.0  113350000.0   63700000.0   31480000.0\n",
              "Fighting      223200000.0  101220000.0   87340000.0   36640000.0\n",
              "Racing        357190000.0  237100000.0   56400000.0   77100000.0\n",
              "Misc          408050000.0  212360000.0  105270000.0   74040000.0\n",
              "Platform      446440000.0  201610000.0  130650000.0   51530000.0\n",
              "Role-Playing  319540000.0  183580000.0  344950000.0   56960000.0\n",
              "Shooter       581920000.0  313050000.0   38280000.0  102650000.0\n",
              "Sports        680520000.0  376480000.0  135370000.0  134670000.0\n",
              "Action        874810000.0  522160000.0  157900000.0  186450000.0"
            ]
          },
          "metadata": {},
          "execution_count": 164
        }
      ]
    },
    {
      "cell_type": "code",
      "source": [
        "import numpy as np\n",
        "from scipy.stats import chisquare  \n",
        "from scipy import stats\n",
        "\n",
        "stats.chi2_contingency(df6Genre_, correction= False)\n"
      ],
      "metadata": {
        "colab": {
          "base_uri": "https://localhost:8080/"
        },
        "id": "2zrIb1qXWo7u",
        "outputId": "b93df5ac-75b5-47cd-c0d7-7b172af488c3"
      },
      "execution_count": null,
      "outputs": [
        {
          "output_type": "execute_result",
          "data": {
            "text/plain": [
              "(696795976.1665444,\n",
              " 0.0,\n",
              " 33,\n",
              " array([[8.62461416e+07, 4.77553830e+07, 2.52118187e+07, 1.56266566e+07],\n",
              "        [1.17633936e+08, 6.51351303e+07, 3.43872250e+07, 2.13137086e+07],\n",
              "        [1.20100367e+08, 6.65008185e+07, 3.51082218e+07, 2.17605931e+07],\n",
              "        [1.93116575e+08, 1.06930650e+08, 5.64526133e+07, 3.49901613e+07],\n",
              "        [2.21189487e+08, 1.22474913e+08, 6.46589997e+07, 4.00766005e+07],\n",
              "        [3.59008690e+08, 1.98786835e+08, 1.04946863e+08, 6.50476117e+07],\n",
              "        [3.94490759e+08, 2.18433624e+08, 1.15319124e+08, 7.14764919e+07],\n",
              "        [4.09540918e+08, 2.26767054e+08, 1.19718647e+08, 7.42033810e+07],\n",
              "        [4.46438719e+08, 2.47197748e+08, 1.30504760e+08, 8.08887729e+07],\n",
              "        [5.10995070e+08, 2.82943270e+08, 1.49376133e+08, 9.25855274e+07],\n",
              "        [6.54610385e+08, 3.62464559e+08, 1.91358339e+08, 1.18606717e+08],\n",
              "        [8.58968951e+08, 4.75620016e+08, 2.51097256e+08, 1.55633778e+08]]))"
            ]
          },
          "metadata": {},
          "execution_count": 169
        }
      ]
    },
    {
      "cell_type": "code",
      "source": [
        " #연관이 있다는 결론. "
      ],
      "metadata": {
        "id": "wTfAxGmE5uT5"
      },
      "execution_count": null,
      "outputs": []
    },
    {
      "cell_type": "code",
      "source": [
        "df2_ =  df2.drop(columns=['Genre'])\n",
        "df2_\n"
      ],
      "metadata": {
        "colab": {
          "base_uri": "https://localhost:8080/",
          "height": 424
        },
        "id": "6UaCHd8Cduga",
        "outputId": "b108d835-1690-497a-95d4-d14aac2cbd28"
      },
      "execution_count": null,
      "outputs": [
        {
          "output_type": "execute_result",
          "data": {
            "text/html": [
              "<div>\n",
              "<style scoped>\n",
              "    .dataframe tbody tr th:only-of-type {\n",
              "        vertical-align: middle;\n",
              "    }\n",
              "\n",
              "    .dataframe tbody tr th {\n",
              "        vertical-align: top;\n",
              "    }\n",
              "\n",
              "    .dataframe thead th {\n",
              "        text-align: right;\n",
              "    }\n",
              "</style>\n",
              "<table border=\"1\" class=\"dataframe\">\n",
              "  <thead>\n",
              "    <tr style=\"text-align: right;\">\n",
              "      <th></th>\n",
              "      <th>NA_Sales</th>\n",
              "      <th>EU_Sales</th>\n",
              "      <th>JP_Sales</th>\n",
              "      <th>Other_Sales</th>\n",
              "    </tr>\n",
              "  </thead>\n",
              "  <tbody>\n",
              "    <tr>\n",
              "      <th>0</th>\n",
              "      <td>0.04</td>\n",
              "      <td>0</td>\n",
              "      <td>0</td>\n",
              "      <td>0</td>\n",
              "    </tr>\n",
              "    <tr>\n",
              "      <th>1</th>\n",
              "      <td>0.17</td>\n",
              "      <td>0</td>\n",
              "      <td>0</td>\n",
              "      <td>0.01</td>\n",
              "    </tr>\n",
              "    <tr>\n",
              "      <th>2</th>\n",
              "      <td>0</td>\n",
              "      <td>0</td>\n",
              "      <td>0.02</td>\n",
              "      <td>0</td>\n",
              "    </tr>\n",
              "    <tr>\n",
              "      <th>3</th>\n",
              "      <td>0.04</td>\n",
              "      <td>0</td>\n",
              "      <td>0</td>\n",
              "      <td>0</td>\n",
              "    </tr>\n",
              "    <tr>\n",
              "      <th>4</th>\n",
              "      <td>0.12</td>\n",
              "      <td>0.09</td>\n",
              "      <td>0</td>\n",
              "      <td>0.04</td>\n",
              "    </tr>\n",
              "    <tr>\n",
              "      <th>...</th>\n",
              "      <td>...</td>\n",
              "      <td>...</td>\n",
              "      <td>...</td>\n",
              "      <td>...</td>\n",
              "    </tr>\n",
              "    <tr>\n",
              "      <th>16593</th>\n",
              "      <td>0.15</td>\n",
              "      <td>0.04</td>\n",
              "      <td>0</td>\n",
              "      <td>0.01</td>\n",
              "    </tr>\n",
              "    <tr>\n",
              "      <th>16594</th>\n",
              "      <td>0.01</td>\n",
              "      <td>0</td>\n",
              "      <td>0</td>\n",
              "      <td>0</td>\n",
              "    </tr>\n",
              "    <tr>\n",
              "      <th>16595</th>\n",
              "      <td>0.44</td>\n",
              "      <td>0.19</td>\n",
              "      <td>0.03</td>\n",
              "      <td>0.13</td>\n",
              "    </tr>\n",
              "    <tr>\n",
              "      <th>16596</th>\n",
              "      <td>0.05</td>\n",
              "      <td>0.05</td>\n",
              "      <td>0.25</td>\n",
              "      <td>0.03</td>\n",
              "    </tr>\n",
              "    <tr>\n",
              "      <th>16597</th>\n",
              "      <td>0</td>\n",
              "      <td>0</td>\n",
              "      <td>0.16</td>\n",
              "      <td>0.01</td>\n",
              "    </tr>\n",
              "  </tbody>\n",
              "</table>\n",
              "<p>16598 rows × 4 columns</p>\n",
              "</div>"
            ],
            "text/plain": [
              "      NA_Sales EU_Sales JP_Sales Other_Sales\n",
              "0         0.04        0        0           0\n",
              "1         0.17        0        0        0.01\n",
              "2            0        0     0.02           0\n",
              "3         0.04        0        0           0\n",
              "4         0.12     0.09        0        0.04\n",
              "...        ...      ...      ...         ...\n",
              "16593     0.15     0.04        0        0.01\n",
              "16594     0.01        0        0           0\n",
              "16595     0.44     0.19     0.03        0.13\n",
              "16596     0.05     0.05     0.25        0.03\n",
              "16597        0        0     0.16        0.01\n",
              "\n",
              "[16598 rows x 4 columns]"
            ]
          },
          "metadata": {},
          "execution_count": 8
        }
      ]
    },
    {
      "cell_type": "code",
      "source": [
        "# K, M 등이 1000, 1000000 등으로 제대로 변경된 숫자들로 변경 \n",
        "# Apply 함수를 통해 값들을 변환 \n",
        "\n",
        "df2_['NA_Sales'] = df2_['NA_Sales'].apply(value_to_float)\n",
        "df2_['EU_Sales'] = df2_['EU_Sales'].apply(value_to_float)\n",
        "df2_['JP_Sales'] = df2_['JP_Sales'].apply(value_to_float)\n",
        "df2_['Other_Sales'] = df2_['Other_Sales'].apply(value_to_float)\n"
      ],
      "metadata": {
        "id": "4L9sKDzZkrzu"
      },
      "execution_count": null,
      "outputs": []
    },
    {
      "cell_type": "code",
      "source": [
        "# 원래 데이터셋에 적용\n",
        "\n",
        "df2['NA_Sales'] = df2_['NA_Sales']\n",
        "df2['EU_Sales'] = df2_['EU_Sales'] \n",
        "df2['JP_Sales'] = df2_['JP_Sales'] \n",
        "df2['Other_Sales'] = df2_['Other_Sales']  "
      ],
      "metadata": {
        "id": "N4z-fhCzhOuH"
      },
      "execution_count": null,
      "outputs": []
    },
    {
      "cell_type": "code",
      "source": [
        "df2_['NA_Sales']"
      ],
      "metadata": {
        "colab": {
          "base_uri": "https://localhost:8080/"
        },
        "id": "8cnQfhm3eMDC",
        "outputId": "0eac3ac6-ee04-411b-fa2e-4ddafee11c49"
      },
      "execution_count": null,
      "outputs": [
        {
          "output_type": "execute_result",
          "data": {
            "text/plain": [
              "0         40000.0\n",
              "1        170000.0\n",
              "2             0.0\n",
              "3         40000.0\n",
              "4        120000.0\n",
              "           ...   \n",
              "16593    150000.0\n",
              "16594     10000.0\n",
              "16595    440000.0\n",
              "16596     50000.0\n",
              "16597         0.0\n",
              "Name: NA_Sales, Length: 16598, dtype: float64"
            ]
          },
          "metadata": {},
          "execution_count": 29
        }
      ]
    },
    {
      "cell_type": "code",
      "source": [
        "# df3는 북아메리카 지역에 대한 세일즈 데이터입니다. \n",
        "# df4는 유럽. \n",
        "# df5는 일본. \n",
        "# df6는 그 외 지역들. \n",
        "\n",
        "df3= df2.drop(columns=['EU_Sales','JP_Sales','Other_Sales'])\n",
        "df3"
      ],
      "metadata": {
        "colab": {
          "base_uri": "https://localhost:8080/",
          "height": 424
        },
        "id": "k9osPTIA7C6Q",
        "outputId": "3a03b867-a390-4d51-ac1e-e4401b84b188"
      },
      "execution_count": null,
      "outputs": [
        {
          "output_type": "execute_result",
          "data": {
            "text/html": [
              "<div>\n",
              "<style scoped>\n",
              "    .dataframe tbody tr th:only-of-type {\n",
              "        vertical-align: middle;\n",
              "    }\n",
              "\n",
              "    .dataframe tbody tr th {\n",
              "        vertical-align: top;\n",
              "    }\n",
              "\n",
              "    .dataframe thead th {\n",
              "        text-align: right;\n",
              "    }\n",
              "</style>\n",
              "<table border=\"1\" class=\"dataframe\">\n",
              "  <thead>\n",
              "    <tr style=\"text-align: right;\">\n",
              "      <th></th>\n",
              "      <th>Genre</th>\n",
              "      <th>NA_Sales</th>\n",
              "    </tr>\n",
              "  </thead>\n",
              "  <tbody>\n",
              "    <tr>\n",
              "      <th>0</th>\n",
              "      <td>Action</td>\n",
              "      <td>40000.0</td>\n",
              "    </tr>\n",
              "    <tr>\n",
              "      <th>1</th>\n",
              "      <td>Action</td>\n",
              "      <td>170000.0</td>\n",
              "    </tr>\n",
              "    <tr>\n",
              "      <th>2</th>\n",
              "      <td>Adventure</td>\n",
              "      <td>0.0</td>\n",
              "    </tr>\n",
              "    <tr>\n",
              "      <th>3</th>\n",
              "      <td>Misc</td>\n",
              "      <td>40000.0</td>\n",
              "    </tr>\n",
              "    <tr>\n",
              "      <th>4</th>\n",
              "      <td>Platform</td>\n",
              "      <td>120000.0</td>\n",
              "    </tr>\n",
              "    <tr>\n",
              "      <th>...</th>\n",
              "      <td>...</td>\n",
              "      <td>...</td>\n",
              "    </tr>\n",
              "    <tr>\n",
              "      <th>16593</th>\n",
              "      <td>Platform</td>\n",
              "      <td>150000.0</td>\n",
              "    </tr>\n",
              "    <tr>\n",
              "      <th>16594</th>\n",
              "      <td>Action</td>\n",
              "      <td>10000.0</td>\n",
              "    </tr>\n",
              "    <tr>\n",
              "      <th>16595</th>\n",
              "      <td>Sports</td>\n",
              "      <td>440000.0</td>\n",
              "    </tr>\n",
              "    <tr>\n",
              "      <th>16596</th>\n",
              "      <td>Action</td>\n",
              "      <td>50000.0</td>\n",
              "    </tr>\n",
              "    <tr>\n",
              "      <th>16597</th>\n",
              "      <td>Fighting</td>\n",
              "      <td>0.0</td>\n",
              "    </tr>\n",
              "  </tbody>\n",
              "</table>\n",
              "<p>16598 rows × 2 columns</p>\n",
              "</div>"
            ],
            "text/plain": [
              "           Genre  NA_Sales\n",
              "0         Action   40000.0\n",
              "1         Action  170000.0\n",
              "2      Adventure       0.0\n",
              "3           Misc   40000.0\n",
              "4       Platform  120000.0\n",
              "...          ...       ...\n",
              "16593   Platform  150000.0\n",
              "16594     Action   10000.0\n",
              "16595     Sports  440000.0\n",
              "16596     Action   50000.0\n",
              "16597   Fighting       0.0\n",
              "\n",
              "[16598 rows x 2 columns]"
            ]
          },
          "metadata": {},
          "execution_count": 31
        }
      ]
    },
    {
      "cell_type": "code",
      "source": [
        "df4= df2.drop(columns=['NA_Sales','JP_Sales','Other_Sales'])\n",
        "df5= df2.drop(columns=['NA_Sales','EU_Sales','Other_Sales'])\n",
        "df6= df2.drop(columns=['NA_Sales','EU_Sales','JP_Sales'])"
      ],
      "metadata": {
        "id": "zvZJ_vpSo2MY"
      },
      "execution_count": null,
      "outputs": []
    },
    {
      "cell_type": "code",
      "source": [
        "# 각 지역별 장르 판매량 \n",
        "NA_Sum = df3.groupby('Genre').sum()\n",
        "NA_Sum\n",
        "\n",
        "EU = df4.groupby('Genre').sum()\n",
        "JP = df5.groupby('Genre').sum()\n",
        "Other = df6.groupby('Genre').sum()"
      ],
      "metadata": {
        "id": "d8yITWfQPhuI"
      },
      "execution_count": null,
      "outputs": []
    },
    {
      "cell_type": "code",
      "source": [
        "# 북미 TOP 5 출고량 데이터 \n",
        "NA = NA_Sum.sort_values('NA_Sales',ascending=False)\n",
        "NA.head(5)"
      ],
      "metadata": {
        "colab": {
          "base_uri": "https://localhost:8080/",
          "height": 238
        },
        "id": "UTaqh6SjnZxd",
        "outputId": "5266faf3-d340-4347-b8f6-9fefd22e83f5"
      },
      "execution_count": null,
      "outputs": [
        {
          "output_type": "execute_result",
          "data": {
            "text/html": [
              "<div>\n",
              "<style scoped>\n",
              "    .dataframe tbody tr th:only-of-type {\n",
              "        vertical-align: middle;\n",
              "    }\n",
              "\n",
              "    .dataframe tbody tr th {\n",
              "        vertical-align: top;\n",
              "    }\n",
              "\n",
              "    .dataframe thead th {\n",
              "        text-align: right;\n",
              "    }\n",
              "</style>\n",
              "<table border=\"1\" class=\"dataframe\">\n",
              "  <thead>\n",
              "    <tr style=\"text-align: right;\">\n",
              "      <th></th>\n",
              "      <th>NA_Sales</th>\n",
              "    </tr>\n",
              "    <tr>\n",
              "      <th>Genre</th>\n",
              "      <th></th>\n",
              "    </tr>\n",
              "  </thead>\n",
              "  <tbody>\n",
              "    <tr>\n",
              "      <th>Action</th>\n",
              "      <td>874810000.0</td>\n",
              "    </tr>\n",
              "    <tr>\n",
              "      <th>Sports</th>\n",
              "      <td>680520000.0</td>\n",
              "    </tr>\n",
              "    <tr>\n",
              "      <th>Shooter</th>\n",
              "      <td>581920000.0</td>\n",
              "    </tr>\n",
              "    <tr>\n",
              "      <th>Platform</th>\n",
              "      <td>446440000.0</td>\n",
              "    </tr>\n",
              "    <tr>\n",
              "      <th>Misc</th>\n",
              "      <td>408050000.0</td>\n",
              "    </tr>\n",
              "  </tbody>\n",
              "</table>\n",
              "</div>"
            ],
            "text/plain": [
              "             NA_Sales\n",
              "Genre                \n",
              "Action    874810000.0\n",
              "Sports    680520000.0\n",
              "Shooter   581920000.0\n",
              "Platform  446440000.0\n",
              "Misc      408050000.0"
            ]
          },
          "metadata": {},
          "execution_count": 140
        }
      ]
    },
    {
      "cell_type": "code",
      "source": [
        "# 유럽, 일본, 그 외 지역들의 TOP 5 출고량 데이터 \n",
        "\n",
        "EU=EU.sort_values('EU_Sales',ascending=False)\n",
        "JP = JP.sort_values('JP_Sales',ascending=False)\n",
        "Other = Other.sort_values('Other_Sales',ascending=False)"
      ],
      "metadata": {
        "id": "SlEND5SZp1mM"
      },
      "execution_count": null,
      "outputs": []
    },
    {
      "cell_type": "code",
      "source": [
        "EU.head(5)"
      ],
      "metadata": {
        "colab": {
          "base_uri": "https://localhost:8080/",
          "height": 238
        },
        "id": "03Ih_SJSqL_l",
        "outputId": "4be42c1e-b649-4c6d-bdcb-4c90219da271"
      },
      "execution_count": null,
      "outputs": [
        {
          "output_type": "execute_result",
          "data": {
            "text/html": [
              "<div>\n",
              "<style scoped>\n",
              "    .dataframe tbody tr th:only-of-type {\n",
              "        vertical-align: middle;\n",
              "    }\n",
              "\n",
              "    .dataframe tbody tr th {\n",
              "        vertical-align: top;\n",
              "    }\n",
              "\n",
              "    .dataframe thead th {\n",
              "        text-align: right;\n",
              "    }\n",
              "</style>\n",
              "<table border=\"1\" class=\"dataframe\">\n",
              "  <thead>\n",
              "    <tr style=\"text-align: right;\">\n",
              "      <th></th>\n",
              "      <th>EU_Sales</th>\n",
              "    </tr>\n",
              "    <tr>\n",
              "      <th>Genre</th>\n",
              "      <th></th>\n",
              "    </tr>\n",
              "  </thead>\n",
              "  <tbody>\n",
              "    <tr>\n",
              "      <th>Action</th>\n",
              "      <td>522160000.0</td>\n",
              "    </tr>\n",
              "    <tr>\n",
              "      <th>Sports</th>\n",
              "      <td>376480000.0</td>\n",
              "    </tr>\n",
              "    <tr>\n",
              "      <th>Shooter</th>\n",
              "      <td>313050000.0</td>\n",
              "    </tr>\n",
              "    <tr>\n",
              "      <th>Racing</th>\n",
              "      <td>237100000.0</td>\n",
              "    </tr>\n",
              "    <tr>\n",
              "      <th>Misc</th>\n",
              "      <td>212360000.0</td>\n",
              "    </tr>\n",
              "  </tbody>\n",
              "</table>\n",
              "</div>"
            ],
            "text/plain": [
              "            EU_Sales\n",
              "Genre               \n",
              "Action   522160000.0\n",
              "Sports   376480000.0\n",
              "Shooter  313050000.0\n",
              "Racing   237100000.0\n",
              "Misc     212360000.0"
            ]
          },
          "metadata": {},
          "execution_count": 139
        }
      ]
    },
    {
      "cell_type": "code",
      "source": [
        "df2"
      ],
      "metadata": {
        "colab": {
          "base_uri": "https://localhost:8080/",
          "height": 424
        },
        "id": "-6mAGlKpLikr",
        "outputId": "d35e95b1-f610-4554-9492-6d0d27bf05ee"
      },
      "execution_count": null,
      "outputs": [
        {
          "output_type": "execute_result",
          "data": {
            "text/html": [
              "<div>\n",
              "<style scoped>\n",
              "    .dataframe tbody tr th:only-of-type {\n",
              "        vertical-align: middle;\n",
              "    }\n",
              "\n",
              "    .dataframe tbody tr th {\n",
              "        vertical-align: top;\n",
              "    }\n",
              "\n",
              "    .dataframe thead th {\n",
              "        text-align: right;\n",
              "    }\n",
              "</style>\n",
              "<table border=\"1\" class=\"dataframe\">\n",
              "  <thead>\n",
              "    <tr style=\"text-align: right;\">\n",
              "      <th></th>\n",
              "      <th>Genre</th>\n",
              "      <th>NA_Sales</th>\n",
              "      <th>EU_Sales</th>\n",
              "      <th>JP_Sales</th>\n",
              "      <th>Other_Sales</th>\n",
              "    </tr>\n",
              "  </thead>\n",
              "  <tbody>\n",
              "    <tr>\n",
              "      <th>0</th>\n",
              "      <td>Action</td>\n",
              "      <td>40000.0</td>\n",
              "      <td>0.0</td>\n",
              "      <td>0.0</td>\n",
              "      <td>0.0</td>\n",
              "    </tr>\n",
              "    <tr>\n",
              "      <th>1</th>\n",
              "      <td>Action</td>\n",
              "      <td>170000.0</td>\n",
              "      <td>0.0</td>\n",
              "      <td>0.0</td>\n",
              "      <td>10000.0</td>\n",
              "    </tr>\n",
              "    <tr>\n",
              "      <th>2</th>\n",
              "      <td>Adventure</td>\n",
              "      <td>0.0</td>\n",
              "      <td>0.0</td>\n",
              "      <td>20000.0</td>\n",
              "      <td>0.0</td>\n",
              "    </tr>\n",
              "    <tr>\n",
              "      <th>3</th>\n",
              "      <td>Misc</td>\n",
              "      <td>40000.0</td>\n",
              "      <td>0.0</td>\n",
              "      <td>0.0</td>\n",
              "      <td>0.0</td>\n",
              "    </tr>\n",
              "    <tr>\n",
              "      <th>4</th>\n",
              "      <td>Platform</td>\n",
              "      <td>120000.0</td>\n",
              "      <td>90000.0</td>\n",
              "      <td>0.0</td>\n",
              "      <td>40000.0</td>\n",
              "    </tr>\n",
              "    <tr>\n",
              "      <th>...</th>\n",
              "      <td>...</td>\n",
              "      <td>...</td>\n",
              "      <td>...</td>\n",
              "      <td>...</td>\n",
              "      <td>...</td>\n",
              "    </tr>\n",
              "    <tr>\n",
              "      <th>16593</th>\n",
              "      <td>Platform</td>\n",
              "      <td>150000.0</td>\n",
              "      <td>40000.0</td>\n",
              "      <td>0.0</td>\n",
              "      <td>10000.0</td>\n",
              "    </tr>\n",
              "    <tr>\n",
              "      <th>16594</th>\n",
              "      <td>Action</td>\n",
              "      <td>10000.0</td>\n",
              "      <td>0.0</td>\n",
              "      <td>0.0</td>\n",
              "      <td>0.0</td>\n",
              "    </tr>\n",
              "    <tr>\n",
              "      <th>16595</th>\n",
              "      <td>Sports</td>\n",
              "      <td>440000.0</td>\n",
              "      <td>190000.0</td>\n",
              "      <td>30000.0</td>\n",
              "      <td>130000.0</td>\n",
              "    </tr>\n",
              "    <tr>\n",
              "      <th>16596</th>\n",
              "      <td>Action</td>\n",
              "      <td>50000.0</td>\n",
              "      <td>50000.0</td>\n",
              "      <td>250000.0</td>\n",
              "      <td>30000.0</td>\n",
              "    </tr>\n",
              "    <tr>\n",
              "      <th>16597</th>\n",
              "      <td>Fighting</td>\n",
              "      <td>0.0</td>\n",
              "      <td>0.0</td>\n",
              "      <td>160000.0</td>\n",
              "      <td>10000.0</td>\n",
              "    </tr>\n",
              "  </tbody>\n",
              "</table>\n",
              "<p>16598 rows × 5 columns</p>\n",
              "</div>"
            ],
            "text/plain": [
              "           Genre  NA_Sales  EU_Sales  JP_Sales  Other_Sales\n",
              "0         Action   40000.0       0.0       0.0          0.0\n",
              "1         Action  170000.0       0.0       0.0      10000.0\n",
              "2      Adventure       0.0       0.0   20000.0          0.0\n",
              "3           Misc   40000.0       0.0       0.0          0.0\n",
              "4       Platform  120000.0   90000.0       0.0      40000.0\n",
              "...          ...       ...       ...       ...          ...\n",
              "16593   Platform  150000.0   40000.0       0.0      10000.0\n",
              "16594     Action   10000.0       0.0       0.0          0.0\n",
              "16595     Sports  440000.0  190000.0   30000.0     130000.0\n",
              "16596     Action   50000.0   50000.0  250000.0      30000.0\n",
              "16597   Fighting       0.0       0.0  160000.0      10000.0\n",
              "\n",
              "[16598 rows x 5 columns]"
            ]
          },
          "metadata": {},
          "execution_count": 38
        }
      ]
    },
    {
      "cell_type": "code",
      "source": [
        "# 장르만 뺀 데이터셋 만들기 \n",
        "newdf2 = df2.groupby('Genre').sum()\n",
        "newdf3 = newdf2.reset_index()\n",
        "newdf3 = newdf3.drop(columns=['Genre'])"
      ],
      "metadata": {
        "id": "f5WsbTA-53GD"
      },
      "execution_count": null,
      "outputs": []
    },
    {
      "cell_type": "code",
      "source": [
        "# 아예 장르가 없는 (0) 데이터는 제외하기 \n",
        "newdf2 = newdf2.drop(newdf2.index[0])\n",
        "newdf2"
      ],
      "metadata": {
        "colab": {
          "base_uri": "https://localhost:8080/",
          "height": 457
        },
        "id": "kVai7fsrLpxN",
        "outputId": "2c343648-eea3-443d-c29d-3aac93491ef0"
      },
      "execution_count": null,
      "outputs": [
        {
          "output_type": "execute_result",
          "data": {
            "text/html": [
              "<div>\n",
              "<style scoped>\n",
              "    .dataframe tbody tr th:only-of-type {\n",
              "        vertical-align: middle;\n",
              "    }\n",
              "\n",
              "    .dataframe tbody tr th {\n",
              "        vertical-align: top;\n",
              "    }\n",
              "\n",
              "    .dataframe thead th {\n",
              "        text-align: right;\n",
              "    }\n",
              "</style>\n",
              "<table border=\"1\" class=\"dataframe\">\n",
              "  <thead>\n",
              "    <tr style=\"text-align: right;\">\n",
              "      <th></th>\n",
              "      <th>NA_Sales</th>\n",
              "      <th>EU_Sales</th>\n",
              "      <th>JP_Sales</th>\n",
              "      <th>Other_Sales</th>\n",
              "    </tr>\n",
              "    <tr>\n",
              "      <th>Genre</th>\n",
              "      <th></th>\n",
              "      <th></th>\n",
              "      <th></th>\n",
              "      <th></th>\n",
              "    </tr>\n",
              "  </thead>\n",
              "  <tbody>\n",
              "    <tr>\n",
              "      <th>Action</th>\n",
              "      <td>874810000.0</td>\n",
              "      <td>522160000.0</td>\n",
              "      <td>157900000.0</td>\n",
              "      <td>186450000.0</td>\n",
              "    </tr>\n",
              "    <tr>\n",
              "      <th>Adventure</th>\n",
              "      <td>105660000.0</td>\n",
              "      <td>64050000.0</td>\n",
              "      <td>51950000.0</td>\n",
              "      <td>16810000.0</td>\n",
              "    </tr>\n",
              "    <tr>\n",
              "      <th>Fighting</th>\n",
              "      <td>223200000.0</td>\n",
              "      <td>101220000.0</td>\n",
              "      <td>87340000.0</td>\n",
              "      <td>36640000.0</td>\n",
              "    </tr>\n",
              "    <tr>\n",
              "      <th>Misc</th>\n",
              "      <td>408050000.0</td>\n",
              "      <td>212360000.0</td>\n",
              "      <td>105270000.0</td>\n",
              "      <td>74040000.0</td>\n",
              "    </tr>\n",
              "    <tr>\n",
              "      <th>Platform</th>\n",
              "      <td>446440000.0</td>\n",
              "      <td>201610000.0</td>\n",
              "      <td>130650000.0</td>\n",
              "      <td>51530000.0</td>\n",
              "    </tr>\n",
              "    <tr>\n",
              "      <th>Puzzle</th>\n",
              "      <td>123350000.0</td>\n",
              "      <td>50730000.0</td>\n",
              "      <td>56870000.0</td>\n",
              "      <td>12520000.0</td>\n",
              "    </tr>\n",
              "    <tr>\n",
              "      <th>Racing</th>\n",
              "      <td>357190000.0</td>\n",
              "      <td>237100000.0</td>\n",
              "      <td>56400000.0</td>\n",
              "      <td>77100000.0</td>\n",
              "    </tr>\n",
              "    <tr>\n",
              "      <th>Role-Playing</th>\n",
              "      <td>319540000.0</td>\n",
              "      <td>183580000.0</td>\n",
              "      <td>344950000.0</td>\n",
              "      <td>56960000.0</td>\n",
              "    </tr>\n",
              "    <tr>\n",
              "      <th>Shooter</th>\n",
              "      <td>581920000.0</td>\n",
              "      <td>313050000.0</td>\n",
              "      <td>38280000.0</td>\n",
              "      <td>102650000.0</td>\n",
              "    </tr>\n",
              "    <tr>\n",
              "      <th>Simulation</th>\n",
              "      <td>182960000.0</td>\n",
              "      <td>113350000.0</td>\n",
              "      <td>63700000.0</td>\n",
              "      <td>31480000.0</td>\n",
              "    </tr>\n",
              "    <tr>\n",
              "      <th>Sports</th>\n",
              "      <td>680520000.0</td>\n",
              "      <td>376480000.0</td>\n",
              "      <td>135370000.0</td>\n",
              "      <td>134670000.0</td>\n",
              "    </tr>\n",
              "    <tr>\n",
              "      <th>Strategy</th>\n",
              "      <td>68700000.0</td>\n",
              "      <td>45320000.0</td>\n",
              "      <td>49460000.0</td>\n",
              "      <td>11360000.0</td>\n",
              "    </tr>\n",
              "  </tbody>\n",
              "</table>\n",
              "</div>"
            ],
            "text/plain": [
              "                 NA_Sales     EU_Sales     JP_Sales  Other_Sales\n",
              "Genre                                                           \n",
              "Action        874810000.0  522160000.0  157900000.0  186450000.0\n",
              "Adventure     105660000.0   64050000.0   51950000.0   16810000.0\n",
              "Fighting      223200000.0  101220000.0   87340000.0   36640000.0\n",
              "Misc          408050000.0  212360000.0  105270000.0   74040000.0\n",
              "Platform      446440000.0  201610000.0  130650000.0   51530000.0\n",
              "Puzzle        123350000.0   50730000.0   56870000.0   12520000.0\n",
              "Racing        357190000.0  237100000.0   56400000.0   77100000.0\n",
              "Role-Playing  319540000.0  183580000.0  344950000.0   56960000.0\n",
              "Shooter       581920000.0  313050000.0   38280000.0  102650000.0\n",
              "Simulation    182960000.0  113350000.0   63700000.0   31480000.0\n",
              "Sports        680520000.0  376480000.0  135370000.0  134670000.0\n",
              "Strategy       68700000.0   45320000.0   49460000.0   11360000.0"
            ]
          },
          "metadata": {},
          "execution_count": 41
        }
      ]
    },
    {
      "cell_type": "code",
      "source": [
        "# 데이터셋 확인 ; 각 지역별 장르에 대한 데이터 \n",
        "newdf3"
      ],
      "metadata": {
        "colab": {
          "base_uri": "https://localhost:8080/",
          "height": 457
        },
        "id": "8V83qnJG6oEy",
        "outputId": "4f2d7025-afb9-484a-96ec-2ad58ef97b05"
      },
      "execution_count": null,
      "outputs": [
        {
          "output_type": "execute_result",
          "data": {
            "text/html": [
              "<div>\n",
              "<style scoped>\n",
              "    .dataframe tbody tr th:only-of-type {\n",
              "        vertical-align: middle;\n",
              "    }\n",
              "\n",
              "    .dataframe tbody tr th {\n",
              "        vertical-align: top;\n",
              "    }\n",
              "\n",
              "    .dataframe thead th {\n",
              "        text-align: right;\n",
              "    }\n",
              "</style>\n",
              "<table border=\"1\" class=\"dataframe\">\n",
              "  <thead>\n",
              "    <tr style=\"text-align: right;\">\n",
              "      <th></th>\n",
              "      <th>NA_Sales</th>\n",
              "      <th>EU_Sales</th>\n",
              "      <th>JP_Sales</th>\n",
              "      <th>Other_Sales</th>\n",
              "    </tr>\n",
              "  </thead>\n",
              "  <tbody>\n",
              "    <tr>\n",
              "      <th>0</th>\n",
              "      <td>20610000.0</td>\n",
              "      <td>13120000.0</td>\n",
              "      <td>12880000.0</td>\n",
              "      <td>5540000.0</td>\n",
              "    </tr>\n",
              "    <tr>\n",
              "      <th>1</th>\n",
              "      <td>874810000.0</td>\n",
              "      <td>522160000.0</td>\n",
              "      <td>157900000.0</td>\n",
              "      <td>186450000.0</td>\n",
              "    </tr>\n",
              "    <tr>\n",
              "      <th>2</th>\n",
              "      <td>105660000.0</td>\n",
              "      <td>64050000.0</td>\n",
              "      <td>51950000.0</td>\n",
              "      <td>16810000.0</td>\n",
              "    </tr>\n",
              "    <tr>\n",
              "      <th>3</th>\n",
              "      <td>223200000.0</td>\n",
              "      <td>101220000.0</td>\n",
              "      <td>87340000.0</td>\n",
              "      <td>36640000.0</td>\n",
              "    </tr>\n",
              "    <tr>\n",
              "      <th>4</th>\n",
              "      <td>408050000.0</td>\n",
              "      <td>212360000.0</td>\n",
              "      <td>105270000.0</td>\n",
              "      <td>74040000.0</td>\n",
              "    </tr>\n",
              "    <tr>\n",
              "      <th>5</th>\n",
              "      <td>446440000.0</td>\n",
              "      <td>201610000.0</td>\n",
              "      <td>130650000.0</td>\n",
              "      <td>51530000.0</td>\n",
              "    </tr>\n",
              "    <tr>\n",
              "      <th>6</th>\n",
              "      <td>123350000.0</td>\n",
              "      <td>50730000.0</td>\n",
              "      <td>56870000.0</td>\n",
              "      <td>12520000.0</td>\n",
              "    </tr>\n",
              "    <tr>\n",
              "      <th>7</th>\n",
              "      <td>357190000.0</td>\n",
              "      <td>237100000.0</td>\n",
              "      <td>56400000.0</td>\n",
              "      <td>77100000.0</td>\n",
              "    </tr>\n",
              "    <tr>\n",
              "      <th>8</th>\n",
              "      <td>319540000.0</td>\n",
              "      <td>183580000.0</td>\n",
              "      <td>344950000.0</td>\n",
              "      <td>56960000.0</td>\n",
              "    </tr>\n",
              "    <tr>\n",
              "      <th>9</th>\n",
              "      <td>581920000.0</td>\n",
              "      <td>313050000.0</td>\n",
              "      <td>38280000.0</td>\n",
              "      <td>102650000.0</td>\n",
              "    </tr>\n",
              "    <tr>\n",
              "      <th>10</th>\n",
              "      <td>182960000.0</td>\n",
              "      <td>113350000.0</td>\n",
              "      <td>63700000.0</td>\n",
              "      <td>31480000.0</td>\n",
              "    </tr>\n",
              "    <tr>\n",
              "      <th>11</th>\n",
              "      <td>680520000.0</td>\n",
              "      <td>376480000.0</td>\n",
              "      <td>135370000.0</td>\n",
              "      <td>134670000.0</td>\n",
              "    </tr>\n",
              "    <tr>\n",
              "      <th>12</th>\n",
              "      <td>68700000.0</td>\n",
              "      <td>45320000.0</td>\n",
              "      <td>49460000.0</td>\n",
              "      <td>11360000.0</td>\n",
              "    </tr>\n",
              "  </tbody>\n",
              "</table>\n",
              "</div>"
            ],
            "text/plain": [
              "       NA_Sales     EU_Sales     JP_Sales  Other_Sales\n",
              "0    20610000.0   13120000.0   12880000.0    5540000.0\n",
              "1   874810000.0  522160000.0  157900000.0  186450000.0\n",
              "2   105660000.0   64050000.0   51950000.0   16810000.0\n",
              "3   223200000.0  101220000.0   87340000.0   36640000.0\n",
              "4   408050000.0  212360000.0  105270000.0   74040000.0\n",
              "5   446440000.0  201610000.0  130650000.0   51530000.0\n",
              "6   123350000.0   50730000.0   56870000.0   12520000.0\n",
              "7   357190000.0  237100000.0   56400000.0   77100000.0\n",
              "8   319540000.0  183580000.0  344950000.0   56960000.0\n",
              "9   581920000.0  313050000.0   38280000.0  102650000.0\n",
              "10  182960000.0  113350000.0   63700000.0   31480000.0\n",
              "11  680520000.0  376480000.0  135370000.0  134670000.0\n",
              "12   68700000.0   45320000.0   49460000.0   11360000.0"
            ]
          },
          "metadata": {},
          "execution_count": 47
        }
      ]
    },
    {
      "cell_type": "code",
      "source": [
        "df['NA_Sales'] = df['NA_Sales'].apply(value_to_float)\n",
        "df['EU_Sales'] = df['EU_Sales'].apply(value_to_float)\n",
        "df['JP_Sales'] = df['JP_Sales'].apply(value_to_float)\n",
        "df['Other_Sales'] = df['Other_Sales'].apply(value_to_float)"
      ],
      "metadata": {
        "id": "oztEtR2UfViH"
      },
      "execution_count": null,
      "outputs": []
    },
    {
      "cell_type": "code",
      "source": [
        "# 장르가 정해지지 않은 데이터 제외 \n",
        "newdf3 = newdf3.drop(newdf3.index[0])"
      ],
      "metadata": {
        "id": "z2Hxo80hEIZR"
      },
      "execution_count": null,
      "outputs": []
    },
    {
      "cell_type": "code",
      "source": [
        "##Q2. 연도별 게임의 트렌드가 있을까? "
      ],
      "metadata": {
        "id": "GFo49VmUaLBe"
      },
      "execution_count": null,
      "outputs": []
    },
    {
      "cell_type": "code",
      "source": [
        "# 장르와 연도만 남겨보기 \n",
        "\n",
        "df_ = df.drop(columns=['Name','Platform','Publisher','NA_Sales','EU_Sales','JP_Sales','Other_Sales','Total'])\n",
        "df_"
      ],
      "metadata": {
        "id": "tEXEgpZvgpvu",
        "colab": {
          "base_uri": "https://localhost:8080/",
          "height": 424
        },
        "outputId": "be3c6938-0acb-4fa3-c973-a80a17748098"
      },
      "execution_count": 29,
      "outputs": [
        {
          "output_type": "execute_result",
          "data": {
            "text/html": [
              "<div>\n",
              "<style scoped>\n",
              "    .dataframe tbody tr th:only-of-type {\n",
              "        vertical-align: middle;\n",
              "    }\n",
              "\n",
              "    .dataframe tbody tr th {\n",
              "        vertical-align: top;\n",
              "    }\n",
              "\n",
              "    .dataframe thead th {\n",
              "        text-align: right;\n",
              "    }\n",
              "</style>\n",
              "<table border=\"1\" class=\"dataframe\">\n",
              "  <thead>\n",
              "    <tr style=\"text-align: right;\">\n",
              "      <th></th>\n",
              "      <th>Year</th>\n",
              "      <th>Genre</th>\n",
              "    </tr>\n",
              "  </thead>\n",
              "  <tbody>\n",
              "    <tr>\n",
              "      <th>0</th>\n",
              "      <td>2008.0</td>\n",
              "      <td>Action</td>\n",
              "    </tr>\n",
              "    <tr>\n",
              "      <th>1</th>\n",
              "      <td>2009.0</td>\n",
              "      <td>Action</td>\n",
              "    </tr>\n",
              "    <tr>\n",
              "      <th>2</th>\n",
              "      <td>2010.0</td>\n",
              "      <td>Adventure</td>\n",
              "    </tr>\n",
              "    <tr>\n",
              "      <th>3</th>\n",
              "      <td>2010.0</td>\n",
              "      <td>Misc</td>\n",
              "    </tr>\n",
              "    <tr>\n",
              "      <th>4</th>\n",
              "      <td>2010.0</td>\n",
              "      <td>Platform</td>\n",
              "    </tr>\n",
              "    <tr>\n",
              "      <th>...</th>\n",
              "      <td>...</td>\n",
              "      <td>...</td>\n",
              "    </tr>\n",
              "    <tr>\n",
              "      <th>16593</th>\n",
              "      <td>2006.0</td>\n",
              "      <td>Platform</td>\n",
              "    </tr>\n",
              "    <tr>\n",
              "      <th>16594</th>\n",
              "      <td>2005.0</td>\n",
              "      <td>Action</td>\n",
              "    </tr>\n",
              "    <tr>\n",
              "      <th>16595</th>\n",
              "      <td>2015.0</td>\n",
              "      <td>Sports</td>\n",
              "    </tr>\n",
              "    <tr>\n",
              "      <th>16596</th>\n",
              "      <td>2013.0</td>\n",
              "      <td>Action</td>\n",
              "    </tr>\n",
              "    <tr>\n",
              "      <th>16597</th>\n",
              "      <td>1996.0</td>\n",
              "      <td>Fighting</td>\n",
              "    </tr>\n",
              "  </tbody>\n",
              "</table>\n",
              "<p>16598 rows × 2 columns</p>\n",
              "</div>"
            ],
            "text/plain": [
              "         Year      Genre\n",
              "0      2008.0     Action\n",
              "1      2009.0     Action\n",
              "2      2010.0  Adventure\n",
              "3      2010.0       Misc\n",
              "4      2010.0   Platform\n",
              "...       ...        ...\n",
              "16593  2006.0   Platform\n",
              "16594  2005.0     Action\n",
              "16595  2015.0     Sports\n",
              "16596  2013.0     Action\n",
              "16597  1996.0   Fighting\n",
              "\n",
              "[16598 rows x 2 columns]"
            ]
          },
          "metadata": {},
          "execution_count": 29
        }
      ]
    },
    {
      "cell_type": "code",
      "source": [
        "df9 = df_"
      ],
      "metadata": {
        "id": "fTVAyV8wiq8F"
      },
      "execution_count": 30,
      "outputs": []
    },
    {
      "cell_type": "code",
      "source": [
        "# \b연도 관련 데이터를 고쳐주는 함수 \n",
        "\n",
        "def CorrectYear(x):\n",
        "    if x<21:\n",
        "        return x + 2000 \n",
        "    if 100>x>21:\n",
        "        return x + 1900\n",
        "    return x\n"
      ],
      "metadata": {
        "id": "3z2N6nPhnj-f"
      },
      "execution_count": 26,
      "outputs": []
    },
    {
      "cell_type": "code",
      "source": [
        "# 기존에 있던 값들을 고쳐주는 과정 \n",
        "df9['Year'] = df9['Year'].apply(CorrectYear)"
      ],
      "metadata": {
        "id": "RG4vBvgssKsp"
      },
      "execution_count": 33,
      "outputs": []
    },
    {
      "cell_type": "code",
      "source": [
        "# Year 에 있는 \b값들이 깔끔하게 정리되었나 확인 \n",
        "df9['Year'].value_counts()"
      ],
      "metadata": {
        "id": "d_5E57_WxPlT"
      },
      "execution_count": null,
      "outputs": []
    },
    {
      "cell_type": "code",
      "source": [
        "# 주요 연도별 데이터  정리\n",
        "# 1980년도 부터 시작해서 85년.. 90... 2020년까지\n",
        "# 보통 트렌드가 바뀌기에는 5년 정도가 걸린다고 가정고 5년 주기로 계산 \n",
        "\n",
        "df1980 = df9.loc[df9['Year'] == 1980]\n",
        "df1985 = df9.loc[df9['Year'] == 1985]\n",
        "df1990 = df9.loc[df9['Year'] == 1990]\n",
        "df1995 = df9.loc[df9['Year'] == 1995]\n",
        "df2000 = df9.loc[df9['Year'] == 2000]\n",
        "df2005 = df9.loc[df9['Year'] == 2005]\n",
        "df2010 = df9.loc[df9['Year'] == 2010]\n",
        "df2015 = df9.loc[df9['Year'] == 2015]\n",
        "df2020 = df9.loc[df9['Year'] == 2020]\n",
        "\n",
        "#########################################\n",
        "df2001 = df9.loc[df9['Year'] == 2001]\n",
        "df2002 = df9.loc[df9['Year'] == 2002]\n",
        "df2003 = df9.loc[df9['Year'] == 2003]\n",
        "df2004 = df9.loc[df9['Year'] == 2004]\n",
        "\n",
        "df2011 = df9.loc[df9['Year'] == 2011]\n",
        "df2012 = df9.loc[df9['Year'] == 2012]\n",
        "df2013 = df9.loc[df9['Year'] == 2013]\n",
        "df2014 = df9.loc[df9['Year'] == 2014]\n",
        "df2008 = df9.loc[df9['Year'] == 2008]\n",
        "df2008 = df9.loc[df9['Year'] == 2008]\n",
        "df2009 = df9.loc[df9['Year'] == 2009]\n",
        "df2016 = df9.loc[df9['Year'] == 2016]\n",
        "df2017 = df9.loc[df9['Year'] == 2017]\n",
        "#########################################"
      ],
      "metadata": {
        "id": "OsWKbKwoieoR"
      },
      "execution_count": 35,
      "outputs": []
    },
    {
      "cell_type": "code",
      "source": [
        "df2016"
      ],
      "metadata": {
        "id": "X5DJuB9M7bFp"
      },
      "execution_count": null,
      "outputs": []
    },
    {
      "cell_type": "code",
      "source": [
        "df2017"
      ],
      "metadata": {
        "id": "OFSb_Zjy7bjk"
      },
      "execution_count": null,
      "outputs": []
    },
    {
      "cell_type": "code",
      "source": [
        "# 1980년 게임 장르별 트렌드 (장르별 출시된 게임의 수)\n",
        "df1980['Genre'].value_counts()"
      ],
      "metadata": {
        "id": "8xm9VPAs0m2p"
      },
      "execution_count": null,
      "outputs": []
    },
    {
      "cell_type": "code",
      "source": [
        "df1985['Genre'].value_counts()"
      ],
      "metadata": {
        "id": "aNOnOo6Q0rDJ"
      },
      "execution_count": null,
      "outputs": []
    },
    {
      "cell_type": "code",
      "source": [
        "df1990['Genre'].value_counts()"
      ],
      "metadata": {
        "id": "R8fbTx2X0sxZ"
      },
      "execution_count": null,
      "outputs": []
    },
    {
      "cell_type": "code",
      "source": [
        "df1995['Genre'].value_counts()"
      ],
      "metadata": {
        "id": "rveAqYRv1CFm"
      },
      "execution_count": null,
      "outputs": []
    },
    {
      "cell_type": "code",
      "source": [
        "df2000['Genre'].value_counts()"
      ],
      "metadata": {
        "id": "uXPjk3hb1FH7"
      },
      "execution_count": null,
      "outputs": []
    },
    {
      "cell_type": "code",
      "source": [
        "df2003['Genre'].value_counts()"
      ],
      "metadata": {
        "id": "3o3QdSmcvHce"
      },
      "execution_count": null,
      "outputs": []
    },
    {
      "cell_type": "code",
      "source": [
        "df2005['Genre'].value_counts()"
      ],
      "metadata": {
        "id": "vm6u3vYvj61U"
      },
      "execution_count": null,
      "outputs": []
    },
    {
      "cell_type": "code",
      "source": [
        "df2010['Genre'].value_counts()"
      ],
      "metadata": {
        "id": "UBnqhsQVykZn"
      },
      "execution_count": null,
      "outputs": []
    },
    {
      "cell_type": "code",
      "source": [
        "df2015['Genre'].value_counts()"
      ],
      "metadata": {
        "id": "KrxhZngpynbx"
      },
      "execution_count": null,
      "outputs": []
    },
    {
      "cell_type": "code",
      "source": [
        "df2016['Genre'].value_counts()"
      ],
      "metadata": {
        "id": "rolKFaHU-oil"
      },
      "execution_count": null,
      "outputs": []
    },
    {
      "cell_type": "code",
      "source": [
        "df2020['Genre'].value_counts()"
      ],
      "metadata": {
        "colab": {
          "base_uri": "https://localhost:8080/"
        },
        "id": "RinsXBpfyokX",
        "outputId": "00b4274f-83e9-4334-d6c0-af93450a99e8"
      },
      "execution_count": null,
      "outputs": [
        {
          "output_type": "execute_result",
          "data": {
            "text/plain": [
              "Simulation    1\n",
              "Name: Genre, dtype: int64"
            ]
          },
          "metadata": {},
          "execution_count": 180
        }
      ]
    },
    {
      "cell_type": "code",
      "source": [
        "#df['Genre'].value_counts()"
      ],
      "metadata": {
        "id": "LDDAUZd-O-fr"
      },
      "execution_count": null,
      "outputs": []
    },
    {
      "cell_type": "code",
      "source": [
        "#df_genre = df.groupby('Genre').sum()\n",
        "#df_genre"
      ],
      "metadata": {
        "id": "FLl1BU3qPMq-"
      },
      "execution_count": null,
      "outputs": []
    },
    {
      "cell_type": "code",
      "source": [
        "df['Year'] = df9['Year']"
      ],
      "metadata": {
        "id": "0z54hG743MtR"
      },
      "execution_count": 36,
      "outputs": []
    },
    {
      "cell_type": "code",
      "source": [
        "df_year = df.groupby('Year').sum().reset_index()"
      ],
      "metadata": {
        "id": "du09uoNc2wFr"
      },
      "execution_count": 37,
      "outputs": []
    },
    {
      "cell_type": "code",
      "source": [
        "df_year"
      ],
      "metadata": {
        "id": "vJ7lhvkB5E_m"
      },
      "execution_count": null,
      "outputs": []
    },
    {
      "cell_type": "code",
      "source": [
        "# 연도별 게임 총 판매량 데이터 \n",
        "\n",
        "import matplotlib.pyplot as plt\n",
        "plt.plot(df_year['Year'], df_year['Total'])\n",
        "plt.title('Total Game Sales per year')"
      ],
      "metadata": {
        "colab": {
          "base_uri": "https://localhost:8080/",
          "height": 298
        },
        "id": "roFy2HQM3YrQ",
        "outputId": "bf17c71f-4794-4976-cdb4-6870a6689d3f"
      },
      "execution_count": 41,
      "outputs": [
        {
          "output_type": "execute_result",
          "data": {
            "text/plain": [
              "Text(0.5, 1.0, 'Total Game Sales per year')"
            ]
          },
          "metadata": {},
          "execution_count": 41
        },
        {
          "output_type": "display_data",
          "data": {
            "image/png": "[encoded data removed]",
            "text/plain": [
              "<Figure size 432x288 with 1 Axes>"
            ]
          },
          "metadata": {
            "needs_background": "light"
          }
        }
      ]
    },
    {
      "cell_type": "code",
      "source": [
        "# 일단 액션 게임의 경우에는 거의 2000년대 들어서야 시장의 강자로 자리 잡았습니다. \n",
        "# 80년대~90년대 초반에 대해서는 충분한 데이터가 없었습니다.\n",
        "# 90년부터 2000년대 초반까지는 스포츠 게임이 강자였습니다. \n",
        "# 2003년 \b이후로는 액션 게임이 가장 많이 출시되기 시작하였고, 액션 게임이 게임시장을 지배하기 시작했습니다. "
      ],
      "metadata": {
        "id": "o24Y54aOhMgb"
      },
      "execution_count": null,
      "outputs": []
    },
    {
      "cell_type": "code",
      "source": [
        "# CSV파일 가져오기 \n",
        "Genredf = pd.read_csv(\"/content/drive/MyDrive/Colab Notebooks/Genre_Trend.csv\")"
      ],
      "metadata": {
        "id": "WMrtog8VM8_l"
      },
      "execution_count": 67,
      "outputs": []
    },
    {
      "cell_type": "code",
      "source": [
        "Genredf"
      ],
      "metadata": {
        "colab": {
          "base_uri": "https://localhost:8080/",
          "height": 363
        },
        "id": "Uw20CnALNDX6",
        "outputId": "20004dcd-4d5b-42ce-b746-9c732a2563be"
      },
      "execution_count": 68,
      "outputs": [
        {
          "output_type": "execute_result",
          "data": {
            "text/html": [
              "<div>\n",
              "<style scoped>\n",
              "    .dataframe tbody tr th:only-of-type {\n",
              "        vertical-align: middle;\n",
              "    }\n",
              "\n",
              "    .dataframe tbody tr th {\n",
              "        vertical-align: top;\n",
              "    }\n",
              "\n",
              "    .dataframe thead th {\n",
              "        text-align: right;\n",
              "    }\n",
              "</style>\n",
              "<table border=\"1\" class=\"dataframe\">\n",
              "  <thead>\n",
              "    <tr style=\"text-align: right;\">\n",
              "      <th></th>\n",
              "      <th>Year</th>\n",
              "      <th>Misc</th>\n",
              "      <th>Shooter</th>\n",
              "      <th>Action</th>\n",
              "      <th>Fighting</th>\n",
              "      <th>Platform</th>\n",
              "      <th>Puzzle</th>\n",
              "      <th>Simulation</th>\n",
              "      <th>Sports</th>\n",
              "      <th>Role-Playing</th>\n",
              "      <th>Racing</th>\n",
              "      <th>Adventure</th>\n",
              "      <th>Strategy</th>\n",
              "    </tr>\n",
              "  </thead>\n",
              "  <tbody>\n",
              "    <tr>\n",
              "      <th>0</th>\n",
              "      <td>1980</td>\n",
              "      <td>4</td>\n",
              "      <td>2</td>\n",
              "      <td>1</td>\n",
              "      <td>1</td>\n",
              "      <td>0</td>\n",
              "      <td>0</td>\n",
              "      <td>0</td>\n",
              "      <td>0</td>\n",
              "      <td>0</td>\n",
              "      <td>0</td>\n",
              "      <td>0</td>\n",
              "      <td>0</td>\n",
              "    </tr>\n",
              "    <tr>\n",
              "      <th>1</th>\n",
              "      <td>1985</td>\n",
              "      <td>0</td>\n",
              "      <td>1</td>\n",
              "      <td>2</td>\n",
              "      <td>1</td>\n",
              "      <td>4</td>\n",
              "      <td>4</td>\n",
              "      <td>1</td>\n",
              "      <td>1</td>\n",
              "      <td>0</td>\n",
              "      <td>0</td>\n",
              "      <td>0</td>\n",
              "      <td>0</td>\n",
              "    </tr>\n",
              "    <tr>\n",
              "      <th>2</th>\n",
              "      <td>1990</td>\n",
              "      <td>0</td>\n",
              "      <td>0</td>\n",
              "      <td>3</td>\n",
              "      <td>0</td>\n",
              "      <td>3</td>\n",
              "      <td>1</td>\n",
              "      <td>1</td>\n",
              "      <td>3</td>\n",
              "      <td>2</td>\n",
              "      <td>2</td>\n",
              "      <td>0</td>\n",
              "      <td>0</td>\n",
              "    </tr>\n",
              "    <tr>\n",
              "      <th>3</th>\n",
              "      <td>1995</td>\n",
              "      <td>22</td>\n",
              "      <td>29</td>\n",
              "      <td>8</td>\n",
              "      <td>29</td>\n",
              "      <td>13</td>\n",
              "      <td>12</td>\n",
              "      <td>14</td>\n",
              "      <td>29</td>\n",
              "      <td>24</td>\n",
              "      <td>12</td>\n",
              "      <td>13</td>\n",
              "      <td>0</td>\n",
              "    </tr>\n",
              "    <tr>\n",
              "      <th>4</th>\n",
              "      <td>2000</td>\n",
              "      <td>49</td>\n",
              "      <td>48</td>\n",
              "      <td>106</td>\n",
              "      <td>41</td>\n",
              "      <td>34</td>\n",
              "      <td>23</td>\n",
              "      <td>31</td>\n",
              "      <td>123</td>\n",
              "      <td>46</td>\n",
              "      <td>66</td>\n",
              "      <td>26</td>\n",
              "      <td>26</td>\n",
              "    </tr>\n",
              "    <tr>\n",
              "      <th>5</th>\n",
              "      <td>2005</td>\n",
              "      <td>115</td>\n",
              "      <td>96</td>\n",
              "      <td>192</td>\n",
              "      <td>43</td>\n",
              "      <td>82</td>\n",
              "      <td>32</td>\n",
              "      <td>38</td>\n",
              "      <td>122</td>\n",
              "      <td>71</td>\n",
              "      <td>77</td>\n",
              "      <td>42</td>\n",
              "      <td>29</td>\n",
              "    </tr>\n",
              "    <tr>\n",
              "      <th>6</th>\n",
              "      <td>2010</td>\n",
              "      <td>200</td>\n",
              "      <td>81</td>\n",
              "      <td>226</td>\n",
              "      <td>40</td>\n",
              "      <td>31</td>\n",
              "      <td>45</td>\n",
              "      <td>81</td>\n",
              "      <td>185</td>\n",
              "      <td>103</td>\n",
              "      <td>57</td>\n",
              "      <td>153</td>\n",
              "      <td>53</td>\n",
              "    </tr>\n",
              "    <tr>\n",
              "      <th>7</th>\n",
              "      <td>2015</td>\n",
              "      <td>39</td>\n",
              "      <td>34</td>\n",
              "      <td>253</td>\n",
              "      <td>21</td>\n",
              "      <td>14</td>\n",
              "      <td>6</td>\n",
              "      <td>15</td>\n",
              "      <td>62</td>\n",
              "      <td>78</td>\n",
              "      <td>19</td>\n",
              "      <td>53</td>\n",
              "      <td>17</td>\n",
              "    </tr>\n",
              "    <tr>\n",
              "      <th>8</th>\n",
              "      <td>2016</td>\n",
              "      <td>18</td>\n",
              "      <td>32</td>\n",
              "      <td>119</td>\n",
              "      <td>14</td>\n",
              "      <td>10</td>\n",
              "      <td>0</td>\n",
              "      <td>9</td>\n",
              "      <td>38</td>\n",
              "      <td>40</td>\n",
              "      <td>20</td>\n",
              "      <td>34</td>\n",
              "      <td>10</td>\n",
              "    </tr>\n",
              "    <tr>\n",
              "      <th>9</th>\n",
              "      <td>2020</td>\n",
              "      <td>0</td>\n",
              "      <td>0</td>\n",
              "      <td>0</td>\n",
              "      <td>0</td>\n",
              "      <td>0</td>\n",
              "      <td>0</td>\n",
              "      <td>1</td>\n",
              "      <td>0</td>\n",
              "      <td>0</td>\n",
              "      <td>0</td>\n",
              "      <td>0</td>\n",
              "      <td>0</td>\n",
              "    </tr>\n",
              "  </tbody>\n",
              "</table>\n",
              "</div>"
            ],
            "text/plain": [
              "   Year  Misc  Shooter  Action  ...  Role-Playing  Racing  Adventure  Strategy\n",
              "0  1980     4        2       1  ...             0       0          0         0\n",
              "1  1985     0        1       2  ...             0       0          0         0\n",
              "2  1990     0        0       3  ...             2       2          0         0\n",
              "3  1995    22       29       8  ...            24      12         13         0\n",
              "4  2000    49       48     106  ...            46      66         26        26\n",
              "5  2005   115       96     192  ...            71      77         42        29\n",
              "6  2010   200       81     226  ...           103      57        153        53\n",
              "7  2015    39       34     253  ...            78      19         53        17\n",
              "8  2016    18       32     119  ...            40      20         34        10\n",
              "9  2020     0        0       0  ...             0       0          0         0\n",
              "\n",
              "[10 rows x 13 columns]"
            ]
          },
          "metadata": {},
          "execution_count": 68
        }
      ]
    },
    {
      "cell_type": "code",
      "source": [
        "import matplotlib.pyplot as plt\n",
        "import seaborn as sns\n",
        "import scipy.stats as stats\n",
        "import pandas as pd\n",
        "import urllib\n",
        "from statsmodels.formula.api import ols\n",
        "from statsmodels.stats.anova import anova_lm\n",
        "import numpy as np\n",
        "import matplotlib \n",
        "\n"
      ],
      "metadata": {
        "id": "hK_D4aLZY7iD"
      },
      "execution_count": null,
      "outputs": []
    },
    {
      "cell_type": "code",
      "source": [
        "# 장르별 매출 추이 \n",
        "# Action이 원탑 \n",
        "# 어드벤처의 점진적인 상승 \n",
        "Genredf.plot.line(x='Year')\n",
        "plt.title('Sales trend for individual Genre')"
      ],
      "metadata": {
        "colab": {
          "base_uri": "https://localhost:8080/",
          "height": 312
        },
        "id": "rAMmvBnUQWU0",
        "outputId": "1b076433-0a33-4f96-eba9-8e5bbb03ea71"
      },
      "execution_count": 45,
      "outputs": [
        {
          "output_type": "execute_result",
          "data": {
            "text/plain": [
              "Text(0.5, 1.0, 'Sales trend for individual Genre')"
            ]
          },
          "metadata": {},
          "execution_count": 45
        },
        {
          "output_type": "display_data",
          "data": {
            "image/png": "[encoded data removed]",
            "text/plain": [
              "<Figure size 432x288 with 1 Axes>"
            ]
          },
          "metadata": {
            "needs_background": "light"
          }
        }
      ]
    },
    {
      "cell_type": "code",
      "source": [
        "#Q3. 출고량이 높은 게임에 대한 분석 및 시각화 프로세스가 포함되어야 합니다.\n",
        "# 일단 출고량이 높은 게임들로는 어떤 게임들이 있는지.\n",
        "\n",
        "# 일단 전체 출고량부터 파악 \n",
        "\n",
        "df['NA_Sales'] = df['NA_Sales'].apply(value_to_float)\n",
        "df['EU_Sales'] = df['EU_Sales'].apply(value_to_float)\n",
        "df['JP_Sales'] = df['JP_Sales'].apply(value_to_float)\n",
        "df['Other_Sales'] = df['Other_Sales'].apply(value_to_float)"
      ],
      "metadata": {
        "id": "k6m3ra8dxBzE"
      },
      "execution_count": null,
      "outputs": []
    },
    {
      "cell_type": "code",
      "source": [
        "# 총 판매량 구하기 \n",
        "df['Total'] = df['NA_Sales']+df['EU_Sales']+df['JP_Sales']+df['Other_Sales']"
      ],
      "metadata": {
        "id": "tOkxKoNB74Wn"
      },
      "execution_count": null,
      "outputs": []
    },
    {
      "cell_type": "code",
      "source": [
        "df"
      ],
      "metadata": {
        "colab": {
          "base_uri": "https://localhost:8080/",
          "height": 424
        },
        "id": "TqI1ztEqxHMh",
        "outputId": "2d277cd9-8d22-4ce5-98f7-cff4448b6d49"
      },
      "execution_count": null,
      "outputs": [
        {
          "output_type": "execute_result",
          "data": {
            "text/html": [
              "<div>\n",
              "<style scoped>\n",
              "    .dataframe tbody tr th:only-of-type {\n",
              "        vertical-align: middle;\n",
              "    }\n",
              "\n",
              "    .dataframe tbody tr th {\n",
              "        vertical-align: top;\n",
              "    }\n",
              "\n",
              "    .dataframe thead th {\n",
              "        text-align: right;\n",
              "    }\n",
              "</style>\n",
              "<table border=\"1\" class=\"dataframe\">\n",
              "  <thead>\n",
              "    <tr style=\"text-align: right;\">\n",
              "      <th></th>\n",
              "      <th>Name</th>\n",
              "      <th>Platform</th>\n",
              "      <th>Year</th>\n",
              "      <th>Genre</th>\n",
              "      <th>Publisher</th>\n",
              "      <th>NA_Sales</th>\n",
              "      <th>EU_Sales</th>\n",
              "      <th>JP_Sales</th>\n",
              "      <th>Other_Sales</th>\n",
              "      <th>Total</th>\n",
              "    </tr>\n",
              "  </thead>\n",
              "  <tbody>\n",
              "    <tr>\n",
              "      <th>0</th>\n",
              "      <td>Candace Kane's Candy Factory</td>\n",
              "      <td>DS</td>\n",
              "      <td>2008.0</td>\n",
              "      <td>Action</td>\n",
              "      <td>Destineer</td>\n",
              "      <td>40000.0</td>\n",
              "      <td>0.0</td>\n",
              "      <td>0.0</td>\n",
              "      <td>0.0</td>\n",
              "      <td>40000.0</td>\n",
              "    </tr>\n",
              "    <tr>\n",
              "      <th>1</th>\n",
              "      <td>The Munchables</td>\n",
              "      <td>Wii</td>\n",
              "      <td>2009.0</td>\n",
              "      <td>Action</td>\n",
              "      <td>Namco Bandai Games</td>\n",
              "      <td>170000.0</td>\n",
              "      <td>0.0</td>\n",
              "      <td>0.0</td>\n",
              "      <td>10000.0</td>\n",
              "      <td>180000.0</td>\n",
              "    </tr>\n",
              "    <tr>\n",
              "      <th>2</th>\n",
              "      <td>Otome wa Oanesama Boku ni Koi Shiteru Portable</td>\n",
              "      <td>PSP</td>\n",
              "      <td>2010.0</td>\n",
              "      <td>Adventure</td>\n",
              "      <td>Alchemist</td>\n",
              "      <td>0.0</td>\n",
              "      <td>0.0</td>\n",
              "      <td>20000.0</td>\n",
              "      <td>0.0</td>\n",
              "      <td>20000.0</td>\n",
              "    </tr>\n",
              "    <tr>\n",
              "      <th>3</th>\n",
              "      <td>Deal or No Deal: Special Edition</td>\n",
              "      <td>DS</td>\n",
              "      <td>2010.0</td>\n",
              "      <td>Misc</td>\n",
              "      <td>Zoo Games</td>\n",
              "      <td>40000.0</td>\n",
              "      <td>0.0</td>\n",
              "      <td>0.0</td>\n",
              "      <td>0.0</td>\n",
              "      <td>40000.0</td>\n",
              "    </tr>\n",
              "    <tr>\n",
              "      <th>4</th>\n",
              "      <td>Ben 10 Ultimate Alien: Cosmic Destruction</td>\n",
              "      <td>PS3</td>\n",
              "      <td>2010.0</td>\n",
              "      <td>Platform</td>\n",
              "      <td>D3Publisher</td>\n",
              "      <td>120000.0</td>\n",
              "      <td>90000.0</td>\n",
              "      <td>0.0</td>\n",
              "      <td>40000.0</td>\n",
              "      <td>250000.0</td>\n",
              "    </tr>\n",
              "    <tr>\n",
              "      <th>...</th>\n",
              "      <td>...</td>\n",
              "      <td>...</td>\n",
              "      <td>...</td>\n",
              "      <td>...</td>\n",
              "      <td>...</td>\n",
              "      <td>...</td>\n",
              "      <td>...</td>\n",
              "      <td>...</td>\n",
              "      <td>...</td>\n",
              "      <td>...</td>\n",
              "    </tr>\n",
              "    <tr>\n",
              "      <th>16593</th>\n",
              "      <td>Ice Age 2: The Meltdown</td>\n",
              "      <td>GC</td>\n",
              "      <td>2006.0</td>\n",
              "      <td>Platform</td>\n",
              "      <td>Vivendi Games</td>\n",
              "      <td>150000.0</td>\n",
              "      <td>40000.0</td>\n",
              "      <td>0.0</td>\n",
              "      <td>10000.0</td>\n",
              "      <td>200000.0</td>\n",
              "    </tr>\n",
              "    <tr>\n",
              "      <th>16594</th>\n",
              "      <td>Rainbow Islands: Revolution</td>\n",
              "      <td>PSP</td>\n",
              "      <td>2005.0</td>\n",
              "      <td>Action</td>\n",
              "      <td>Rising Star Games</td>\n",
              "      <td>10000.0</td>\n",
              "      <td>0.0</td>\n",
              "      <td>0.0</td>\n",
              "      <td>0.0</td>\n",
              "      <td>10000.0</td>\n",
              "    </tr>\n",
              "    <tr>\n",
              "      <th>16595</th>\n",
              "      <td>NBA 2K16</td>\n",
              "      <td>PS3</td>\n",
              "      <td>2015.0</td>\n",
              "      <td>Sports</td>\n",
              "      <td>Take-Two Interactive</td>\n",
              "      <td>440000.0</td>\n",
              "      <td>190000.0</td>\n",
              "      <td>30000.0</td>\n",
              "      <td>130000.0</td>\n",
              "      <td>790000.0</td>\n",
              "    </tr>\n",
              "    <tr>\n",
              "      <th>16596</th>\n",
              "      <td>Toukiden: The Age of Demons</td>\n",
              "      <td>PSV</td>\n",
              "      <td>2013.0</td>\n",
              "      <td>Action</td>\n",
              "      <td>Tecmo Koei</td>\n",
              "      <td>50000.0</td>\n",
              "      <td>50000.0</td>\n",
              "      <td>250000.0</td>\n",
              "      <td>30000.0</td>\n",
              "      <td>380000.0</td>\n",
              "    </tr>\n",
              "    <tr>\n",
              "      <th>16597</th>\n",
              "      <td>The King of Fighters '95</td>\n",
              "      <td>PS</td>\n",
              "      <td>1996.0</td>\n",
              "      <td>Fighting</td>\n",
              "      <td>Sony Computer Entertainment</td>\n",
              "      <td>0.0</td>\n",
              "      <td>0.0</td>\n",
              "      <td>160000.0</td>\n",
              "      <td>10000.0</td>\n",
              "      <td>170000.0</td>\n",
              "    </tr>\n",
              "  </tbody>\n",
              "</table>\n",
              "<p>16598 rows × 10 columns</p>\n",
              "</div>"
            ],
            "text/plain": [
              "                                                 Name  ...     Total\n",
              "0                        Candace Kane's Candy Factory  ...   40000.0\n",
              "1                                      The Munchables  ...  180000.0\n",
              "2      Otome wa Oanesama Boku ni Koi Shiteru Portable  ...   20000.0\n",
              "3                    Deal or No Deal: Special Edition  ...   40000.0\n",
              "4           Ben 10 Ultimate Alien: Cosmic Destruction  ...  250000.0\n",
              "...                                               ...  ...       ...\n",
              "16593                         Ice Age 2: The Meltdown  ...  200000.0\n",
              "16594                     Rainbow Islands: Revolution  ...   10000.0\n",
              "16595                                        NBA 2K16  ...  790000.0\n",
              "16596                     Toukiden: The Age of Demons  ...  380000.0\n",
              "16597                        The King of Fighters '95  ...  170000.0\n",
              "\n",
              "[16598 rows x 10 columns]"
            ]
          },
          "metadata": {},
          "execution_count": 9
        }
      ]
    },
    {
      "cell_type": "code",
      "source": [
        "# 총 판매량 순으로 정리하고 판매량 Global Top 10 게임 보여주기 \n",
        "\n",
        "dftotal = df.sort_values('Total',ascending=False)\n",
        "TOP10 = dftotal.head(10)\n",
        "TOP10 "
      ],
      "metadata": {
        "id": "8Q_W7iZ08AF3",
        "colab": {
          "base_uri": "https://localhost:8080/",
          "height": 363
        },
        "outputId": "7c22cfe7-eabd-4c53-a960-cd1432f24cf7"
      },
      "execution_count": 73,
      "outputs": [
        {
          "output_type": "execute_result",
          "data": {
            "text/html": [
              "<div>\n",
              "<style scoped>\n",
              "    .dataframe tbody tr th:only-of-type {\n",
              "        vertical-align: middle;\n",
              "    }\n",
              "\n",
              "    .dataframe tbody tr th {\n",
              "        vertical-align: top;\n",
              "    }\n",
              "\n",
              "    .dataframe thead th {\n",
              "        text-align: right;\n",
              "    }\n",
              "</style>\n",
              "<table border=\"1\" class=\"dataframe\">\n",
              "  <thead>\n",
              "    <tr style=\"text-align: right;\">\n",
              "      <th></th>\n",
              "      <th>Name</th>\n",
              "      <th>Platform</th>\n",
              "      <th>Year</th>\n",
              "      <th>Genre</th>\n",
              "      <th>Publisher</th>\n",
              "      <th>NA_Sales</th>\n",
              "      <th>EU_Sales</th>\n",
              "      <th>JP_Sales</th>\n",
              "      <th>Other_Sales</th>\n",
              "      <th>Total</th>\n",
              "    </tr>\n",
              "  </thead>\n",
              "  <tbody>\n",
              "    <tr>\n",
              "      <th>2908</th>\n",
              "      <td>Wii Sports</td>\n",
              "      <td>Wii</td>\n",
              "      <td>2006.0</td>\n",
              "      <td>Sports</td>\n",
              "      <td>Nintendo</td>\n",
              "      <td>41490000.0</td>\n",
              "      <td>29020000.0</td>\n",
              "      <td>3770000.0</td>\n",
              "      <td>8460000.0</td>\n",
              "      <td>82740000.0</td>\n",
              "    </tr>\n",
              "    <tr>\n",
              "      <th>4199</th>\n",
              "      <td>Super Mario Bros.</td>\n",
              "      <td>NES</td>\n",
              "      <td>1985.0</td>\n",
              "      <td>Platform</td>\n",
              "      <td>Nintendo</td>\n",
              "      <td>29080000.0</td>\n",
              "      <td>3580000.0</td>\n",
              "      <td>6810000.0</td>\n",
              "      <td>770000.0</td>\n",
              "      <td>40240000.0</td>\n",
              "    </tr>\n",
              "    <tr>\n",
              "      <th>12579</th>\n",
              "      <td>Mario Kart Wii</td>\n",
              "      <td>Wii</td>\n",
              "      <td>2008.0</td>\n",
              "      <td>Racing</td>\n",
              "      <td>Nintendo</td>\n",
              "      <td>15850000.0</td>\n",
              "      <td>12880000.0</td>\n",
              "      <td>3790000.0</td>\n",
              "      <td>3310000.0</td>\n",
              "      <td>35830000.0</td>\n",
              "    </tr>\n",
              "    <tr>\n",
              "      <th>3352</th>\n",
              "      <td>Wii Sports Resort</td>\n",
              "      <td>Wii</td>\n",
              "      <td>2009.0</td>\n",
              "      <td>Sports</td>\n",
              "      <td>Nintendo</td>\n",
              "      <td>15750000.0</td>\n",
              "      <td>11010000.0</td>\n",
              "      <td>3280000.0</td>\n",
              "      <td>2960000.0</td>\n",
              "      <td>33000000.0</td>\n",
              "    </tr>\n",
              "    <tr>\n",
              "      <th>7829</th>\n",
              "      <td>Pokemon Red/Pokemon Blue</td>\n",
              "      <td>GB</td>\n",
              "      <td>1996.0</td>\n",
              "      <td>Role-Playing</td>\n",
              "      <td>Nintendo</td>\n",
              "      <td>11270000.0</td>\n",
              "      <td>8890000.0</td>\n",
              "      <td>10220000.0</td>\n",
              "      <td>1000000.0</td>\n",
              "      <td>31380000.0</td>\n",
              "    </tr>\n",
              "    <tr>\n",
              "      <th>1203</th>\n",
              "      <td>Tetris</td>\n",
              "      <td>GB</td>\n",
              "      <td>1989.0</td>\n",
              "      <td>Puzzle</td>\n",
              "      <td>Nintendo</td>\n",
              "      <td>23200000.0</td>\n",
              "      <td>2260000.0</td>\n",
              "      <td>4220000.0</td>\n",
              "      <td>580000.0</td>\n",
              "      <td>30260000.0</td>\n",
              "    </tr>\n",
              "    <tr>\n",
              "      <th>6937</th>\n",
              "      <td>New Super Mario Bros.</td>\n",
              "      <td>DS</td>\n",
              "      <td>2006.0</td>\n",
              "      <td>Platform</td>\n",
              "      <td>Nintendo</td>\n",
              "      <td>11380000.0</td>\n",
              "      <td>9230000.0</td>\n",
              "      <td>6500000.0</td>\n",
              "      <td>2900000.0</td>\n",
              "      <td>30010000.0</td>\n",
              "    </tr>\n",
              "    <tr>\n",
              "      <th>3014</th>\n",
              "      <td>Wii Play</td>\n",
              "      <td>Wii</td>\n",
              "      <td>2006.0</td>\n",
              "      <td>Misc</td>\n",
              "      <td>Nintendo</td>\n",
              "      <td>14030000.0</td>\n",
              "      <td>9200000.0</td>\n",
              "      <td>2930000.0</td>\n",
              "      <td>2850000.0</td>\n",
              "      <td>29010000.0</td>\n",
              "    </tr>\n",
              "    <tr>\n",
              "      <th>16531</th>\n",
              "      <td>New Super Mario Bros. Wii</td>\n",
              "      <td>Wii</td>\n",
              "      <td>2009.0</td>\n",
              "      <td>Platform</td>\n",
              "      <td>Nintendo</td>\n",
              "      <td>14590000.0</td>\n",
              "      <td>7060000.0</td>\n",
              "      <td>4700000.0</td>\n",
              "      <td>2260000.0</td>\n",
              "      <td>28610000.0</td>\n",
              "    </tr>\n",
              "    <tr>\n",
              "      <th>10488</th>\n",
              "      <td>Duck Hunt</td>\n",
              "      <td>NES</td>\n",
              "      <td>1984.0</td>\n",
              "      <td>Shooter</td>\n",
              "      <td>Nintendo</td>\n",
              "      <td>26930000.0</td>\n",
              "      <td>630000.0</td>\n",
              "      <td>280000.0</td>\n",
              "      <td>470000.0</td>\n",
              "      <td>28310000.0</td>\n",
              "    </tr>\n",
              "  </tbody>\n",
              "</table>\n",
              "</div>"
            ],
            "text/plain": [
              "                            Name Platform  ...  Other_Sales       Total\n",
              "2908                  Wii Sports      Wii  ...    8460000.0  82740000.0\n",
              "4199           Super Mario Bros.      NES  ...     770000.0  40240000.0\n",
              "12579             Mario Kart Wii      Wii  ...    3310000.0  35830000.0\n",
              "3352           Wii Sports Resort      Wii  ...    2960000.0  33000000.0\n",
              "7829    Pokemon Red/Pokemon Blue       GB  ...    1000000.0  31380000.0\n",
              "1203                      Tetris       GB  ...     580000.0  30260000.0\n",
              "6937       New Super Mario Bros.       DS  ...    2900000.0  30010000.0\n",
              "3014                    Wii Play      Wii  ...    2850000.0  29010000.0\n",
              "16531  New Super Mario Bros. Wii      Wii  ...    2260000.0  28610000.0\n",
              "10488                  Duck Hunt      NES  ...     470000.0  28310000.0\n",
              "\n",
              "[10 rows x 10 columns]"
            ]
          },
          "metadata": {},
          "execution_count": 73
        }
      ]
    },
    {
      "cell_type": "code",
      "source": [
        "dftotal"
      ],
      "metadata": {
        "colab": {
          "base_uri": "https://localhost:8080/",
          "height": 424
        },
        "id": "eCfbmUikGoip",
        "outputId": "11fe5b0b-e4fb-4b43-9a46-54d208ac4a64"
      },
      "execution_count": null,
      "outputs": [
        {
          "output_type": "execute_result",
          "data": {
            "text/html": [
              "<div>\n",
              "<style scoped>\n",
              "    .dataframe tbody tr th:only-of-type {\n",
              "        vertical-align: middle;\n",
              "    }\n",
              "\n",
              "    .dataframe tbody tr th {\n",
              "        vertical-align: top;\n",
              "    }\n",
              "\n",
              "    .dataframe thead th {\n",
              "        text-align: right;\n",
              "    }\n",
              "</style>\n",
              "<table border=\"1\" class=\"dataframe\">\n",
              "  <thead>\n",
              "    <tr style=\"text-align: right;\">\n",
              "      <th></th>\n",
              "      <th>Name</th>\n",
              "      <th>Platform</th>\n",
              "      <th>Year</th>\n",
              "      <th>Genre</th>\n",
              "      <th>Publisher</th>\n",
              "      <th>NA_Sales</th>\n",
              "      <th>EU_Sales</th>\n",
              "      <th>JP_Sales</th>\n",
              "      <th>Other_Sales</th>\n",
              "      <th>Total</th>\n",
              "    </tr>\n",
              "  </thead>\n",
              "  <tbody>\n",
              "    <tr>\n",
              "      <th>2908</th>\n",
              "      <td>Wii Sports</td>\n",
              "      <td>Wii</td>\n",
              "      <td>2006.0</td>\n",
              "      <td>Sports</td>\n",
              "      <td>Nintendo</td>\n",
              "      <td>41490000.0</td>\n",
              "      <td>29020000.0</td>\n",
              "      <td>3770000.0</td>\n",
              "      <td>8460000.0</td>\n",
              "      <td>82740000.0</td>\n",
              "    </tr>\n",
              "    <tr>\n",
              "      <th>4199</th>\n",
              "      <td>Super Mario Bros.</td>\n",
              "      <td>NES</td>\n",
              "      <td>1985.0</td>\n",
              "      <td>Platform</td>\n",
              "      <td>Nintendo</td>\n",
              "      <td>29080000.0</td>\n",
              "      <td>3580000.0</td>\n",
              "      <td>6810000.0</td>\n",
              "      <td>770000.0</td>\n",
              "      <td>40240000.0</td>\n",
              "    </tr>\n",
              "    <tr>\n",
              "      <th>12579</th>\n",
              "      <td>Mario Kart Wii</td>\n",
              "      <td>Wii</td>\n",
              "      <td>2008.0</td>\n",
              "      <td>Racing</td>\n",
              "      <td>Nintendo</td>\n",
              "      <td>15850000.0</td>\n",
              "      <td>12880000.0</td>\n",
              "      <td>3790000.0</td>\n",
              "      <td>3310000.0</td>\n",
              "      <td>35830000.0</td>\n",
              "    </tr>\n",
              "    <tr>\n",
              "      <th>3352</th>\n",
              "      <td>Wii Sports Resort</td>\n",
              "      <td>Wii</td>\n",
              "      <td>2009.0</td>\n",
              "      <td>Sports</td>\n",
              "      <td>Nintendo</td>\n",
              "      <td>15750000.0</td>\n",
              "      <td>11010000.0</td>\n",
              "      <td>3280000.0</td>\n",
              "      <td>2960000.0</td>\n",
              "      <td>33000000.0</td>\n",
              "    </tr>\n",
              "    <tr>\n",
              "      <th>7829</th>\n",
              "      <td>Pokemon Red/Pokemon Blue</td>\n",
              "      <td>GB</td>\n",
              "      <td>1996.0</td>\n",
              "      <td>Role-Playing</td>\n",
              "      <td>Nintendo</td>\n",
              "      <td>11270000.0</td>\n",
              "      <td>8890000.0</td>\n",
              "      <td>10220000.0</td>\n",
              "      <td>1000000.0</td>\n",
              "      <td>31380000.0</td>\n",
              "    </tr>\n",
              "    <tr>\n",
              "      <th>...</th>\n",
              "      <td>...</td>\n",
              "      <td>...</td>\n",
              "      <td>...</td>\n",
              "      <td>...</td>\n",
              "      <td>...</td>\n",
              "      <td>...</td>\n",
              "      <td>...</td>\n",
              "      <td>...</td>\n",
              "      <td>...</td>\n",
              "      <td>...</td>\n",
              "    </tr>\n",
              "    <tr>\n",
              "      <th>14265</th>\n",
              "      <td>Nitroplus Blasterz: Heroines Infinite Duel</td>\n",
              "      <td>PS3</td>\n",
              "      <td>2015.0</td>\n",
              "      <td>Fighting</td>\n",
              "      <td>Nitroplus</td>\n",
              "      <td>0.0</td>\n",
              "      <td>0.0</td>\n",
              "      <td>10000.0</td>\n",
              "      <td>0.0</td>\n",
              "      <td>10000.0</td>\n",
              "    </tr>\n",
              "    <tr>\n",
              "      <th>2311</th>\n",
              "      <td>Shinseiki Evangelion: Koutetsu no Girlfriend 2...</td>\n",
              "      <td>PSP</td>\n",
              "      <td>2009.0</td>\n",
              "      <td>Adventure</td>\n",
              "      <td>CyberFront</td>\n",
              "      <td>0.0</td>\n",
              "      <td>0.0</td>\n",
              "      <td>10000.0</td>\n",
              "      <td>0.0</td>\n",
              "      <td>10000.0</td>\n",
              "    </tr>\n",
              "    <tr>\n",
              "      <th>11376</th>\n",
              "      <td>Rail Simulator</td>\n",
              "      <td>PC</td>\n",
              "      <td>2007.0</td>\n",
              "      <td>Simulation</td>\n",
              "      <td>Electronic Arts</td>\n",
              "      <td>0.0</td>\n",
              "      <td>10000.0</td>\n",
              "      <td>0.0</td>\n",
              "      <td>0.0</td>\n",
              "      <td>10000.0</td>\n",
              "    </tr>\n",
              "    <tr>\n",
              "      <th>3571</th>\n",
              "      <td>Hyperdimension Neptunia mk2</td>\n",
              "      <td>PS3</td>\n",
              "      <td>2011.0</td>\n",
              "      <td>Action</td>\n",
              "      <td>Nippon Ichi Software</td>\n",
              "      <td>0.0</td>\n",
              "      <td>10000.0</td>\n",
              "      <td>0.0</td>\n",
              "      <td>0.0</td>\n",
              "      <td>10000.0</td>\n",
              "    </tr>\n",
              "    <tr>\n",
              "      <th>5598</th>\n",
              "      <td>SCORE International Baja 1000: The Official Game</td>\n",
              "      <td>PS2</td>\n",
              "      <td>2008.0</td>\n",
              "      <td>Racing</td>\n",
              "      <td>Activision</td>\n",
              "      <td>0.0</td>\n",
              "      <td>0.0</td>\n",
              "      <td>0.0</td>\n",
              "      <td>0.0</td>\n",
              "      <td>0.0</td>\n",
              "    </tr>\n",
              "  </tbody>\n",
              "</table>\n",
              "<p>16598 rows × 10 columns</p>\n",
              "</div>"
            ],
            "text/plain": [
              "                                                    Name  ...       Total\n",
              "2908                                          Wii Sports  ...  82740000.0\n",
              "4199                                   Super Mario Bros.  ...  40240000.0\n",
              "12579                                     Mario Kart Wii  ...  35830000.0\n",
              "3352                                   Wii Sports Resort  ...  33000000.0\n",
              "7829                            Pokemon Red/Pokemon Blue  ...  31380000.0\n",
              "...                                                  ...  ...         ...\n",
              "14265         Nitroplus Blasterz: Heroines Infinite Duel  ...     10000.0\n",
              "2311   Shinseiki Evangelion: Koutetsu no Girlfriend 2...  ...     10000.0\n",
              "11376                                     Rail Simulator  ...     10000.0\n",
              "3571                         Hyperdimension Neptunia mk2  ...     10000.0\n",
              "5598    SCORE International Baja 1000: The Official Game  ...         0.0\n",
              "\n",
              "[16598 rows x 10 columns]"
            ]
          },
          "metadata": {},
          "execution_count": 11
        }
      ]
    },
    {
      "cell_type": "code",
      "source": [
        "Global5 = TOP20.head(5)\n",
        "Global5"
      ],
      "metadata": {
        "colab": {
          "base_uri": "https://localhost:8080/",
          "height": 206
        },
        "id": "wdSV_u05iQho",
        "outputId": "6b136e2d-5bc2-4981-badc-4b79d45c0d19"
      },
      "execution_count": null,
      "outputs": [
        {
          "output_type": "execute_result",
          "data": {
            "text/html": [
              "<div>\n",
              "<style scoped>\n",
              "    .dataframe tbody tr th:only-of-type {\n",
              "        vertical-align: middle;\n",
              "    }\n",
              "\n",
              "    .dataframe tbody tr th {\n",
              "        vertical-align: top;\n",
              "    }\n",
              "\n",
              "    .dataframe thead th {\n",
              "        text-align: right;\n",
              "    }\n",
              "</style>\n",
              "<table border=\"1\" class=\"dataframe\">\n",
              "  <thead>\n",
              "    <tr style=\"text-align: right;\">\n",
              "      <th></th>\n",
              "      <th>Name</th>\n",
              "      <th>Platform</th>\n",
              "      <th>Year</th>\n",
              "      <th>Genre</th>\n",
              "      <th>Publisher</th>\n",
              "      <th>NA_Sales</th>\n",
              "      <th>EU_Sales</th>\n",
              "      <th>JP_Sales</th>\n",
              "      <th>Other_Sales</th>\n",
              "      <th>Total</th>\n",
              "    </tr>\n",
              "  </thead>\n",
              "  <tbody>\n",
              "    <tr>\n",
              "      <th>2908</th>\n",
              "      <td>Wii Sports</td>\n",
              "      <td>Wii</td>\n",
              "      <td>2006.0</td>\n",
              "      <td>Sports</td>\n",
              "      <td>Nintendo</td>\n",
              "      <td>41490000.0</td>\n",
              "      <td>29020000.0</td>\n",
              "      <td>3770000.0</td>\n",
              "      <td>8460000.0</td>\n",
              "      <td>82740000.0</td>\n",
              "    </tr>\n",
              "    <tr>\n",
              "      <th>4199</th>\n",
              "      <td>Super Mario Bros.</td>\n",
              "      <td>NES</td>\n",
              "      <td>1985.0</td>\n",
              "      <td>Platform</td>\n",
              "      <td>Nintendo</td>\n",
              "      <td>29080000.0</td>\n",
              "      <td>3580000.0</td>\n",
              "      <td>6810000.0</td>\n",
              "      <td>770000.0</td>\n",
              "      <td>40240000.0</td>\n",
              "    </tr>\n",
              "    <tr>\n",
              "      <th>12579</th>\n",
              "      <td>Mario Kart Wii</td>\n",
              "      <td>Wii</td>\n",
              "      <td>2008.0</td>\n",
              "      <td>Racing</td>\n",
              "      <td>Nintendo</td>\n",
              "      <td>15850000.0</td>\n",
              "      <td>12880000.0</td>\n",
              "      <td>3790000.0</td>\n",
              "      <td>3310000.0</td>\n",
              "      <td>35830000.0</td>\n",
              "    </tr>\n",
              "    <tr>\n",
              "      <th>3352</th>\n",
              "      <td>Wii Sports Resort</td>\n",
              "      <td>Wii</td>\n",
              "      <td>2009.0</td>\n",
              "      <td>Sports</td>\n",
              "      <td>Nintendo</td>\n",
              "      <td>15750000.0</td>\n",
              "      <td>11010000.0</td>\n",
              "      <td>3280000.0</td>\n",
              "      <td>2960000.0</td>\n",
              "      <td>33000000.0</td>\n",
              "    </tr>\n",
              "    <tr>\n",
              "      <th>7829</th>\n",
              "      <td>Pokemon Red/Pokemon Blue</td>\n",
              "      <td>GB</td>\n",
              "      <td>1996.0</td>\n",
              "      <td>Role-Playing</td>\n",
              "      <td>Nintendo</td>\n",
              "      <td>11270000.0</td>\n",
              "      <td>8890000.0</td>\n",
              "      <td>10220000.0</td>\n",
              "      <td>1000000.0</td>\n",
              "      <td>31380000.0</td>\n",
              "    </tr>\n",
              "  </tbody>\n",
              "</table>\n",
              "</div>"
            ],
            "text/plain": [
              "                           Name Platform  ...  Other_Sales       Total\n",
              "2908                 Wii Sports      Wii  ...    8460000.0  82740000.0\n",
              "4199          Super Mario Bros.      NES  ...     770000.0  40240000.0\n",
              "12579            Mario Kart Wii      Wii  ...    3310000.0  35830000.0\n",
              "3352          Wii Sports Resort      Wii  ...    2960000.0  33000000.0\n",
              "7829   Pokemon Red/Pokemon Blue       GB  ...    1000000.0  31380000.0\n",
              "\n",
              "[5 rows x 10 columns]"
            ]
          },
          "metadata": {},
          "execution_count": 36
        }
      ]
    },
    {
      "cell_type": "code",
      "source": [
        "# 이름으로 인덱스 설정하기 \n",
        "TOP10.set_index('Name',inplace=True,drop=True)\n",
        "Ans = TOP10 \n",
        "\n",
        "# Top 20 게임들의 평균 Sales \n",
        "Ans['Average'] = Ans['Total'] / 4 "
      ],
      "metadata": {
        "id": "eTLrrWWaI1bt"
      },
      "execution_count": null,
      "outputs": []
    },
    {
      "cell_type": "code",
      "source": [
        "Ans"
      ],
      "metadata": {
        "colab": {
          "base_uri": "https://localhost:8080/",
          "height": 394
        },
        "id": "dLQ1oNMD85so",
        "outputId": "4e103602-1395-425b-b4f8-b3be8a0ebfd8"
      },
      "execution_count": 75,
      "outputs": [
        {
          "output_type": "execute_result",
          "data": {
            "text/html": [
              "<div>\n",
              "<style scoped>\n",
              "    .dataframe tbody tr th:only-of-type {\n",
              "        vertical-align: middle;\n",
              "    }\n",
              "\n",
              "    .dataframe tbody tr th {\n",
              "        vertical-align: top;\n",
              "    }\n",
              "\n",
              "    .dataframe thead th {\n",
              "        text-align: right;\n",
              "    }\n",
              "</style>\n",
              "<table border=\"1\" class=\"dataframe\">\n",
              "  <thead>\n",
              "    <tr style=\"text-align: right;\">\n",
              "      <th></th>\n",
              "      <th>Platform</th>\n",
              "      <th>Year</th>\n",
              "      <th>Genre</th>\n",
              "      <th>Publisher</th>\n",
              "      <th>NA_Sales</th>\n",
              "      <th>EU_Sales</th>\n",
              "      <th>JP_Sales</th>\n",
              "      <th>Other_Sales</th>\n",
              "      <th>Total</th>\n",
              "      <th>Average</th>\n",
              "    </tr>\n",
              "    <tr>\n",
              "      <th>Name</th>\n",
              "      <th></th>\n",
              "      <th></th>\n",
              "      <th></th>\n",
              "      <th></th>\n",
              "      <th></th>\n",
              "      <th></th>\n",
              "      <th></th>\n",
              "      <th></th>\n",
              "      <th></th>\n",
              "      <th></th>\n",
              "    </tr>\n",
              "  </thead>\n",
              "  <tbody>\n",
              "    <tr>\n",
              "      <th>Wii Sports</th>\n",
              "      <td>Wii</td>\n",
              "      <td>2006.0</td>\n",
              "      <td>Sports</td>\n",
              "      <td>Nintendo</td>\n",
              "      <td>41490000.0</td>\n",
              "      <td>29020000.0</td>\n",
              "      <td>3770000.0</td>\n",
              "      <td>8460000.0</td>\n",
              "      <td>82740000.0</td>\n",
              "      <td>20685000.0</td>\n",
              "    </tr>\n",
              "    <tr>\n",
              "      <th>Super Mario Bros.</th>\n",
              "      <td>NES</td>\n",
              "      <td>1985.0</td>\n",
              "      <td>Platform</td>\n",
              "      <td>Nintendo</td>\n",
              "      <td>29080000.0</td>\n",
              "      <td>3580000.0</td>\n",
              "      <td>6810000.0</td>\n",
              "      <td>770000.0</td>\n",
              "      <td>40240000.0</td>\n",
              "      <td>10060000.0</td>\n",
              "    </tr>\n",
              "    <tr>\n",
              "      <th>Mario Kart Wii</th>\n",
              "      <td>Wii</td>\n",
              "      <td>2008.0</td>\n",
              "      <td>Racing</td>\n",
              "      <td>Nintendo</td>\n",
              "      <td>15850000.0</td>\n",
              "      <td>12880000.0</td>\n",
              "      <td>3790000.0</td>\n",
              "      <td>3310000.0</td>\n",
              "      <td>35830000.0</td>\n",
              "      <td>8957500.0</td>\n",
              "    </tr>\n",
              "    <tr>\n",
              "      <th>Wii Sports Resort</th>\n",
              "      <td>Wii</td>\n",
              "      <td>2009.0</td>\n",
              "      <td>Sports</td>\n",
              "      <td>Nintendo</td>\n",
              "      <td>15750000.0</td>\n",
              "      <td>11010000.0</td>\n",
              "      <td>3280000.0</td>\n",
              "      <td>2960000.0</td>\n",
              "      <td>33000000.0</td>\n",
              "      <td>8250000.0</td>\n",
              "    </tr>\n",
              "    <tr>\n",
              "      <th>Pokemon Red/Pokemon Blue</th>\n",
              "      <td>GB</td>\n",
              "      <td>1996.0</td>\n",
              "      <td>Role-Playing</td>\n",
              "      <td>Nintendo</td>\n",
              "      <td>11270000.0</td>\n",
              "      <td>8890000.0</td>\n",
              "      <td>10220000.0</td>\n",
              "      <td>1000000.0</td>\n",
              "      <td>31380000.0</td>\n",
              "      <td>7845000.0</td>\n",
              "    </tr>\n",
              "    <tr>\n",
              "      <th>Tetris</th>\n",
              "      <td>GB</td>\n",
              "      <td>1989.0</td>\n",
              "      <td>Puzzle</td>\n",
              "      <td>Nintendo</td>\n",
              "      <td>23200000.0</td>\n",
              "      <td>2260000.0</td>\n",
              "      <td>4220000.0</td>\n",
              "      <td>580000.0</td>\n",
              "      <td>30260000.0</td>\n",
              "      <td>7565000.0</td>\n",
              "    </tr>\n",
              "    <tr>\n",
              "      <th>New Super Mario Bros.</th>\n",
              "      <td>DS</td>\n",
              "      <td>2006.0</td>\n",
              "      <td>Platform</td>\n",
              "      <td>Nintendo</td>\n",
              "      <td>11380000.0</td>\n",
              "      <td>9230000.0</td>\n",
              "      <td>6500000.0</td>\n",
              "      <td>2900000.0</td>\n",
              "      <td>30010000.0</td>\n",
              "      <td>7502500.0</td>\n",
              "    </tr>\n",
              "    <tr>\n",
              "      <th>Wii Play</th>\n",
              "      <td>Wii</td>\n",
              "      <td>2006.0</td>\n",
              "      <td>Misc</td>\n",
              "      <td>Nintendo</td>\n",
              "      <td>14030000.0</td>\n",
              "      <td>9200000.0</td>\n",
              "      <td>2930000.0</td>\n",
              "      <td>2850000.0</td>\n",
              "      <td>29010000.0</td>\n",
              "      <td>7252500.0</td>\n",
              "    </tr>\n",
              "    <tr>\n",
              "      <th>New Super Mario Bros. Wii</th>\n",
              "      <td>Wii</td>\n",
              "      <td>2009.0</td>\n",
              "      <td>Platform</td>\n",
              "      <td>Nintendo</td>\n",
              "      <td>14590000.0</td>\n",
              "      <td>7060000.0</td>\n",
              "      <td>4700000.0</td>\n",
              "      <td>2260000.0</td>\n",
              "      <td>28610000.0</td>\n",
              "      <td>7152500.0</td>\n",
              "    </tr>\n",
              "    <tr>\n",
              "      <th>Duck Hunt</th>\n",
              "      <td>NES</td>\n",
              "      <td>1984.0</td>\n",
              "      <td>Shooter</td>\n",
              "      <td>Nintendo</td>\n",
              "      <td>26930000.0</td>\n",
              "      <td>630000.0</td>\n",
              "      <td>280000.0</td>\n",
              "      <td>470000.0</td>\n",
              "      <td>28310000.0</td>\n",
              "      <td>7077500.0</td>\n",
              "    </tr>\n",
              "  </tbody>\n",
              "</table>\n",
              "</div>"
            ],
            "text/plain": [
              "                          Platform    Year  ...       Total     Average\n",
              "Name                                        ...                        \n",
              "Wii Sports                     Wii  2006.0  ...  82740000.0  20685000.0\n",
              "Super Mario Bros.              NES  1985.0  ...  40240000.0  10060000.0\n",
              "Mario Kart Wii                 Wii  2008.0  ...  35830000.0   8957500.0\n",
              "Wii Sports Resort              Wii  2009.0  ...  33000000.0   8250000.0\n",
              "Pokemon Red/Pokemon Blue        GB  1996.0  ...  31380000.0   7845000.0\n",
              "Tetris                          GB  1989.0  ...  30260000.0   7565000.0\n",
              "New Super Mario Bros.           DS  2006.0  ...  30010000.0   7502500.0\n",
              "Wii Play                       Wii  2006.0  ...  29010000.0   7252500.0\n",
              "New Super Mario Bros. Wii      Wii  2009.0  ...  28610000.0   7152500.0\n",
              "Duck Hunt                      NES  1984.0  ...  28310000.0   7077500.0\n",
              "\n",
              "[10 rows x 10 columns]"
            ]
          },
          "metadata": {},
          "execution_count": 75
        }
      ]
    },
    {
      "cell_type": "code",
      "source": [
        "WiiSports= (41490000.0,\t29020000.0,\t3770000.0,\t8460000.0)\n",
        "data1= (29080000.0,\t3580000.0,\t6810000.0,\t770000.0)\n",
        "data2= (15850000.0,\t12880000.0,\t3790000.0,\t3310000.0)\n",
        "data3= (15750000.0,\t11010000.0,\t3280000.0,\t2960000.0)\t\n",
        "data4= (1270000.0,\t8890000.0,\t10220000.0,\t1000000.0)"
      ],
      "metadata": {
        "id": "A_KmVncoDGJO"
      },
      "execution_count": null,
      "outputs": []
    },
    {
      "cell_type": "code",
      "source": [
        "data = [WiiSports, data1, data2, data3, data4]"
      ],
      "metadata": {
        "id": "D1jgwCA3E-T-"
      },
      "execution_count": null,
      "outputs": []
    },
    {
      "cell_type": "code",
      "source": [
        "# Label 1 2 3 4 5 한다 \n",
        "# Interpretation 은 어떻게 하는게 좋을까? \n",
        "# 글로벌 출고량 Top 5 게임들에 대한 박스 플랏 \n",
        "\n",
        "plt.boxplot(data)\n",
        "plt.title('Sales Data of Global Top 5 Games')\n",
        "plt.ylabel('Sales ($)')\n",
        "plt.xlabel('Games')\n",
        "plt.xticks([1, 2, 3, 4, 5], ['Wii Sports', 'Super Mario Bros.', 'Mario Kart Wii','Wii Sports Resort','Pokemon Red/Pokemon Blue'])\n",
        "#plt.figure(figsize=(4,4))\n",
        "\n",
        "plt.xticks(\n",
        "    rotation=40, \n",
        "    horizontalalignment='right',\n",
        "    fontweight='light',\n",
        "    fontsize='medium'  \n",
        ")\n"
      ],
      "metadata": {
        "colab": {
          "base_uri": "https://localhost:8080/",
          "height": 401
        },
        "id": "-xcxH4ItCwwU",
        "outputId": "f5ad2588-5179-4984-f45e-d9400ee9570c"
      },
      "execution_count": null,
      "outputs": [
        {
          "output_type": "execute_result",
          "data": {
            "text/plain": [
              "(array([1, 2, 3, 4, 5]), <a list of 5 Text major ticklabel objects>)"
            ]
          },
          "metadata": {},
          "execution_count": 126
        },
        {
          "output_type": "display_data",
          "data": {
            "image/png": "[encoded data removed]",
            "text/plain": [
              "<Figure size 432x288 with 1 Axes>"
            ]
          },
          "metadata": {
            "needs_background": "light"
          }
        }
      ]
    },
    {
      "cell_type": "code",
      "source": [
        "sns.violinplot(data=data)\n",
        "plt.title('Sales Data of Global Top 5 Games')\n",
        "plt.ylabel('Sales ($)')\n",
        "plt.xlabel('Games')\n",
        "plt.xticks([1, 2, 3, 4, 5], ['Wii Sports', 'Super Mario Bros.', 'Mario Kart Wii','Wii Sports Resort','Pokemon Red/Pokemon Blue'])\n",
        "plt.xticks(\n",
        "    rotation=40, \n",
        "    horizontalalignment='right',\n",
        "    fontweight='light',\n",
        "    fontsize='medium'  \n",
        ")"
      ],
      "metadata": {
        "colab": {
          "base_uri": "https://localhost:8080/",
          "height": 401
        },
        "id": "K-tJgDy47qx5",
        "outputId": "1830160a-6f21-45a3-e029-e9564dcd7f04"
      },
      "execution_count": null,
      "outputs": [
        {
          "output_type": "execute_result",
          "data": {
            "text/plain": [
              "(array([1, 2, 3, 4, 5]), <a list of 5 Text major ticklabel objects>)"
            ]
          },
          "metadata": {},
          "execution_count": 129
        },
        {
          "output_type": "display_data",
          "data": {
            "image/png": "[encoded data removed]",
            "text/plain": [
              "<Figure size 432x288 with 1 Axes>"
            ]
          },
          "metadata": {
            "needs_background": "light"
          }
        }
      ]
    },
    {
      "cell_type": "code",
      "source": [
        "Ans_ = Ans.reset_index()"
      ],
      "metadata": {
        "id": "IdmTXW9wKPqG"
      },
      "execution_count": 78,
      "outputs": []
    },
    {
      "cell_type": "code",
      "source": [
        "Ans_ = Ans_.head(10)"
      ],
      "metadata": {
        "id": "nKSOJLIsKWU3"
      },
      "execution_count": 79,
      "outputs": []
    },
    {
      "cell_type": "code",
      "source": [
        "Ans_"
      ],
      "metadata": {
        "id": "Te8-4_M2KdaY"
      },
      "execution_count": null,
      "outputs": []
    },
    {
      "cell_type": "code",
      "source": [
        "# 글로벌 출고량 Top 10 게임들의 장르 분포도 \n",
        "import seaborn as sns\n",
        "sns.countplot(Ans_['Genre'])\n",
        "plt.title('Genre Distribution for Global Top 10 Games')"
      ],
      "metadata": {
        "colab": {
          "base_uri": "https://localhost:8080/",
          "height": 367
        },
        "id": "GIKV7EeJJwqa",
        "outputId": "261e1c45-bd3a-457a-f395-95b63772493f"
      },
      "execution_count": 80,
      "outputs": [
        {
          "output_type": "stream",
          "name": "stderr",
          "text": [
            "/usr/local/lib/python3.7/dist-packages/seaborn/_decorators.py:43: FutureWarning: Pass the following variable as a keyword arg: x. From version 0.12, the only valid positional argument will be `data`, and passing other arguments without an explicit keyword will result in an error or misinterpretation.\n",
            "  FutureWarning\n"
          ]
        },
        {
          "output_type": "execute_result",
          "data": {
            "text/plain": [
              "Text(0.5, 1.0, 'Genre Distribution for Global Top 10 Games')"
            ]
          },
          "metadata": {},
          "execution_count": 80
        },
        {
          "output_type": "display_data",
          "data": {
            "image/png": "[encoded data removed]",
            "text/plain": [
              "<Figure size 432x288 with 1 Axes>"
            ]
          },
          "metadata": {
            "needs_background": "light"
          }
        }
      ]
    },
    {
      "cell_type": "code",
      "source": [
        "dftotal1 = dftotal.groupby('Genre').sum()\n",
        "dftotal1"
      ],
      "metadata": {
        "colab": {
          "base_uri": "https://localhost:8080/",
          "height": 488
        },
        "id": "cMxxAByFSAxy",
        "outputId": "bd971bae-1e0a-4741-83aa-3dc84318f58b"
      },
      "execution_count": 81,
      "outputs": [
        {
          "output_type": "execute_result",
          "data": {
            "text/html": [
              "<div>\n",
              "<style scoped>\n",
              "    .dataframe tbody tr th:only-of-type {\n",
              "        vertical-align: middle;\n",
              "    }\n",
              "\n",
              "    .dataframe tbody tr th {\n",
              "        vertical-align: top;\n",
              "    }\n",
              "\n",
              "    .dataframe thead th {\n",
              "        text-align: right;\n",
              "    }\n",
              "</style>\n",
              "<table border=\"1\" class=\"dataframe\">\n",
              "  <thead>\n",
              "    <tr style=\"text-align: right;\">\n",
              "      <th></th>\n",
              "      <th>Year</th>\n",
              "      <th>NA_Sales</th>\n",
              "      <th>EU_Sales</th>\n",
              "      <th>JP_Sales</th>\n",
              "      <th>Other_Sales</th>\n",
              "      <th>Total</th>\n",
              "    </tr>\n",
              "    <tr>\n",
              "      <th>Genre</th>\n",
              "      <th></th>\n",
              "      <th></th>\n",
              "      <th></th>\n",
              "      <th></th>\n",
              "      <th></th>\n",
              "      <th></th>\n",
              "    </tr>\n",
              "  </thead>\n",
              "  <tbody>\n",
              "    <tr>\n",
              "      <th>0</th>\n",
              "      <td>100301.0</td>\n",
              "      <td>20610000.0</td>\n",
              "      <td>13120000.0</td>\n",
              "      <td>12880000.0</td>\n",
              "      <td>5540000.0</td>\n",
              "      <td>5.215000e+07</td>\n",
              "    </tr>\n",
              "    <tr>\n",
              "      <th>Action</th>\n",
              "      <td>6481945.0</td>\n",
              "      <td>874810000.0</td>\n",
              "      <td>522160000.0</td>\n",
              "      <td>157900000.0</td>\n",
              "      <td>186450000.0</td>\n",
              "      <td>1.741320e+09</td>\n",
              "    </tr>\n",
              "    <tr>\n",
              "      <th>Adventure</th>\n",
              "      <td>2542424.0</td>\n",
              "      <td>105660000.0</td>\n",
              "      <td>64050000.0</td>\n",
              "      <td>51950000.0</td>\n",
              "      <td>16810000.0</td>\n",
              "      <td>2.384700e+08</td>\n",
              "    </tr>\n",
              "    <tr>\n",
              "      <th>Fighting</th>\n",
              "      <td>1662060.0</td>\n",
              "      <td>223200000.0</td>\n",
              "      <td>101220000.0</td>\n",
              "      <td>87340000.0</td>\n",
              "      <td>36640000.0</td>\n",
              "      <td>4.484000e+08</td>\n",
              "    </tr>\n",
              "    <tr>\n",
              "      <th>Misc</th>\n",
              "      <td>3402377.0</td>\n",
              "      <td>408050000.0</td>\n",
              "      <td>212360000.0</td>\n",
              "      <td>105270000.0</td>\n",
              "      <td>74040000.0</td>\n",
              "      <td>7.997200e+08</td>\n",
              "    </tr>\n",
              "    <tr>\n",
              "      <th>Platform</th>\n",
              "      <td>1735533.0</td>\n",
              "      <td>446440000.0</td>\n",
              "      <td>201610000.0</td>\n",
              "      <td>130650000.0</td>\n",
              "      <td>51530000.0</td>\n",
              "      <td>8.302300e+08</td>\n",
              "    </tr>\n",
              "    <tr>\n",
              "      <th>Puzzle</th>\n",
              "      <td>1120973.0</td>\n",
              "      <td>123350000.0</td>\n",
              "      <td>50730000.0</td>\n",
              "      <td>56870000.0</td>\n",
              "      <td>12520000.0</td>\n",
              "      <td>2.434700e+08</td>\n",
              "    </tr>\n",
              "    <tr>\n",
              "      <th>Racing</th>\n",
              "      <td>2426113.0</td>\n",
              "      <td>357190000.0</td>\n",
              "      <td>237100000.0</td>\n",
              "      <td>56400000.0</td>\n",
              "      <td>77100000.0</td>\n",
              "      <td>7.277900e+08</td>\n",
              "    </tr>\n",
              "    <tr>\n",
              "      <th>Role-Playing</th>\n",
              "      <td>2926353.0</td>\n",
              "      <td>319540000.0</td>\n",
              "      <td>183580000.0</td>\n",
              "      <td>344950000.0</td>\n",
              "      <td>56960000.0</td>\n",
              "      <td>9.050300e+08</td>\n",
              "    </tr>\n",
              "    <tr>\n",
              "      <th>Shooter</th>\n",
              "      <td>2543679.0</td>\n",
              "      <td>581920000.0</td>\n",
              "      <td>313050000.0</td>\n",
              "      <td>38280000.0</td>\n",
              "      <td>102650000.0</td>\n",
              "      <td>1.035900e+09</td>\n",
              "    </tr>\n",
              "    <tr>\n",
              "      <th>Simulation</th>\n",
              "      <td>1693571.0</td>\n",
              "      <td>182960000.0</td>\n",
              "      <td>113350000.0</td>\n",
              "      <td>63700000.0</td>\n",
              "      <td>31480000.0</td>\n",
              "      <td>3.914900e+08</td>\n",
              "    </tr>\n",
              "    <tr>\n",
              "      <th>Sports</th>\n",
              "      <td>4590719.0</td>\n",
              "      <td>680520000.0</td>\n",
              "      <td>376480000.0</td>\n",
              "      <td>135370000.0</td>\n",
              "      <td>134670000.0</td>\n",
              "      <td>1.327040e+09</td>\n",
              "    </tr>\n",
              "    <tr>\n",
              "      <th>Strategy</th>\n",
              "      <td>1333950.0</td>\n",
              "      <td>68700000.0</td>\n",
              "      <td>45320000.0</td>\n",
              "      <td>49460000.0</td>\n",
              "      <td>11360000.0</td>\n",
              "      <td>1.748400e+08</td>\n",
              "    </tr>\n",
              "  </tbody>\n",
              "</table>\n",
              "</div>"
            ],
            "text/plain": [
              "                   Year     NA_Sales  ...  Other_Sales         Total\n",
              "Genre                                 ...                           \n",
              "0              100301.0   20610000.0  ...    5540000.0  5.215000e+07\n",
              "Action        6481945.0  874810000.0  ...  186450000.0  1.741320e+09\n",
              "Adventure     2542424.0  105660000.0  ...   16810000.0  2.384700e+08\n",
              "Fighting      1662060.0  223200000.0  ...   36640000.0  4.484000e+08\n",
              "Misc          3402377.0  408050000.0  ...   74040000.0  7.997200e+08\n",
              "Platform      1735533.0  446440000.0  ...   51530000.0  8.302300e+08\n",
              "Puzzle        1120973.0  123350000.0  ...   12520000.0  2.434700e+08\n",
              "Racing        2426113.0  357190000.0  ...   77100000.0  7.277900e+08\n",
              "Role-Playing  2926353.0  319540000.0  ...   56960000.0  9.050300e+08\n",
              "Shooter       2543679.0  581920000.0  ...  102650000.0  1.035900e+09\n",
              "Simulation    1693571.0  182960000.0  ...   31480000.0  3.914900e+08\n",
              "Sports        4590719.0  680520000.0  ...  134670000.0  1.327040e+09\n",
              "Strategy      1333950.0   68700000.0  ...   11360000.0  1.748400e+08\n",
              "\n",
              "[13 rows x 6 columns]"
            ]
          },
          "metadata": {},
          "execution_count": 81
        }
      ]
    },
    {
      "cell_type": "code",
      "source": [
        "dftotal1 "
      ],
      "metadata": {
        "id": "Trmvo1uDkhSv",
        "colab": {
          "base_uri": "https://localhost:8080/",
          "height": 166
        },
        "outputId": "cc203c34-700c-4522-af9d-7d09955dc7db"
      },
      "execution_count": null,
      "outputs": [
        {
          "output_type": "error",
          "ename": "NameError",
          "evalue": "ignored",
          "traceback": [
            "\u001b[0;31m---------------------------------------------------------------------------\u001b[0m",
            "\u001b[0;31mNameError\u001b[0m                                 Traceback (most recent call last)",
            "\u001b[0;32m<ipython-input-3-008af6013ba1>\u001b[0m in \u001b[0;36m<module>\u001b[0;34m()\u001b[0m\n\u001b[0;32m----> 1\u001b[0;31m \u001b[0mdftotal1\u001b[0m\u001b[0;34m\u001b[0m\u001b[0;34m\u001b[0m\u001b[0m\n\u001b[0m",
            "\u001b[0;31mNameError\u001b[0m: name 'dftotal1' is not defined"
          ]
        }
      ]
    },
    {
      "cell_type": "code",
      "source": [
        "df25 = dftotal.head(25)"
      ],
      "metadata": {
        "id": "3ytVz6vYQBpx"
      },
      "execution_count": 20,
      "outputs": []
    },
    {
      "cell_type": "code",
      "source": [
        "df25"
      ],
      "metadata": {
        "colab": {
          "base_uri": "https://localhost:8080/",
          "height": 833
        },
        "id": "-9Zr6v7kQE2j",
        "outputId": "a71dbf97-43be-4ba4-d5e6-6d3b87b29550"
      },
      "execution_count": null,
      "outputs": [
        {
          "output_type": "execute_result",
          "data": {
            "text/html": [
              "<div>\n",
              "<style scoped>\n",
              "    .dataframe tbody tr th:only-of-type {\n",
              "        vertical-align: middle;\n",
              "    }\n",
              "\n",
              "    .dataframe tbody tr th {\n",
              "        vertical-align: top;\n",
              "    }\n",
              "\n",
              "    .dataframe thead th {\n",
              "        text-align: right;\n",
              "    }\n",
              "</style>\n",
              "<table border=\"1\" class=\"dataframe\">\n",
              "  <thead>\n",
              "    <tr style=\"text-align: right;\">\n",
              "      <th></th>\n",
              "      <th>Name</th>\n",
              "      <th>Platform</th>\n",
              "      <th>Year</th>\n",
              "      <th>Genre</th>\n",
              "      <th>Publisher</th>\n",
              "      <th>NA_Sales</th>\n",
              "      <th>EU_Sales</th>\n",
              "      <th>JP_Sales</th>\n",
              "      <th>Other_Sales</th>\n",
              "      <th>Total</th>\n",
              "    </tr>\n",
              "  </thead>\n",
              "  <tbody>\n",
              "    <tr>\n",
              "      <th>2908</th>\n",
              "      <td>Wii Sports</td>\n",
              "      <td>Wii</td>\n",
              "      <td>2006.0</td>\n",
              "      <td>Sports</td>\n",
              "      <td>Nintendo</td>\n",
              "      <td>41490000.0</td>\n",
              "      <td>29020000.0</td>\n",
              "      <td>3770000.0</td>\n",
              "      <td>8460000.0</td>\n",
              "      <td>82740000.0</td>\n",
              "    </tr>\n",
              "    <tr>\n",
              "      <th>4199</th>\n",
              "      <td>Super Mario Bros.</td>\n",
              "      <td>NES</td>\n",
              "      <td>1985.0</td>\n",
              "      <td>Platform</td>\n",
              "      <td>Nintendo</td>\n",
              "      <td>29080000.0</td>\n",
              "      <td>3580000.0</td>\n",
              "      <td>6810000.0</td>\n",
              "      <td>770000.0</td>\n",
              "      <td>40240000.0</td>\n",
              "    </tr>\n",
              "    <tr>\n",
              "      <th>12579</th>\n",
              "      <td>Mario Kart Wii</td>\n",
              "      <td>Wii</td>\n",
              "      <td>2008.0</td>\n",
              "      <td>Racing</td>\n",
              "      <td>Nintendo</td>\n",
              "      <td>15850000.0</td>\n",
              "      <td>12880000.0</td>\n",
              "      <td>3790000.0</td>\n",
              "      <td>3310000.0</td>\n",
              "      <td>35830000.0</td>\n",
              "    </tr>\n",
              "    <tr>\n",
              "      <th>3352</th>\n",
              "      <td>Wii Sports Resort</td>\n",
              "      <td>Wii</td>\n",
              "      <td>2009.0</td>\n",
              "      <td>Sports</td>\n",
              "      <td>Nintendo</td>\n",
              "      <td>15750000.0</td>\n",
              "      <td>11010000.0</td>\n",
              "      <td>3280000.0</td>\n",
              "      <td>2960000.0</td>\n",
              "      <td>33000000.0</td>\n",
              "    </tr>\n",
              "    <tr>\n",
              "      <th>7829</th>\n",
              "      <td>Pokemon Red/Pokemon Blue</td>\n",
              "      <td>GB</td>\n",
              "      <td>1996.0</td>\n",
              "      <td>Role-Playing</td>\n",
              "      <td>Nintendo</td>\n",
              "      <td>11270000.0</td>\n",
              "      <td>8890000.0</td>\n",
              "      <td>10220000.0</td>\n",
              "      <td>1000000.0</td>\n",
              "      <td>31380000.0</td>\n",
              "    </tr>\n",
              "    <tr>\n",
              "      <th>1203</th>\n",
              "      <td>Tetris</td>\n",
              "      <td>GB</td>\n",
              "      <td>1989.0</td>\n",
              "      <td>Puzzle</td>\n",
              "      <td>Nintendo</td>\n",
              "      <td>23200000.0</td>\n",
              "      <td>2260000.0</td>\n",
              "      <td>4220000.0</td>\n",
              "      <td>580000.0</td>\n",
              "      <td>30260000.0</td>\n",
              "    </tr>\n",
              "    <tr>\n",
              "      <th>6937</th>\n",
              "      <td>New Super Mario Bros.</td>\n",
              "      <td>DS</td>\n",
              "      <td>2006.0</td>\n",
              "      <td>Platform</td>\n",
              "      <td>Nintendo</td>\n",
              "      <td>11380000.0</td>\n",
              "      <td>9230000.0</td>\n",
              "      <td>6500000.0</td>\n",
              "      <td>2900000.0</td>\n",
              "      <td>30010000.0</td>\n",
              "    </tr>\n",
              "    <tr>\n",
              "      <th>3014</th>\n",
              "      <td>Wii Play</td>\n",
              "      <td>Wii</td>\n",
              "      <td>2006.0</td>\n",
              "      <td>Misc</td>\n",
              "      <td>Nintendo</td>\n",
              "      <td>14030000.0</td>\n",
              "      <td>9200000.0</td>\n",
              "      <td>2930000.0</td>\n",
              "      <td>2850000.0</td>\n",
              "      <td>29010000.0</td>\n",
              "    </tr>\n",
              "    <tr>\n",
              "      <th>16531</th>\n",
              "      <td>New Super Mario Bros. Wii</td>\n",
              "      <td>Wii</td>\n",
              "      <td>2009.0</td>\n",
              "      <td>Platform</td>\n",
              "      <td>Nintendo</td>\n",
              "      <td>14590000.0</td>\n",
              "      <td>7060000.0</td>\n",
              "      <td>4700000.0</td>\n",
              "      <td>2260000.0</td>\n",
              "      <td>28610000.0</td>\n",
              "    </tr>\n",
              "    <tr>\n",
              "      <th>10488</th>\n",
              "      <td>Duck Hunt</td>\n",
              "      <td>NES</td>\n",
              "      <td>1984.0</td>\n",
              "      <td>Shooter</td>\n",
              "      <td>Nintendo</td>\n",
              "      <td>26930000.0</td>\n",
              "      <td>630000.0</td>\n",
              "      <td>280000.0</td>\n",
              "      <td>470000.0</td>\n",
              "      <td>28310000.0</td>\n",
              "    </tr>\n",
              "    <tr>\n",
              "      <th>11137</th>\n",
              "      <td>Nintendogs</td>\n",
              "      <td>DS</td>\n",
              "      <td>2005.0</td>\n",
              "      <td>Simulation</td>\n",
              "      <td>Nintendo</td>\n",
              "      <td>9070000.0</td>\n",
              "      <td>11000000.0</td>\n",
              "      <td>1930000.0</td>\n",
              "      <td>2750000.0</td>\n",
              "      <td>24750000.0</td>\n",
              "    </tr>\n",
              "    <tr>\n",
              "      <th>10650</th>\n",
              "      <td>Mario Kart DS</td>\n",
              "      <td>DS</td>\n",
              "      <td>2005.0</td>\n",
              "      <td>Racing</td>\n",
              "      <td>Nintendo</td>\n",
              "      <td>9810000.0</td>\n",
              "      <td>7570000.0</td>\n",
              "      <td>4130000.0</td>\n",
              "      <td>1920000.0</td>\n",
              "      <td>23430000.0</td>\n",
              "    </tr>\n",
              "    <tr>\n",
              "      <th>9416</th>\n",
              "      <td>Pokemon Gold/Pokemon Silver</td>\n",
              "      <td>GB</td>\n",
              "      <td>1999.0</td>\n",
              "      <td>Role-Playing</td>\n",
              "      <td>Nintendo</td>\n",
              "      <td>9000000.0</td>\n",
              "      <td>6180000.0</td>\n",
              "      <td>7200000.0</td>\n",
              "      <td>710000.0</td>\n",
              "      <td>23090000.0</td>\n",
              "    </tr>\n",
              "    <tr>\n",
              "      <th>3435</th>\n",
              "      <td>Wii Fit</td>\n",
              "      <td>Wii</td>\n",
              "      <td>2007.0</td>\n",
              "      <td>Sports</td>\n",
              "      <td>Nintendo</td>\n",
              "      <td>8940000.0</td>\n",
              "      <td>8030000.0</td>\n",
              "      <td>3600000.0</td>\n",
              "      <td>2150000.0</td>\n",
              "      <td>22720000.0</td>\n",
              "    </tr>\n",
              "    <tr>\n",
              "      <th>10899</th>\n",
              "      <td>Wii Fit Plus</td>\n",
              "      <td>Wii</td>\n",
              "      <td>2009.0</td>\n",
              "      <td>Sports</td>\n",
              "      <td>Nintendo</td>\n",
              "      <td>9090000.0</td>\n",
              "      <td>8590000.0</td>\n",
              "      <td>2530000.0</td>\n",
              "      <td>1790000.0</td>\n",
              "      <td>22000000.0</td>\n",
              "    </tr>\n",
              "    <tr>\n",
              "      <th>4343</th>\n",
              "      <td>Kinect Adventures!</td>\n",
              "      <td>X360</td>\n",
              "      <td>2010.0</td>\n",
              "      <td>Misc</td>\n",
              "      <td>Microsoft Game Studios</td>\n",
              "      <td>14970000.0</td>\n",
              "      <td>4940000.0</td>\n",
              "      <td>240000.0</td>\n",
              "      <td>1670000.0</td>\n",
              "      <td>21820000.0</td>\n",
              "    </tr>\n",
              "    <tr>\n",
              "      <th>3483</th>\n",
              "      <td>Grand Theft Auto V</td>\n",
              "      <td>PS3</td>\n",
              "      <td>2013.0</td>\n",
              "      <td>Action</td>\n",
              "      <td>Take-Two Interactive</td>\n",
              "      <td>7010000.0</td>\n",
              "      <td>9270000.0</td>\n",
              "      <td>970000.0</td>\n",
              "      <td>4140000.0</td>\n",
              "      <td>21390000.0</td>\n",
              "    </tr>\n",
              "    <tr>\n",
              "      <th>14669</th>\n",
              "      <td>Grand Theft Auto: San Andreas</td>\n",
              "      <td>PS2</td>\n",
              "      <td>2004.0</td>\n",
              "      <td>Action</td>\n",
              "      <td>Take-Two Interactive</td>\n",
              "      <td>9430000.0</td>\n",
              "      <td>400000.0</td>\n",
              "      <td>410000.0</td>\n",
              "      <td>10570000.0</td>\n",
              "      <td>20810000.0</td>\n",
              "    </tr>\n",
              "    <tr>\n",
              "      <th>13111</th>\n",
              "      <td>Super Mario World</td>\n",
              "      <td>SNES</td>\n",
              "      <td>1990.0</td>\n",
              "      <td>Platform</td>\n",
              "      <td>Nintendo</td>\n",
              "      <td>12780000.0</td>\n",
              "      <td>3750000.0</td>\n",
              "      <td>3540000.0</td>\n",
              "      <td>550000.0</td>\n",
              "      <td>20620000.0</td>\n",
              "    </tr>\n",
              "    <tr>\n",
              "      <th>13229</th>\n",
              "      <td>Brain Age: Train Your Brain in Minutes a Day</td>\n",
              "      <td>DS</td>\n",
              "      <td>2005.0</td>\n",
              "      <td>Misc</td>\n",
              "      <td>Nintendo</td>\n",
              "      <td>4750000.0</td>\n",
              "      <td>9260000.0</td>\n",
              "      <td>4160000.0</td>\n",
              "      <td>2050000.0</td>\n",
              "      <td>20220000.0</td>\n",
              "    </tr>\n",
              "    <tr>\n",
              "      <th>10555</th>\n",
              "      <td>Pokemon Diamond/Pokemon Pearl</td>\n",
              "      <td>DS</td>\n",
              "      <td>2006.0</td>\n",
              "      <td>Role-Playing</td>\n",
              "      <td>Nintendo</td>\n",
              "      <td>6420000.0</td>\n",
              "      <td>4520000.0</td>\n",
              "      <td>6040000.0</td>\n",
              "      <td>1370000.0</td>\n",
              "      <td>18350000.0</td>\n",
              "    </tr>\n",
              "    <tr>\n",
              "      <th>9491</th>\n",
              "      <td>Super Mario Land</td>\n",
              "      <td>GB</td>\n",
              "      <td>1989.0</td>\n",
              "      <td>Platform</td>\n",
              "      <td>Nintendo</td>\n",
              "      <td>10830000.0</td>\n",
              "      <td>2710000.0</td>\n",
              "      <td>4180000.0</td>\n",
              "      <td>420000.0</td>\n",
              "      <td>18140000.0</td>\n",
              "    </tr>\n",
              "    <tr>\n",
              "      <th>14856</th>\n",
              "      <td>Super Mario Bros. 3</td>\n",
              "      <td>NES</td>\n",
              "      <td>1988.0</td>\n",
              "      <td>Platform</td>\n",
              "      <td>Nintendo</td>\n",
              "      <td>9540000.0</td>\n",
              "      <td>3440000.0</td>\n",
              "      <td>3840000.0</td>\n",
              "      <td>460000.0</td>\n",
              "      <td>17280000.0</td>\n",
              "    </tr>\n",
              "    <tr>\n",
              "      <th>10913</th>\n",
              "      <td>Grand Theft Auto V</td>\n",
              "      <td>X360</td>\n",
              "      <td>2013.0</td>\n",
              "      <td>Action</td>\n",
              "      <td>Take-Two Interactive</td>\n",
              "      <td>9630000.0</td>\n",
              "      <td>5310000.0</td>\n",
              "      <td>60000.0</td>\n",
              "      <td>1380000.0</td>\n",
              "      <td>16380000.0</td>\n",
              "    </tr>\n",
              "    <tr>\n",
              "      <th>5340</th>\n",
              "      <td>Grand Theft Auto: Vice City</td>\n",
              "      <td>PS2</td>\n",
              "      <td>2002.0</td>\n",
              "      <td>Action</td>\n",
              "      <td>Take-Two Interactive</td>\n",
              "      <td>8410000.0</td>\n",
              "      <td>5490000.0</td>\n",
              "      <td>470000.0</td>\n",
              "      <td>1780000.0</td>\n",
              "      <td>16150000.0</td>\n",
              "    </tr>\n",
              "  </tbody>\n",
              "</table>\n",
              "</div>"
            ],
            "text/plain": [
              "                                               Name  ...       Total\n",
              "2908                                     Wii Sports  ...  82740000.0\n",
              "4199                              Super Mario Bros.  ...  40240000.0\n",
              "12579                                Mario Kart Wii  ...  35830000.0\n",
              "3352                              Wii Sports Resort  ...  33000000.0\n",
              "7829                       Pokemon Red/Pokemon Blue  ...  31380000.0\n",
              "1203                                         Tetris  ...  30260000.0\n",
              "6937                          New Super Mario Bros.  ...  30010000.0\n",
              "3014                                       Wii Play  ...  29010000.0\n",
              "16531                     New Super Mario Bros. Wii  ...  28610000.0\n",
              "10488                                     Duck Hunt  ...  28310000.0\n",
              "11137                                    Nintendogs  ...  24750000.0\n",
              "10650                                 Mario Kart DS  ...  23430000.0\n",
              "9416                    Pokemon Gold/Pokemon Silver  ...  23090000.0\n",
              "3435                                        Wii Fit  ...  22720000.0\n",
              "10899                                  Wii Fit Plus  ...  22000000.0\n",
              "4343                             Kinect Adventures!  ...  21820000.0\n",
              "3483                             Grand Theft Auto V  ...  21390000.0\n",
              "14669                 Grand Theft Auto: San Andreas  ...  20810000.0\n",
              "13111                             Super Mario World  ...  20620000.0\n",
              "13229  Brain Age: Train Your Brain in Minutes a Day  ...  20220000.0\n",
              "10555                 Pokemon Diamond/Pokemon Pearl  ...  18350000.0\n",
              "9491                               Super Mario Land  ...  18140000.0\n",
              "14856                           Super Mario Bros. 3  ...  17280000.0\n",
              "10913                            Grand Theft Auto V  ...  16380000.0\n",
              "5340                    Grand Theft Auto: Vice City  ...  16150000.0\n",
              "\n",
              "[25 rows x 10 columns]"
            ]
          },
          "metadata": {},
          "execution_count": 95
        }
      ]
    },
    {
      "cell_type": "code",
      "source": [
        "#좀 더 깔끔한 시각화가 필요하다 \n",
        "#판매량 상위 25개 게임의 장르 분포도 그래프 \n",
        "\n",
        "sns.countplot(df25['Genre'])\n",
        "plt.xticks(\n",
        "    rotation=40, \n",
        "    horizontalalignment='right',\n",
        "    fontweight='light',\n",
        "    fontsize='medium'  \n",
        ")"
      ],
      "metadata": {
        "colab": {
          "base_uri": "https://localhost:8080/",
          "height": 236
        },
        "id": "vQUhhPyYPzoh",
        "outputId": "42ec44a1-11f8-402c-ac2c-884009b7e2e0"
      },
      "execution_count": null,
      "outputs": [
        {
          "output_type": "error",
          "ename": "NameError",
          "evalue": "ignored",
          "traceback": [
            "\u001b[0;31m---------------------------------------------------------------------------\u001b[0m",
            "\u001b[0;31mNameError\u001b[0m                                 Traceback (most recent call last)",
            "\u001b[0;32m<ipython-input-1-e8da81933268>\u001b[0m in \u001b[0;36m<module>\u001b[0;34m()\u001b[0m\n\u001b[1;32m      2\u001b[0m \u001b[0;31m#판매량 상위 25개 게임의 장르 분포도 그래프\u001b[0m\u001b[0;34m\u001b[0m\u001b[0;34m\u001b[0m\u001b[0;34m\u001b[0m\u001b[0m\n\u001b[1;32m      3\u001b[0m \u001b[0;34m\u001b[0m\u001b[0m\n\u001b[0;32m----> 4\u001b[0;31m \u001b[0msns\u001b[0m\u001b[0;34m.\u001b[0m\u001b[0mcountplot\u001b[0m\u001b[0;34m(\u001b[0m\u001b[0mdf25\u001b[0m\u001b[0;34m[\u001b[0m\u001b[0;34m'Genre'\u001b[0m\u001b[0;34m]\u001b[0m\u001b[0;34m)\u001b[0m\u001b[0;34m\u001b[0m\u001b[0;34m\u001b[0m\u001b[0m\n\u001b[0m\u001b[1;32m      5\u001b[0m plt.xticks(\n\u001b[1;32m      6\u001b[0m     \u001b[0mrotation\u001b[0m\u001b[0;34m=\u001b[0m\u001b[0;36m40\u001b[0m\u001b[0;34m,\u001b[0m\u001b[0;34m\u001b[0m\u001b[0;34m\u001b[0m\u001b[0m\n",
            "\u001b[0;31mNameError\u001b[0m: name 'sns' is not defined"
          ]
        }
      ]
    },
    {
      "cell_type": "code",
      "source": [
        "# 상위 25개 게임의 출시 회사 \n",
        "# 닌텐도가 앞도적으로 많다 \n",
        "\n",
        "sns.countplot(df25['Publisher'])\n",
        "plt.title('Who are the publishers of Top 25 Games?')"
      ],
      "metadata": {
        "colab": {
          "base_uri": "https://localhost:8080/",
          "height": 367
        },
        "id": "yKs3wVWPBGeQ",
        "outputId": "5a463313-b5f7-4d9e-85da-a9af4f0337ed"
      },
      "execution_count": 40,
      "outputs": [
        {
          "output_type": "stream",
          "name": "stderr",
          "text": [
            "/usr/local/lib/python3.7/dist-packages/seaborn/_decorators.py:43: FutureWarning: Pass the following variable as a keyword arg: x. From version 0.12, the only valid positional argument will be `data`, and passing other arguments without an explicit keyword will result in an error or misinterpretation.\n",
            "  FutureWarning\n"
          ]
        },
        {
          "output_type": "execute_result",
          "data": {
            "text/plain": [
              "Text(0.5, 1.0, 'Who are the publishers of Top 25 Games?')"
            ]
          },
          "metadata": {},
          "execution_count": 40
        },
        {
          "output_type": "display_data",
          "data": {
            "image/png": "[encoded data removed]",
            "text/plain": [
              "<Figure size 432x288 with 1 Axes>"
            ]
          },
          "metadata": {
            "needs_background": "light"
          }
        }
      ]
    },
    {
      "cell_type": "code",
      "source": [
        "df_publisher = dftotal.groupby('Publisher').sum()\n",
        "df_publisher.head(10)"
      ],
      "metadata": {
        "colab": {
          "base_uri": "https://localhost:8080/",
          "height": 394
        },
        "id": "_KgHorVnlqhD",
        "outputId": "f5318c37-797b-4251-8d20-98d913318ecc"
      },
      "execution_count": null,
      "outputs": [
        {
          "output_type": "execute_result",
          "data": {
            "text/html": [
              "<div>\n",
              "<style scoped>\n",
              "    .dataframe tbody tr th:only-of-type {\n",
              "        vertical-align: middle;\n",
              "    }\n",
              "\n",
              "    .dataframe tbody tr th {\n",
              "        vertical-align: top;\n",
              "    }\n",
              "\n",
              "    .dataframe thead th {\n",
              "        text-align: right;\n",
              "    }\n",
              "</style>\n",
              "<table border=\"1\" class=\"dataframe\">\n",
              "  <thead>\n",
              "    <tr style=\"text-align: right;\">\n",
              "      <th></th>\n",
              "      <th>Year</th>\n",
              "      <th>NA_Sales</th>\n",
              "      <th>EU_Sales</th>\n",
              "      <th>JP_Sales</th>\n",
              "      <th>Other_Sales</th>\n",
              "      <th>Total</th>\n",
              "    </tr>\n",
              "    <tr>\n",
              "      <th>Publisher</th>\n",
              "      <th></th>\n",
              "      <th></th>\n",
              "      <th></th>\n",
              "      <th></th>\n",
              "      <th></th>\n",
              "      <th></th>\n",
              "    </tr>\n",
              "  </thead>\n",
              "  <tbody>\n",
              "    <tr>\n",
              "      <th>0</th>\n",
              "      <td>116245.0</td>\n",
              "      <td>8540000.0</td>\n",
              "      <td>4680000.0</td>\n",
              "      <td>930000.0</td>\n",
              "      <td>670000.0</td>\n",
              "      <td>14820000.0</td>\n",
              "    </tr>\n",
              "    <tr>\n",
              "      <th>10TACLE Studios</th>\n",
              "      <td>6020.0</td>\n",
              "      <td>70000.0</td>\n",
              "      <td>40000.0</td>\n",
              "      <td>0.0</td>\n",
              "      <td>0.0</td>\n",
              "      <td>110000.0</td>\n",
              "    </tr>\n",
              "    <tr>\n",
              "      <th>1C Company</th>\n",
              "      <td>6031.0</td>\n",
              "      <td>10000.0</td>\n",
              "      <td>70000.0</td>\n",
              "      <td>0.0</td>\n",
              "      <td>20000.0</td>\n",
              "      <td>100000.0</td>\n",
              "    </tr>\n",
              "    <tr>\n",
              "      <th>20th Century Fox Video Games</th>\n",
              "      <td>9907.0</td>\n",
              "      <td>1820000.0</td>\n",
              "      <td>100000.0</td>\n",
              "      <td>0.0</td>\n",
              "      <td>10000.0</td>\n",
              "      <td>1930000.0</td>\n",
              "    </tr>\n",
              "    <tr>\n",
              "      <th>2D Boy</th>\n",
              "      <td>2008.0</td>\n",
              "      <td>0.0</td>\n",
              "      <td>30000.0</td>\n",
              "      <td>0.0</td>\n",
              "      <td>10000.0</td>\n",
              "      <td>40000.0</td>\n",
              "    </tr>\n",
              "    <tr>\n",
              "      <th>3DO</th>\n",
              "      <td>72018.0</td>\n",
              "      <td>6480000.0</td>\n",
              "      <td>3040000.0</td>\n",
              "      <td>0.0</td>\n",
              "      <td>630000.0</td>\n",
              "      <td>10150000.0</td>\n",
              "    </tr>\n",
              "    <tr>\n",
              "      <th>49Games</th>\n",
              "      <td>2009.0</td>\n",
              "      <td>0.0</td>\n",
              "      <td>40000.0</td>\n",
              "      <td>0.0</td>\n",
              "      <td>0.0</td>\n",
              "      <td>40000.0</td>\n",
              "    </tr>\n",
              "    <tr>\n",
              "      <th>505 Games</th>\n",
              "      <td>385693.0</td>\n",
              "      <td>31830000.0</td>\n",
              "      <td>16430000.0</td>\n",
              "      <td>2050000.0</td>\n",
              "      <td>5440000.0</td>\n",
              "      <td>55750000.0</td>\n",
              "    </tr>\n",
              "    <tr>\n",
              "      <th>5pb</th>\n",
              "      <td>122717.0</td>\n",
              "      <td>20000.0</td>\n",
              "      <td>0.0</td>\n",
              "      <td>1610000.0</td>\n",
              "      <td>0.0</td>\n",
              "      <td>1630000.0</td>\n",
              "    </tr>\n",
              "    <tr>\n",
              "      <th>7G//AMES</th>\n",
              "      <td>8043.0</td>\n",
              "      <td>0.0</td>\n",
              "      <td>60000.0</td>\n",
              "      <td>0.0</td>\n",
              "      <td>0.0</td>\n",
              "      <td>60000.0</td>\n",
              "    </tr>\n",
              "  </tbody>\n",
              "</table>\n",
              "</div>"
            ],
            "text/plain": [
              "                                  Year    NA_Sales  ...  Other_Sales       Total\n",
              "Publisher                                           ...                         \n",
              "0                             116245.0   8540000.0  ...     670000.0  14820000.0\n",
              "10TACLE Studios                 6020.0     70000.0  ...          0.0    110000.0\n",
              "1C Company                      6031.0     10000.0  ...      20000.0    100000.0\n",
              "20th Century Fox Video Games    9907.0   1820000.0  ...      10000.0   1930000.0\n",
              "2D Boy                          2008.0         0.0  ...      10000.0     40000.0\n",
              "3DO                            72018.0   6480000.0  ...     630000.0  10150000.0\n",
              "49Games                         2009.0         0.0  ...          0.0     40000.0\n",
              "505 Games                     385693.0  31830000.0  ...    5440000.0  55750000.0\n",
              "5pb                           122717.0     20000.0  ...          0.0   1630000.0\n",
              "7G//AMES                        8043.0         0.0  ...          0.0     60000.0\n",
              "\n",
              "[10 rows x 6 columns]"
            ]
          },
          "metadata": {},
          "execution_count": 101
        }
      ]
    },
    {
      "cell_type": "code",
      "source": [
        "publisher_dat = df_publisher.sort_values('Total',ascending=False)\n",
        "publisher_dat"
      ],
      "metadata": {
        "colab": {
          "base_uri": "https://localhost:8080/",
          "height": 455
        },
        "id": "CBczniBFmbwW",
        "outputId": "0526bc8f-6d95-4547-a643-9bee65eaec55"
      },
      "execution_count": null,
      "outputs": [
        {
          "output_type": "execute_result",
          "data": {
            "text/html": [
              "<div>\n",
              "<style scoped>\n",
              "    .dataframe tbody tr th:only-of-type {\n",
              "        vertical-align: middle;\n",
              "    }\n",
              "\n",
              "    .dataframe tbody tr th {\n",
              "        vertical-align: top;\n",
              "    }\n",
              "\n",
              "    .dataframe thead th {\n",
              "        text-align: right;\n",
              "    }\n",
              "</style>\n",
              "<table border=\"1\" class=\"dataframe\">\n",
              "  <thead>\n",
              "    <tr style=\"text-align: right;\">\n",
              "      <th></th>\n",
              "      <th>Year</th>\n",
              "      <th>NA_Sales</th>\n",
              "      <th>EU_Sales</th>\n",
              "      <th>JP_Sales</th>\n",
              "      <th>Other_Sales</th>\n",
              "      <th>Total</th>\n",
              "    </tr>\n",
              "    <tr>\n",
              "      <th>Publisher</th>\n",
              "      <th></th>\n",
              "      <th></th>\n",
              "      <th></th>\n",
              "      <th></th>\n",
              "      <th></th>\n",
              "      <th></th>\n",
              "    </tr>\n",
              "  </thead>\n",
              "  <tbody>\n",
              "    <tr>\n",
              "      <th>Nintendo</th>\n",
              "      <td>1408666.0</td>\n",
              "      <td>816870000.0</td>\n",
              "      <td>418740000.0</td>\n",
              "      <td>455420000.0</td>\n",
              "      <td>95330000.0</td>\n",
              "      <td>1.786360e+09</td>\n",
              "    </tr>\n",
              "    <tr>\n",
              "      <th>Electronic Arts</th>\n",
              "      <td>2710562.0</td>\n",
              "      <td>595070000.0</td>\n",
              "      <td>371270000.0</td>\n",
              "      <td>14040000.0</td>\n",
              "      <td>129770000.0</td>\n",
              "      <td>1.110150e+09</td>\n",
              "    </tr>\n",
              "    <tr>\n",
              "      <th>Activision</th>\n",
              "      <td>1956979.0</td>\n",
              "      <td>429700000.0</td>\n",
              "      <td>215530000.0</td>\n",
              "      <td>6540000.0</td>\n",
              "      <td>75340000.0</td>\n",
              "      <td>7.271100e+08</td>\n",
              "    </tr>\n",
              "    <tr>\n",
              "      <th>Sony Computer Entertainment</th>\n",
              "      <td>1369034.0</td>\n",
              "      <td>265220000.0</td>\n",
              "      <td>187720000.0</td>\n",
              "      <td>74100000.0</td>\n",
              "      <td>80450000.0</td>\n",
              "      <td>6.074900e+08</td>\n",
              "    </tr>\n",
              "    <tr>\n",
              "      <th>Ubisoft</th>\n",
              "      <td>1849194.0</td>\n",
              "      <td>253430000.0</td>\n",
              "      <td>163320000.0</td>\n",
              "      <td>7500000.0</td>\n",
              "      <td>50260000.0</td>\n",
              "      <td>4.745100e+08</td>\n",
              "    </tr>\n",
              "    <tr>\n",
              "      <th>...</th>\n",
              "      <td>...</td>\n",
              "      <td>...</td>\n",
              "      <td>...</td>\n",
              "      <td>...</td>\n",
              "      <td>...</td>\n",
              "      <td>...</td>\n",
              "    </tr>\n",
              "    <tr>\n",
              "      <th>Interworks Unlimited, Inc.</th>\n",
              "      <td>2012.0</td>\n",
              "      <td>10000.0</td>\n",
              "      <td>0.0</td>\n",
              "      <td>0.0</td>\n",
              "      <td>0.0</td>\n",
              "      <td>1.000000e+04</td>\n",
              "    </tr>\n",
              "    <tr>\n",
              "      <th>Interchannel-Holon</th>\n",
              "      <td>2007.0</td>\n",
              "      <td>0.0</td>\n",
              "      <td>0.0</td>\n",
              "      <td>10000.0</td>\n",
              "      <td>0.0</td>\n",
              "      <td>1.000000e+04</td>\n",
              "    </tr>\n",
              "    <tr>\n",
              "      <th>Genterprise</th>\n",
              "      <td>2009.0</td>\n",
              "      <td>0.0</td>\n",
              "      <td>0.0</td>\n",
              "      <td>10000.0</td>\n",
              "      <td>0.0</td>\n",
              "      <td>1.000000e+04</td>\n",
              "    </tr>\n",
              "    <tr>\n",
              "      <th>UIG Entertainment</th>\n",
              "      <td>2016.0</td>\n",
              "      <td>0.0</td>\n",
              "      <td>10000.0</td>\n",
              "      <td>0.0</td>\n",
              "      <td>0.0</td>\n",
              "      <td>1.000000e+04</td>\n",
              "    </tr>\n",
              "    <tr>\n",
              "      <th>Media Entertainment</th>\n",
              "      <td>2002.0</td>\n",
              "      <td>0.0</td>\n",
              "      <td>0.0</td>\n",
              "      <td>10000.0</td>\n",
              "      <td>0.0</td>\n",
              "      <td>1.000000e+04</td>\n",
              "    </tr>\n",
              "  </tbody>\n",
              "</table>\n",
              "<p>579 rows × 6 columns</p>\n",
              "</div>"
            ],
            "text/plain": [
              "                                  Year     NA_Sales  ...  Other_Sales         Total\n",
              "Publisher                                            ...                           \n",
              "Nintendo                     1408666.0  816870000.0  ...   95330000.0  1.786360e+09\n",
              "Electronic Arts              2710562.0  595070000.0  ...  129770000.0  1.110150e+09\n",
              "Activision                   1956979.0  429700000.0  ...   75340000.0  7.271100e+08\n",
              "Sony Computer Entertainment  1369034.0  265220000.0  ...   80450000.0  6.074900e+08\n",
              "Ubisoft                      1849194.0  253430000.0  ...   50260000.0  4.745100e+08\n",
              "...                                ...          ...  ...          ...           ...\n",
              "Interworks Unlimited, Inc.      2012.0      10000.0  ...          0.0  1.000000e+04\n",
              "Interchannel-Holon              2007.0          0.0  ...          0.0  1.000000e+04\n",
              "Genterprise                     2009.0          0.0  ...          0.0  1.000000e+04\n",
              "UIG Entertainment               2016.0          0.0  ...          0.0  1.000000e+04\n",
              "Media Entertainment             2002.0          0.0  ...          0.0  1.000000e+04\n",
              "\n",
              "[579 rows x 6 columns]"
            ]
          },
          "metadata": {},
          "execution_count": 105
        }
      ]
    },
    {
      "cell_type": "code",
      "source": [
        "publisher_dat10 = publisher_dat.head(10)"
      ],
      "metadata": {
        "id": "P6MyXjQMAWUd"
      },
      "execution_count": null,
      "outputs": []
    },
    {
      "cell_type": "code",
      "source": [
        "# Global Top 10 Publisher 들의 게임 판매량  \n",
        "publisher_dat10['Total'].plot.barh();"
      ],
      "metadata": {
        "colab": {
          "base_uri": "https://localhost:8080/",
          "height": 278
        },
        "id": "Or4LSqNaApZr",
        "outputId": "f8f2680c-feaa-4cea-cf23-4545631cf45a"
      },
      "execution_count": null,
      "outputs": [
        {
          "output_type": "display_data",
          "data": {
            "image/png": "[encoded data removed]",
            "text/plain": [
              "<Figure size 432x288 with 1 Axes>"
            ]
          },
          "metadata": {
            "needs_background": "light"
          }
        }
      ]
    },
    {
      "cell_type": "code",
      "source": [
        "$# 전체 출고량 (모든 지역에 걸친) Top 10 게임의 판매량 Box Plot \n",
        "# Wii Sports의 판매량이 독보적으로 높음 \n",
        "# 그외 다른 게임들의 판매량은 비슷한 편입니다. \n",
        "\n",
        "Ans['Total'].plot.barh();"
      ],
      "metadata": {
        "colab": {
          "base_uri": "https://localhost:8080/",
          "height": 278
        },
        "id": "B4sJ9h6bIJHY",
        "outputId": "547d5b4d-6fed-43bd-db8f-e53640fdf60a"
      },
      "execution_count": null,
      "outputs": [
        {
          "output_type": "display_data",
          "data": {
            "image/png": "[encoded data removed]",
            "text/plain": [
              "<Figure size 432x288 with 1 Axes>"
            ]
          },
          "metadata": {
            "needs_background": "light"
          }
        }
      ]
    },
    {
      "cell_type": "code",
      "source": [
        "# 그 다음으로는 지역별 출고량을 정리하고, 지역별 판매량 Top 10을 뽑아보겠습니다. \n",
        "\n",
        "# 북미\n",
        "NAtotal =dftotal.sort_values('NA_Sales',ascending=False)\n",
        "\n",
        "# 유럽 \n",
        "EU = dftotal.sort_values('EU_Sales',ascending=False)\n",
        "\n",
        "# 일본 \n",
        "JPtotal =dftotal.sort_values('JP_Sales',ascending=False)\n",
        "\n",
        "# 그외 \n",
        "Othertotal =dftotal.sort_values('Other_Sales',ascending=False)"
      ],
      "metadata": {
        "id": "4vZ4tNX2Nfwe"
      },
      "execution_count": null,
      "outputs": []
    },
    {
      "cell_type": "code",
      "source": [
        "# 북미 Top 10\n",
        "\n",
        "NAtotal.head(10)\n",
        "NAtop = NAtotal.head(10)\n",
        "NAtop.set_index('Name',inplace=True,drop=True)\n",
        "NAtop['NA_Sales'].plot.barh();"
      ],
      "metadata": {
        "colab": {
          "base_uri": "https://localhost:8080/",
          "height": 278
        },
        "id": "PY2srPcZ84EL",
        "outputId": "f1cfce12-59cf-4d16-824c-538f5a883c01"
      },
      "execution_count": null,
      "outputs": [
        {
          "output_type": "display_data",
          "data": {
            "image/png": "[encoded data removed]",
            "text/plain": [
              "<Figure size 432x288 with 1 Axes>"
            ]
          },
          "metadata": {
            "needs_background": "light"
          }
        }
      ]
    },
    {
      "cell_type": "code",
      "source": [
        "NAtop"
      ],
      "metadata": {
        "colab": {
          "base_uri": "https://localhost:8080/",
          "height": 394
        },
        "id": "uv3QtJWA2cxQ",
        "outputId": "61b80a0e-8712-4272-a289-cfe06c3c5d19"
      },
      "execution_count": null,
      "outputs": [
        {
          "output_type": "execute_result",
          "data": {
            "text/html": [
              "<div>\n",
              "<style scoped>\n",
              "    .dataframe tbody tr th:only-of-type {\n",
              "        vertical-align: middle;\n",
              "    }\n",
              "\n",
              "    .dataframe tbody tr th {\n",
              "        vertical-align: top;\n",
              "    }\n",
              "\n",
              "    .dataframe thead th {\n",
              "        text-align: right;\n",
              "    }\n",
              "</style>\n",
              "<table border=\"1\" class=\"dataframe\">\n",
              "  <thead>\n",
              "    <tr style=\"text-align: right;\">\n",
              "      <th></th>\n",
              "      <th>Platform</th>\n",
              "      <th>Year</th>\n",
              "      <th>Genre</th>\n",
              "      <th>Publisher</th>\n",
              "      <th>NA_Sales</th>\n",
              "      <th>EU_Sales</th>\n",
              "      <th>JP_Sales</th>\n",
              "      <th>Other_Sales</th>\n",
              "      <th>Total</th>\n",
              "    </tr>\n",
              "    <tr>\n",
              "      <th>Name</th>\n",
              "      <th></th>\n",
              "      <th></th>\n",
              "      <th></th>\n",
              "      <th></th>\n",
              "      <th></th>\n",
              "      <th></th>\n",
              "      <th></th>\n",
              "      <th></th>\n",
              "      <th></th>\n",
              "    </tr>\n",
              "  </thead>\n",
              "  <tbody>\n",
              "    <tr>\n",
              "      <th>Wii Sports</th>\n",
              "      <td>Wii</td>\n",
              "      <td>2006.0</td>\n",
              "      <td>Sports</td>\n",
              "      <td>Nintendo</td>\n",
              "      <td>41490000.0</td>\n",
              "      <td>29020000.0</td>\n",
              "      <td>3770000.0</td>\n",
              "      <td>8460000.0</td>\n",
              "      <td>82740000.0</td>\n",
              "    </tr>\n",
              "    <tr>\n",
              "      <th>Super Mario Bros.</th>\n",
              "      <td>NES</td>\n",
              "      <td>1985.0</td>\n",
              "      <td>Platform</td>\n",
              "      <td>Nintendo</td>\n",
              "      <td>29080000.0</td>\n",
              "      <td>3580000.0</td>\n",
              "      <td>6810000.0</td>\n",
              "      <td>770000.0</td>\n",
              "      <td>40240000.0</td>\n",
              "    </tr>\n",
              "    <tr>\n",
              "      <th>Duck Hunt</th>\n",
              "      <td>NES</td>\n",
              "      <td>1984.0</td>\n",
              "      <td>Shooter</td>\n",
              "      <td>Nintendo</td>\n",
              "      <td>26930000.0</td>\n",
              "      <td>630000.0</td>\n",
              "      <td>280000.0</td>\n",
              "      <td>470000.0</td>\n",
              "      <td>28310000.0</td>\n",
              "    </tr>\n",
              "    <tr>\n",
              "      <th>Tetris</th>\n",
              "      <td>GB</td>\n",
              "      <td>1989.0</td>\n",
              "      <td>Puzzle</td>\n",
              "      <td>Nintendo</td>\n",
              "      <td>23200000.0</td>\n",
              "      <td>2260000.0</td>\n",
              "      <td>4220000.0</td>\n",
              "      <td>580000.0</td>\n",
              "      <td>30260000.0</td>\n",
              "    </tr>\n",
              "    <tr>\n",
              "      <th>Mario Kart Wii</th>\n",
              "      <td>Wii</td>\n",
              "      <td>2008.0</td>\n",
              "      <td>Racing</td>\n",
              "      <td>Nintendo</td>\n",
              "      <td>15850000.0</td>\n",
              "      <td>12880000.0</td>\n",
              "      <td>3790000.0</td>\n",
              "      <td>3310000.0</td>\n",
              "      <td>35830000.0</td>\n",
              "    </tr>\n",
              "    <tr>\n",
              "      <th>Wii Sports Resort</th>\n",
              "      <td>Wii</td>\n",
              "      <td>2009.0</td>\n",
              "      <td>Sports</td>\n",
              "      <td>Nintendo</td>\n",
              "      <td>15750000.0</td>\n",
              "      <td>11010000.0</td>\n",
              "      <td>3280000.0</td>\n",
              "      <td>2960000.0</td>\n",
              "      <td>33000000.0</td>\n",
              "    </tr>\n",
              "    <tr>\n",
              "      <th>Kinect Adventures!</th>\n",
              "      <td>X360</td>\n",
              "      <td>2010.0</td>\n",
              "      <td>Misc</td>\n",
              "      <td>Microsoft Game Studios</td>\n",
              "      <td>14970000.0</td>\n",
              "      <td>4940000.0</td>\n",
              "      <td>240000.0</td>\n",
              "      <td>1670000.0</td>\n",
              "      <td>21820000.0</td>\n",
              "    </tr>\n",
              "    <tr>\n",
              "      <th>New Super Mario Bros. Wii</th>\n",
              "      <td>Wii</td>\n",
              "      <td>2009.0</td>\n",
              "      <td>Platform</td>\n",
              "      <td>Nintendo</td>\n",
              "      <td>14590000.0</td>\n",
              "      <td>7060000.0</td>\n",
              "      <td>4700000.0</td>\n",
              "      <td>2260000.0</td>\n",
              "      <td>28610000.0</td>\n",
              "    </tr>\n",
              "    <tr>\n",
              "      <th>Wii Play</th>\n",
              "      <td>Wii</td>\n",
              "      <td>2006.0</td>\n",
              "      <td>Misc</td>\n",
              "      <td>Nintendo</td>\n",
              "      <td>14030000.0</td>\n",
              "      <td>9200000.0</td>\n",
              "      <td>2930000.0</td>\n",
              "      <td>2850000.0</td>\n",
              "      <td>29010000.0</td>\n",
              "    </tr>\n",
              "    <tr>\n",
              "      <th>Super Mario World</th>\n",
              "      <td>SNES</td>\n",
              "      <td>1990.0</td>\n",
              "      <td>Platform</td>\n",
              "      <td>Nintendo</td>\n",
              "      <td>12780000.0</td>\n",
              "      <td>3750000.0</td>\n",
              "      <td>3540000.0</td>\n",
              "      <td>550000.0</td>\n",
              "      <td>20620000.0</td>\n",
              "    </tr>\n",
              "  </tbody>\n",
              "</table>\n",
              "</div>"
            ],
            "text/plain": [
              "                          Platform    Year  ... Other_Sales       Total\n",
              "Name                                        ...                        \n",
              "Wii Sports                     Wii  2006.0  ...   8460000.0  82740000.0\n",
              "Super Mario Bros.              NES  1985.0  ...    770000.0  40240000.0\n",
              "Duck Hunt                      NES  1984.0  ...    470000.0  28310000.0\n",
              "Tetris                          GB  1989.0  ...    580000.0  30260000.0\n",
              "Mario Kart Wii                 Wii  2008.0  ...   3310000.0  35830000.0\n",
              "Wii Sports Resort              Wii  2009.0  ...   2960000.0  33000000.0\n",
              "Kinect Adventures!            X360  2010.0  ...   1670000.0  21820000.0\n",
              "New Super Mario Bros. Wii      Wii  2009.0  ...   2260000.0  28610000.0\n",
              "Wii Play                       Wii  2006.0  ...   2850000.0  29010000.0\n",
              "Super Mario World             SNES  1990.0  ...    550000.0  20620000.0\n",
              "\n",
              "[10 rows x 9 columns]"
            ]
          },
          "metadata": {},
          "execution_count": 151
        }
      ]
    },
    {
      "cell_type": "code",
      "source": [
        "# 유럽 Top 10 \n",
        "\n",
        "EUtop = EU.head(10)\n",
        "#EUtop.set_index('Name',inplace=True,drop=True)\n",
        "EUtop['EU_Sales'].plot.barh();"
      ],
      "metadata": {
        "colab": {
          "base_uri": "https://localhost:8080/",
          "height": 278
        },
        "id": "5OqXnnn_O63c",
        "outputId": "964fc25f-6afe-48e0-c1d2-a7603422c30c"
      },
      "execution_count": null,
      "outputs": [
        {
          "output_type": "display_data",
          "data": {
            "image/png": "[encoded data removed]",
            "text/plain": [
              "<Figure size 432x288 with 1 Axes>"
            ]
          },
          "metadata": {
            "needs_background": "light"
          }
        }
      ]
    },
    {
      "cell_type": "code",
      "source": [
        "#일본 Top 10 \n",
        "# 하나의 게임이 인기가 많은 편이지만 다른 그룹과 아주 큰 차이가 있는 건 아님 \n",
        "\n",
        "JPtop10 = JPtotal.head(10)\n",
        "JPtop10.set_index('Name',inplace=True,drop=True)\n",
        "JPtop10['JP_Sales'].plot.barh();"
      ],
      "metadata": {
        "colab": {
          "base_uri": "https://localhost:8080/",
          "height": 278
        },
        "id": "fzaOjc0eUXe_",
        "outputId": "fa58f53e-ecb3-4b54-99ad-4a1dba84670b"
      },
      "execution_count": null,
      "outputs": [
        {
          "output_type": "display_data",
          "data": {
            "image/png": "[encoded data removed]",
            "text/plain": [
              "<Figure size 432x288 with 1 Axes>"
            ]
          },
          "metadata": {
            "needs_background": "light"
          }
        }
      ]
    },
    {
      "cell_type": "code",
      "source": [
        "# 그 외 Top5 \n",
        "\n",
        "Othertop10 = Othertotal.head(10)\n",
        "Othertop10.set_index('Name',inplace=True,drop=True)\n",
        "Othertop10['Other_Sales'].plot.barh();"
      ],
      "metadata": {
        "colab": {
          "base_uri": "https://localhost:8080/",
          "height": 278
        },
        "id": "y6dI-R-XOq1t",
        "outputId": "5acf59a3-171a-40fc-af2f-5ae114d5315b"
      },
      "execution_count": null,
      "outputs": [
        {
          "output_type": "display_data",
          "data": {
            "image/png": "[encoded data removed]",
            "text/plain": [
              "<Figure size 432x288 with 1 Axes>"
            ]
          },
          "metadata": {
            "needs_background": "light"
          }
        }
      ]
    },
    {
      "cell_type": "code",
      "source": [
        ""
      ],
      "metadata": {
        "id": "gLp2jCIZOOK5"
      },
      "execution_count": null,
      "outputs": []
    },
    {
      "cell_type": "code",
      "source": [
        "pop1 = df.loc[(df.Name == 'Wii Sports')]\n",
        "pop1 "
      ],
      "metadata": {
        "colab": {
          "base_uri": "https://localhost:8080/",
          "height": 81
        },
        "id": "UpOLSWKZL-ND",
        "outputId": "277036d7-f18f-41ff-85b0-f605061da4ff"
      },
      "execution_count": null,
      "outputs": [
        {
          "output_type": "execute_result",
          "data": {
            "text/html": [
              "<div>\n",
              "<style scoped>\n",
              "    .dataframe tbody tr th:only-of-type {\n",
              "        vertical-align: middle;\n",
              "    }\n",
              "\n",
              "    .dataframe tbody tr th {\n",
              "        vertical-align: top;\n",
              "    }\n",
              "\n",
              "    .dataframe thead th {\n",
              "        text-align: right;\n",
              "    }\n",
              "</style>\n",
              "<table border=\"1\" class=\"dataframe\">\n",
              "  <thead>\n",
              "    <tr style=\"text-align: right;\">\n",
              "      <th></th>\n",
              "      <th>Name</th>\n",
              "      <th>Platform</th>\n",
              "      <th>Year</th>\n",
              "      <th>Genre</th>\n",
              "      <th>Publisher</th>\n",
              "      <th>NA_Sales</th>\n",
              "      <th>EU_Sales</th>\n",
              "      <th>JP_Sales</th>\n",
              "      <th>Other_Sales</th>\n",
              "    </tr>\n",
              "  </thead>\n",
              "  <tbody>\n",
              "    <tr>\n",
              "      <th>2908</th>\n",
              "      <td>Wii Sports</td>\n",
              "      <td>Wii</td>\n",
              "      <td>2006.0</td>\n",
              "      <td>Sports</td>\n",
              "      <td>Nintendo</td>\n",
              "      <td>41490000.0</td>\n",
              "      <td>29020000.0</td>\n",
              "      <td>3770000.0</td>\n",
              "      <td>8460000.0</td>\n",
              "    </tr>\n",
              "  </tbody>\n",
              "</table>\n",
              "</div>"
            ],
            "text/plain": [
              "            Name Platform    Year  ...    EU_Sales   JP_Sales  Other_Sales\n",
              "2908  Wii Sports      Wii  2006.0  ...  29020000.0  3770000.0    8460000.0\n",
              "\n",
              "[1 rows x 9 columns]"
            ]
          },
          "metadata": {},
          "execution_count": 40
        }
      ]
    },
    {
      "cell_type": "code",
      "source": [
        "pop2 = df.loc[(df.Name == 'Pokemon Red/Pokemon Blue')]\n",
        "pop2"
      ],
      "metadata": {
        "colab": {
          "base_uri": "https://localhost:8080/",
          "height": 81
        },
        "id": "Kie7F5SsOc_d",
        "outputId": "981b4289-2db7-485e-ed7d-2a3cbf2774fc"
      },
      "execution_count": null,
      "outputs": [
        {
          "output_type": "execute_result",
          "data": {
            "text/html": [
              "<div>\n",
              "<style scoped>\n",
              "    .dataframe tbody tr th:only-of-type {\n",
              "        vertical-align: middle;\n",
              "    }\n",
              "\n",
              "    .dataframe tbody tr th {\n",
              "        vertical-align: top;\n",
              "    }\n",
              "\n",
              "    .dataframe thead th {\n",
              "        text-align: right;\n",
              "    }\n",
              "</style>\n",
              "<table border=\"1\" class=\"dataframe\">\n",
              "  <thead>\n",
              "    <tr style=\"text-align: right;\">\n",
              "      <th></th>\n",
              "      <th>Name</th>\n",
              "      <th>Platform</th>\n",
              "      <th>Year</th>\n",
              "      <th>Genre</th>\n",
              "      <th>Publisher</th>\n",
              "      <th>NA_Sales</th>\n",
              "      <th>EU_Sales</th>\n",
              "      <th>JP_Sales</th>\n",
              "      <th>Other_Sales</th>\n",
              "    </tr>\n",
              "  </thead>\n",
              "  <tbody>\n",
              "    <tr>\n",
              "      <th>7829</th>\n",
              "      <td>Pokemon Red/Pokemon Blue</td>\n",
              "      <td>GB</td>\n",
              "      <td>1996.0</td>\n",
              "      <td>Role-Playing</td>\n",
              "      <td>Nintendo</td>\n",
              "      <td>11270000.0</td>\n",
              "      <td>8890000.0</td>\n",
              "      <td>10220000.0</td>\n",
              "      <td>1000000.0</td>\n",
              "    </tr>\n",
              "  </tbody>\n",
              "</table>\n",
              "</div>"
            ],
            "text/plain": [
              "                          Name Platform  ...    JP_Sales Other_Sales\n",
              "7829  Pokemon Red/Pokemon Blue       GB  ...  10220000.0   1000000.0\n",
              "\n",
              "[1 rows x 9 columns]"
            ]
          },
          "metadata": {},
          "execution_count": 39
        }
      ]
    },
    {
      "cell_type": "code",
      "source": [
        "pop3 = df.loc[(df.Name == 'Grand Theft Auto: San Andreas')]\n",
        "pop3 "
      ],
      "metadata": {
        "colab": {
          "base_uri": "https://localhost:8080/",
          "height": 175
        },
        "id": "zCI0sXWDOJSs",
        "outputId": "69524277-1031-4dba-9dde-1fb8a2d100e6"
      },
      "execution_count": null,
      "outputs": [
        {
          "output_type": "execute_result",
          "data": {
            "text/html": [
              "<div>\n",
              "<style scoped>\n",
              "    .dataframe tbody tr th:only-of-type {\n",
              "        vertical-align: middle;\n",
              "    }\n",
              "\n",
              "    .dataframe tbody tr th {\n",
              "        vertical-align: top;\n",
              "    }\n",
              "\n",
              "    .dataframe thead th {\n",
              "        text-align: right;\n",
              "    }\n",
              "</style>\n",
              "<table border=\"1\" class=\"dataframe\">\n",
              "  <thead>\n",
              "    <tr style=\"text-align: right;\">\n",
              "      <th></th>\n",
              "      <th>Name</th>\n",
              "      <th>Platform</th>\n",
              "      <th>Year</th>\n",
              "      <th>Genre</th>\n",
              "      <th>Publisher</th>\n",
              "      <th>NA_Sales</th>\n",
              "      <th>EU_Sales</th>\n",
              "      <th>JP_Sales</th>\n",
              "      <th>Other_Sales</th>\n",
              "    </tr>\n",
              "  </thead>\n",
              "  <tbody>\n",
              "    <tr>\n",
              "      <th>3632</th>\n",
              "      <td>Grand Theft Auto: San Andreas</td>\n",
              "      <td>X360</td>\n",
              "      <td>2008.0</td>\n",
              "      <td>Action</td>\n",
              "      <td>Take-Two Interactive</td>\n",
              "      <td>80000.0</td>\n",
              "      <td>30000.0</td>\n",
              "      <td>0.0</td>\n",
              "      <td>10000.0</td>\n",
              "    </tr>\n",
              "    <tr>\n",
              "      <th>6060</th>\n",
              "      <td>Grand Theft Auto: San Andreas</td>\n",
              "      <td>PC</td>\n",
              "      <td>2005.0</td>\n",
              "      <td>Action</td>\n",
              "      <td>Take-Two Interactive</td>\n",
              "      <td>0.0</td>\n",
              "      <td>920000.0</td>\n",
              "      <td>0.0</td>\n",
              "      <td>50000.0</td>\n",
              "    </tr>\n",
              "    <tr>\n",
              "      <th>10420</th>\n",
              "      <td>Grand Theft Auto: San Andreas</td>\n",
              "      <td>XB</td>\n",
              "      <td>2005.0</td>\n",
              "      <td>Action</td>\n",
              "      <td>Take-Two Interactive</td>\n",
              "      <td>1260000.0</td>\n",
              "      <td>610000.0</td>\n",
              "      <td>0.0</td>\n",
              "      <td>90000.0</td>\n",
              "    </tr>\n",
              "    <tr>\n",
              "      <th>14669</th>\n",
              "      <td>Grand Theft Auto: San Andreas</td>\n",
              "      <td>PS2</td>\n",
              "      <td>2004.0</td>\n",
              "      <td>Action</td>\n",
              "      <td>Take-Two Interactive</td>\n",
              "      <td>9430000.0</td>\n",
              "      <td>400000.0</td>\n",
              "      <td>410000.0</td>\n",
              "      <td>10570000.0</td>\n",
              "    </tr>\n",
              "  </tbody>\n",
              "</table>\n",
              "</div>"
            ],
            "text/plain": [
              "                                Name Platform  ...  JP_Sales Other_Sales\n",
              "3632   Grand Theft Auto: San Andreas     X360  ...       0.0     10000.0\n",
              "6060   Grand Theft Auto: San Andreas       PC  ...       0.0     50000.0\n",
              "10420  Grand Theft Auto: San Andreas       XB  ...       0.0     90000.0\n",
              "14669  Grand Theft Auto: San Andreas      PS2  ...  410000.0  10570000.0\n",
              "\n",
              "[4 rows x 9 columns]"
            ]
          },
          "metadata": {},
          "execution_count": 38
        }
      ]
    },
    {
      "cell_type": "code",
      "source": [
        "pop3sum = pop3.groupby('Name').sum()\n",
        "pop3sum # 연도 데이터 수정하나 마나? "
      ],
      "metadata": {
        "colab": {
          "base_uri": "https://localhost:8080/",
          "height": 112
        },
        "id": "6_Jx_GrCO4xW",
        "outputId": "0954fe44-44a5-4d82-e2c3-3a1b4a342b02"
      },
      "execution_count": null,
      "outputs": [
        {
          "output_type": "execute_result",
          "data": {
            "text/html": [
              "<div>\n",
              "<style scoped>\n",
              "    .dataframe tbody tr th:only-of-type {\n",
              "        vertical-align: middle;\n",
              "    }\n",
              "\n",
              "    .dataframe tbody tr th {\n",
              "        vertical-align: top;\n",
              "    }\n",
              "\n",
              "    .dataframe thead th {\n",
              "        text-align: right;\n",
              "    }\n",
              "</style>\n",
              "<table border=\"1\" class=\"dataframe\">\n",
              "  <thead>\n",
              "    <tr style=\"text-align: right;\">\n",
              "      <th></th>\n",
              "      <th>Year</th>\n",
              "      <th>NA_Sales</th>\n",
              "      <th>EU_Sales</th>\n",
              "      <th>JP_Sales</th>\n",
              "      <th>Other_Sales</th>\n",
              "    </tr>\n",
              "    <tr>\n",
              "      <th>Name</th>\n",
              "      <th></th>\n",
              "      <th></th>\n",
              "      <th></th>\n",
              "      <th></th>\n",
              "      <th></th>\n",
              "    </tr>\n",
              "  </thead>\n",
              "  <tbody>\n",
              "    <tr>\n",
              "      <th>Grand Theft Auto: San Andreas</th>\n",
              "      <td>8022.0</td>\n",
              "      <td>10770000.0</td>\n",
              "      <td>1960000.0</td>\n",
              "      <td>410000.0</td>\n",
              "      <td>10720000.0</td>\n",
              "    </tr>\n",
              "  </tbody>\n",
              "</table>\n",
              "</div>"
            ],
            "text/plain": [
              "                                 Year    NA_Sales  ...  JP_Sales  Other_Sales\n",
              "Name                                               ...                       \n",
              "Grand Theft Auto: San Andreas  8022.0  10770000.0  ...  410000.0   10720000.0\n",
              "\n",
              "[1 rows x 5 columns]"
            ]
          },
          "metadata": {},
          "execution_count": 43
        }
      ]
    },
    {
      "cell_type": "code",
      "source": [
        "#Q4. 선택한 장르와 Total Sales 에 대한 상관계수 분석 \n",
        "\n",
        "import scipy.stats\n",
        "df6Genre"
      ],
      "metadata": {
        "colab": {
          "base_uri": "https://localhost:8080/",
          "height": 457
        },
        "id": "yf6OvN4KaTUd",
        "outputId": "2c6be6dc-bb84-4642-ed32-20b65d4a9159"
      },
      "execution_count": 25,
      "outputs": [
        {
          "output_type": "execute_result",
          "data": {
            "text/html": [
              "<div>\n",
              "<style scoped>\n",
              "    .dataframe tbody tr th:only-of-type {\n",
              "        vertical-align: middle;\n",
              "    }\n",
              "\n",
              "    .dataframe tbody tr th {\n",
              "        vertical-align: top;\n",
              "    }\n",
              "\n",
              "    .dataframe thead th {\n",
              "        text-align: right;\n",
              "    }\n",
              "</style>\n",
              "<table border=\"1\" class=\"dataframe\">\n",
              "  <thead>\n",
              "    <tr style=\"text-align: right;\">\n",
              "      <th></th>\n",
              "      <th>NA_Sales</th>\n",
              "      <th>EU_Sales</th>\n",
              "      <th>JP_Sales</th>\n",
              "      <th>Other_Sales</th>\n",
              "      <th>Total</th>\n",
              "    </tr>\n",
              "    <tr>\n",
              "      <th>Genre</th>\n",
              "      <th></th>\n",
              "      <th></th>\n",
              "      <th></th>\n",
              "      <th></th>\n",
              "      <th></th>\n",
              "    </tr>\n",
              "  </thead>\n",
              "  <tbody>\n",
              "    <tr>\n",
              "      <th>Strategy</th>\n",
              "      <td>68700000.0</td>\n",
              "      <td>45320000.0</td>\n",
              "      <td>49460000.0</td>\n",
              "      <td>11360000.0</td>\n",
              "      <td>1.748400e+08</td>\n",
              "    </tr>\n",
              "    <tr>\n",
              "      <th>Adventure</th>\n",
              "      <td>105660000.0</td>\n",
              "      <td>64050000.0</td>\n",
              "      <td>51950000.0</td>\n",
              "      <td>16810000.0</td>\n",
              "      <td>2.384700e+08</td>\n",
              "    </tr>\n",
              "    <tr>\n",
              "      <th>Puzzle</th>\n",
              "      <td>123350000.0</td>\n",
              "      <td>50730000.0</td>\n",
              "      <td>56870000.0</td>\n",
              "      <td>12520000.0</td>\n",
              "      <td>2.434700e+08</td>\n",
              "    </tr>\n",
              "    <tr>\n",
              "      <th>Simulation</th>\n",
              "      <td>182960000.0</td>\n",
              "      <td>113350000.0</td>\n",
              "      <td>63700000.0</td>\n",
              "      <td>31480000.0</td>\n",
              "      <td>3.914900e+08</td>\n",
              "    </tr>\n",
              "    <tr>\n",
              "      <th>Fighting</th>\n",
              "      <td>223200000.0</td>\n",
              "      <td>101220000.0</td>\n",
              "      <td>87340000.0</td>\n",
              "      <td>36640000.0</td>\n",
              "      <td>4.484000e+08</td>\n",
              "    </tr>\n",
              "    <tr>\n",
              "      <th>Racing</th>\n",
              "      <td>357190000.0</td>\n",
              "      <td>237100000.0</td>\n",
              "      <td>56400000.0</td>\n",
              "      <td>77100000.0</td>\n",
              "      <td>7.277900e+08</td>\n",
              "    </tr>\n",
              "    <tr>\n",
              "      <th>Misc</th>\n",
              "      <td>408050000.0</td>\n",
              "      <td>212360000.0</td>\n",
              "      <td>105270000.0</td>\n",
              "      <td>74040000.0</td>\n",
              "      <td>7.997200e+08</td>\n",
              "    </tr>\n",
              "    <tr>\n",
              "      <th>Platform</th>\n",
              "      <td>446440000.0</td>\n",
              "      <td>201610000.0</td>\n",
              "      <td>130650000.0</td>\n",
              "      <td>51530000.0</td>\n",
              "      <td>8.302300e+08</td>\n",
              "    </tr>\n",
              "    <tr>\n",
              "      <th>Role-Playing</th>\n",
              "      <td>319540000.0</td>\n",
              "      <td>183580000.0</td>\n",
              "      <td>344950000.0</td>\n",
              "      <td>56960000.0</td>\n",
              "      <td>9.050300e+08</td>\n",
              "    </tr>\n",
              "    <tr>\n",
              "      <th>Shooter</th>\n",
              "      <td>581920000.0</td>\n",
              "      <td>313050000.0</td>\n",
              "      <td>38280000.0</td>\n",
              "      <td>102650000.0</td>\n",
              "      <td>1.035900e+09</td>\n",
              "    </tr>\n",
              "    <tr>\n",
              "      <th>Sports</th>\n",
              "      <td>680520000.0</td>\n",
              "      <td>376480000.0</td>\n",
              "      <td>135370000.0</td>\n",
              "      <td>134670000.0</td>\n",
              "      <td>1.327040e+09</td>\n",
              "    </tr>\n",
              "    <tr>\n",
              "      <th>Action</th>\n",
              "      <td>874810000.0</td>\n",
              "      <td>522160000.0</td>\n",
              "      <td>157900000.0</td>\n",
              "      <td>186450000.0</td>\n",
              "      <td>1.741320e+09</td>\n",
              "    </tr>\n",
              "  </tbody>\n",
              "</table>\n",
              "</div>"
            ],
            "text/plain": [
              "                 NA_Sales     EU_Sales     JP_Sales  Other_Sales         Total\n",
              "Genre                                                                         \n",
              "Strategy       68700000.0   45320000.0   49460000.0   11360000.0  1.748400e+08\n",
              "Adventure     105660000.0   64050000.0   51950000.0   16810000.0  2.384700e+08\n",
              "Puzzle        123350000.0   50730000.0   56870000.0   12520000.0  2.434700e+08\n",
              "Simulation    182960000.0  113350000.0   63700000.0   31480000.0  3.914900e+08\n",
              "Fighting      223200000.0  101220000.0   87340000.0   36640000.0  4.484000e+08\n",
              "Racing        357190000.0  237100000.0   56400000.0   77100000.0  7.277900e+08\n",
              "Misc          408050000.0  212360000.0  105270000.0   74040000.0  7.997200e+08\n",
              "Platform      446440000.0  201610000.0  130650000.0   51530000.0  8.302300e+08\n",
              "Role-Playing  319540000.0  183580000.0  344950000.0   56960000.0  9.050300e+08\n",
              "Shooter       581920000.0  313050000.0   38280000.0  102650000.0  1.035900e+09\n",
              "Sports        680520000.0  376480000.0  135370000.0  134670000.0  1.327040e+09\n",
              "Action        874810000.0  522160000.0  157900000.0  186450000.0  1.741320e+09"
            ]
          },
          "metadata": {},
          "execution_count": 25
        }
      ]
    },
    {
      "cell_type": "code",
      "source": [
        ""
      ],
      "metadata": {
        "id": "XbypXbCmj0We"
      },
      "execution_count": 41,
      "outputs": []
    },
    {
      "cell_type": "code",
      "source": [
        ""
      ],
      "metadata": {
        "colab": {
          "base_uri": "https://localhost:8080/"
        },
        "id": "1byFC5Vlj7ab",
        "outputId": "0cb7ad23-4d2f-48ef-8825-51ecfa52c8da"
      },
      "execution_count": 43,
      "outputs": [
        {
          "output_type": "execute_result",
          "data": {
            "text/plain": [
              "0.9240916641508188"
            ]
          },
          "metadata": {},
          "execution_count": 43
        }
      ]
    },
    {
      "cell_type": "code",
      "source": [
        "x = [408050000.0,\t212360000.0,\t105270000.0,\t74040000.0, 799720000.0] #MISC \n",
        "x1 = [680520000.0,\t376480000.0,\t135370000.0,\t134670000.0,\t13270400000.0] #Sports\n",
        "x2 = [874810000.0,\t522160000.0,\t157900000.0,\t186450000.0,\t1741320000.0] #Action \n",
        "x3 = [105660000.0,\t64050000.0,\t51950000.0,\t16810000.0,\t238470000.0] #Adventure \n",
        "x4 = [319540000.0,\t183580000.0,\t344950000.0,\t56960000.0,\t905030000] #Role-Playing \n",
        "y = [4392950000, 2434130000, 1291020000, 797750000, 8915850000] #Total Sales "
      ],
      "metadata": {
        "id": "ih0SXI8dccBa"
      },
      "execution_count": 38,
      "outputs": []
    },
    {
      "cell_type": "code",
      "source": [
        "# MISC 와 Total Sales의 상관관계 \n",
        "cov2 = np.cov(x,y)[0,1].     #공분산 \n",
        "cor2 = np.corrcoef(x,y)[0,1] #상관계수\n",
        "cor2 #상관계수 "
      ],
      "metadata": {
        "colab": {
          "base_uri": "https://localhost:8080/"
        },
        "id": "1TR8nxJeeToW",
        "outputId": "06c78788-d8b6-4365-f96b-3b71ef3a2ad9"
      },
      "execution_count": 36,
      "outputs": [
        {
          "output_type": "execute_result",
          "data": {
            "text/plain": [
              "0.9995501000485616"
            ]
          },
          "metadata": {},
          "execution_count": 36
        }
      ]
    },
    {
      "cell_type": "code",
      "source": [
        "# Sports 와 Total Sales의 상관관계\n",
        "cov2 = np.cov(x1,y)[0,1]\n",
        "cor2 = np.corrcoef(x1,y)[0,1]\n",
        "cor2 #상관계수"
      ],
      "metadata": {
        "colab": {
          "base_uri": "https://localhost:8080/"
        },
        "id": "-q7wPJqDfSlL",
        "outputId": "e83c0a36-e0b8-429d-a697-f6c71b495e69"
      },
      "execution_count": 34,
      "outputs": [
        {
          "output_type": "execute_result",
          "data": {
            "text/plain": [
              "0.9230521640531281"
            ]
          },
          "metadata": {},
          "execution_count": 34
        }
      ]
    },
    {
      "cell_type": "code",
      "source": [
        "# Action 과 Total Sales의 상관관계 \n",
        "cov2 = np.cov(x2,y)[0,1]\n",
        "cor2 = np.corrcoef(x2,y)[0,1] \n",
        "cor2 #상관계수 "
      ],
      "metadata": {
        "colab": {
          "base_uri": "https://localhost:8080/"
        },
        "id": "i6j04h2SeWxW",
        "outputId": "533c74ab-9e00-4e91-8f7a-d4bbcc5421cb"
      },
      "execution_count": 37,
      "outputs": [
        {
          "output_type": "execute_result",
          "data": {
            "text/plain": [
              "0.9964427305562199"
            ]
          },
          "metadata": {},
          "execution_count": 37
        }
      ]
    },
    {
      "cell_type": "code",
      "source": [
        "# Adventure 와 Total Sales의 상관관계\n",
        "cov2 = np.cov(x3,y)[0,1]       #공분산\n",
        "cor2 = np.corrcoef(x3,y)[0,1]  #상관계수\n",
        "cor2"
      ],
      "metadata": {
        "colab": {
          "base_uri": "https://localhost:8080/"
        },
        "id": "iqOWyKFbf8j_",
        "outputId": "bc86d065-5803-48f0-c493-60cb446bff00"
      },
      "execution_count": 39,
      "outputs": [
        {
          "output_type": "execute_result",
          "data": {
            "text/plain": [
              "0.992616099676239"
            ]
          },
          "metadata": {},
          "execution_count": 39
        }
      ]
    },
    {
      "cell_type": "code",
      "source": [
        "# Role-Playing 과 Total Sales의 상관관계 \n",
        "cov2 = np.cov(x4,y)[0,1]      #공분산 \n",
        "cor2 = np.corrcoef(x4,y)[0,1] #상관관계 \n",
        "cor2"
      ],
      "metadata": {
        "colab": {
          "base_uri": "https://localhost:8080/"
        },
        "id": "aBilLX1XJRBe",
        "outputId": "bc719bd2-573c-4d28-fefd-d2d70d417650"
      },
      "execution_count": 44,
      "outputs": [
        {
          "output_type": "execute_result",
          "data": {
            "text/plain": [
              "0.9240916641508188"
            ]
          },
          "metadata": {},
          "execution_count": 44
        }
      ]
    }
  ]
}
